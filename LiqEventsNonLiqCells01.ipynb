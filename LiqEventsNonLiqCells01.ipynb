{
 "cells": [
  {
   "cell_type": "code",
   "execution_count": 2,
   "metadata": {},
   "outputs": [],
   "source": [
    "arcpy.env.overwriteOutput = True"
   ]
  },
  {
   "cell_type": "code",
   "execution_count": 12,
   "metadata": {},
   "outputs": [],
   "source": [
    "# Alex Chansky\n",
    "# 3/8/21, 3/9/21, 3/10/21\n",
    "# Purpose: Creating polygons of 1 km buffers and 15 km buffers away from points\n",
    "            # and polygons. Need to set up three separate functions to run depending on\n",
    "            # whether an event has only liq points, only liq polygons, or both.\n",
    "import arcpy\n",
    "from arcpy import env\n",
    "import pandas as pd\n",
    "import os\n",
    "arcpy.CheckOutExtension(\"Spatial\") # This checks out the license\n",
    "from arcpy.sa import *\n",
    "# If getting \"Not Signed into Portal\" message, should open up and log into ArcGIS Pro"
   ]
  },
  {
   "cell_type": "code",
   "execution_count": 3,
   "metadata": {},
   "outputs": [],
   "source": [
    "path = \"R:\\\\Liquefaction_RemoteSensing\\\\Projects\\\\GeospatialModel\\\\Liquefaction_inventories\\\\2021_liq_Alex\\\\\""
   ]
  },
  {
   "cell_type": "code",
   "execution_count": 4,
   "metadata": {},
   "outputs": [],
   "source": [
    "temp_path = \"C:\\\\Users\\\\achans01\\\\Downloads\\\\Arc\""
   ]
  },
  {
   "cell_type": "code",
   "execution_count": 13,
   "metadata": {},
   "outputs": [],
   "source": [
    "eq_list = pd.read_csv(\"R:\\\\Liquefaction_RemoteSensing\\\\Projects\\\\GeospatialModel\\\\Liquefaction_inventories\\\\2021_liq_Alex\\\\z_eq_names\\\\2021_eq_names.csv\")\n",
    "num_eq = eq_list.shape[0]\n",
    "eq_list_df = pd.DataFrame(eq_list)"
   ]
  },
  {
   "cell_type": "code",
   "execution_count": 6,
   "metadata": {},
   "outputs": [],
   "source": [
    "# PTS ONLY GEODESIC\n",
    "# Function for 1 km and 15 km buffers on Point geometries\n",
    "def ptsonly(eq_name):\n",
    "    points = path + eq_name + \"\\\\Liq_point.shp\"\n",
    "\n",
    "    # Removing specification of points or polys so that all buffers can be viewed as equivalent\n",
    "    one_km_buff = path + eq_name + \"\\\\1km_buffer.shp\"\n",
    "    fifteen_km_buff = path + eq_name + \"\\\\15km_buffer.shp\"\n",
    "    \n",
    "    arcpy.Buffer_analysis(points, one_km_buff, \"1000 meters\", \"\", \"\", \"ALL\",\"\",\"GEODESIC\")\n",
    "    arcpy.Buffer_analysis(points, fifteen_km_buff, \"15000 meters\", \"\", \"\", \"ALL\",\"\",\"GEODESIC\")"
   ]
  },
  {
   "cell_type": "code",
   "execution_count": 7,
   "metadata": {},
   "outputs": [],
   "source": [
    "# POLY ONLY GEODESIC\n",
    "# Function for 1 km and 15 km buffers on Poly geometries\n",
    "def polyonly(eq_name):\n",
    "    poly = path + eq_name + \"\\\\Liq_poly.shp\"\n",
    "    \n",
    "    # Removing specification of points or polys so that all buffers can be viewed as equivalent\n",
    "    one_km_buff = path + eq_name + \"\\\\1km_buffer.shp\"\n",
    "    fifteen_km_buff = path + eq_name + \"\\\\15km_buffer.shp\"\n",
    "    print(\"a\")\n",
    "    \n",
    "    # Building wide buffer around small buffer is MUCH quicker than building wide buffer from polygons, even if merged\n",
    "    arcpy.Buffer_analysis(poly, one_km_buff, \"1000 meters\", \"\", \"\", \"ALL\",\"\",\"GEODESIC\")\n",
    "    print(\"b\")\n",
    "    # For some polygon layers, Arc is struggling to produce this larger buffer. So we will\n",
    "    # use the smaller buffer and create a 14km buffer on top of it\n",
    "    arcpy.Buffer_analysis(one_km_buff, fifteen_km_buff, \"14000 meters\", \"\", \"\", \"ALL\",\"\",\"GEODESIC\")\n",
    "    print(\"c\")"
   ]
  },
  {
   "cell_type": "code",
   "execution_count": 8,
   "metadata": {},
   "outputs": [],
   "source": [
    "# BOTH GEODESIC\n",
    "# Function for 1 km and 15 km buffers on Both geometries\n",
    "def both(eq_name):\n",
    "    points = path + eq_name + \"\\\\Liq_point.shp\"\n",
    "    poly = path + eq_name + \"\\\\Liq_poly.shp\"\n",
    "    print(\"a\")\n",
    "    \n",
    "    one_km_buff_pts = temp_path + \"\\\\1km_buffer_pts.shp\"\n",
    "    arcpy.Buffer_analysis(points, one_km_buff_pts, \"1000 meters\", \"\", \"\", \"ALL\",\"\",\"GEODESIC\")\n",
    "    print(\"b\")\n",
    "    \n",
    "    one_km_buff_poly = temp_path + \"\\\\1km_buffer_poly.shp\"\n",
    "    arcpy.Buffer_analysis(poly, one_km_buff_poly, \"1000 meters\", \"\", \"\", \"ALL\",\"\",\"GEODESIC\")\n",
    "    print(\"c\")\n",
    "    \n",
    "    one_km_buff = path + eq_name + \"\\\\1km_buffer.shp\"\n",
    "    fifteen_km_buff = path + eq_name + \"\\\\15km_buffer.shp\"\n",
    "    print(\"d\")\n",
    "    \n",
    "    arcpy.management.Merge([one_km_buff_pts, one_km_buff_poly], one_km_buff)\n",
    "    arcpy.Buffer_analysis(one_km_buff, fifteen_km_buff, \"14000 meters\", \"\", \"\", \"ALL\",\"\",\"GEODESIC\")"
   ]
  },
  {
   "cell_type": "code",
   "execution_count": 10,
   "metadata": {},
   "outputs": [],
   "source": [
    "# Some reason overwrite is not working, so these are necessary to ensure everything in temp_path is deleted\n",
    "def deletey(): \n",
    "    one_km_buff_pts = temp_path + \"\\\\1km_buffer_pts.shp\"\n",
    "    fifteen_km_buff_pts = temp_path + \"\\\\15km_buffer_pts.shp\"\n",
    "    one_km_buff_poly = temp_path + \"\\\\1km_buffer_poly.shp\"\n",
    "    fifteen_km_buff_poly = temp_path + \"\\\\15km_buffer_poly.shp\"\n",
    "\n",
    "    arcpy.Delete_management(one_km_buff_pts)\n",
    "    arcpy.Delete_management(fifteen_km_buff_pts)\n",
    "    arcpy.Delete_management(one_km_buff_poly)\n",
    "    arcpy.Delete_management(fifteen_km_buff_poly)"
   ]
  },
  {
   "cell_type": "code",
   "execution_count": 14,
   "metadata": {},
   "outputs": [
    {
     "name": "stdout",
     "output_type": "stream",
     "text": [
      "a\n",
      "b\n",
      "c\n",
      "d\n",
      "Successfully completed 35, Nihonkai\n"
     ]
    }
   ],
   "source": [
    "for x in range(35,36):\n",
    "    eq_name = eq_list['NewFolder'][x]\n",
    "    if eq_list['Geometry'][x] == \"PtsOnly\" and eq_list['Working'][x]==1:\n",
    "        ptsonly(eq_name)\n",
    "    elif eq_list['Geometry'][x] == \"PolyOnly\" and eq_list['Working'][x]==1:\n",
    "        polyonly(eq_name)\n",
    "    elif eq_list['Geometry'][x] == \"Both\" and eq_list['Working'][x]==1:\n",
    "        both(eq_name)\n",
    "    else:\n",
    "        pass\n",
    "    \n",
    "    \n",
    "    # Some reason overwrite is not working, so these are necessary to ensure everything in temp_path is deleted\n",
    "    deletey()\n",
    "    print(\"Successfully completed \" + str(x) + \", \" + eq_name)\n",
    "    \n",
    "    # Ignore long bug stating \"<built-in function isinstance> returned a result with an error set\"\n",
    "    # Output of this will be adequate buffers for all events  "
   ]
  },
  {
   "cell_type": "code",
   "execution_count": null,
   "metadata": {},
   "outputs": [],
   "source": []
  }
 ],
 "metadata": {
  "kernelspec": {
   "display_name": "Python 3",
   "language": "python",
   "name": "python3"
  },
  "language_info": {
   "codemirror_mode": {
    "name": "ipython",
    "version": 3
   },
   "file_extension": ".py",
   "mimetype": "text/x-python",
   "name": "python",
   "nbconvert_exporter": "python",
   "pygments_lexer": "ipython3",
   "version": "3.7.3"
  }
 },
 "nbformat": 4,
 "nbformat_minor": 2
}
