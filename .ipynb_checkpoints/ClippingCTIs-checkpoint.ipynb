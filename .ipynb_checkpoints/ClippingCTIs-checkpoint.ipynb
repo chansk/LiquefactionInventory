{
 "cells": [
  {
   "cell_type": "code",
   "execution_count": 1,
   "metadata": {},
   "outputs": [],
   "source": [
    "# woogady woggidy"
   ]
  },
  {
   "cell_type": "code",
   "execution_count": null,
   "metadata": {},
   "outputs": [],
   "source": [
    "# Alex Chansky\n",
    "# 2/19/21, 2/20/21\n",
    "# Purpose: Extract CTI, define with WGS 1984 (4326), then project"
   ]
  },
  {
   "cell_type": "code",
   "execution_count": 1,
   "metadata": {},
   "outputs": [],
   "source": [
    "# Import system modules\n",
    "import pandas as pd \n",
    "import os\n",
    "import arcpy\n",
    "from arcpy.sa import *"
   ]
  },
  {
   "cell_type": "code",
   "execution_count": 2,
   "metadata": {},
   "outputs": [],
   "source": [
    "arcpy.env.overwriteOutput = True"
   ]
  },
  {
   "cell_type": "code",
   "execution_count": 3,
   "metadata": {},
   "outputs": [],
   "source": [
    "# from pathlib import Path\n",
    "# downloads_path = str(Path.home() / \"Downloads\")\n",
    "local_folders = \"R:\\Liquefaction_RemoteSensing\\Projects\\GeospatialModel\\local_data_2021_Alex\""
   ]
  },
  {
   "cell_type": "code",
   "execution_count": 4,
   "metadata": {},
   "outputs": [],
   "source": [
    "# List of quakes and associated projections\n",
    "eq_list = pd.read_csv(\"R:\\Liquefaction_RemoteSensing\\Projects\\GeospatialModel\\global_data_2020\\eq_projections.csv\")"
   ]
  },
  {
   "cell_type": "code",
   "execution_count": 5,
   "metadata": {},
   "outputs": [],
   "source": [
    "# Locations of PGA and PGV\n",
    "input_path = \"R:\\Liquefaction_RemoteSensing\\Projects\\GeospatialModel\\global_data_2020\\PGA_PGV\""
   ]
  },
  {
   "cell_type": "code",
   "execution_count": 6,
   "metadata": {},
   "outputs": [],
   "source": [
    "# Identify DEMs and associated standard deviations\n",
    "mosaic = local_folders + \"\\_GlobalRasters\\CTI_Mosaic_03.tif\""
   ]
  },
  {
   "cell_type": "code",
   "execution_count": 7,
   "metadata": {},
   "outputs": [],
   "source": [
    "# Number of events\n",
    "num_eq = eq_list.shape[0]"
   ]
  },
  {
   "cell_type": "code",
   "execution_count": 8,
   "metadata": {},
   "outputs": [],
   "source": [
    "# Making sure we use smaller cell size (for next group (mosaic has smaller cell size than PGA))\n",
    "arcpy.env.cellSize = \"MINOF\""
   ]
  },
  {
   "cell_type": "code",
   "execution_count": 9,
   "metadata": {},
   "outputs": [],
   "source": [
    "sr = arcpy.SpatialReference(4326)"
   ]
  },
  {
   "cell_type": "code",
   "execution_count": 13,
   "metadata": {},
   "outputs": [],
   "source": [
    "# Australia/New Zealand region not included in rest of CTI. So if we want to address their\n",
    "    # region, we must use the following line\n",
    "# mosaic = local_folders + \"\\\\_GlobalRasters\\\\au_cti_9_1\\\\au_cti_9_1.tif\""
   ]
  },
  {
   "cell_type": "code",
   "execution_count": 14,
   "metadata": {},
   "outputs": [
    {
     "name": "stdout",
     "output_type": "stream",
     "text": [
      "Christchurch\n",
      "Darfield\n"
     ]
    }
   ],
   "source": [
    "# Specifically for Australian events\n",
    "\n",
    "for x in range(7,9):\n",
    "    eq_name = eq_list['NewFolder'][x]\n",
    "    eq_proj = eq_list['ProjectionCode'][x]\n",
    "    pga = input_path + \"\\\\\" + eq_name + \"\\\\pga_mean.flt\"\n",
    "\n",
    "    out_CTI = ExtractByMask(mosaic, pga)\n",
    "    out_CTI.save(local_folders+\"\\\\\"+eq_name+\"\\\\\"+eq_name+\"_CTI_clipped.tif\")\n",
    "    arcpy.DefineProjection_management(out_CTI, sr)\n",
    "    out_CTI_proj = local_folders+\"\\\\\"+eq_name+\"\\\\\"+eq_name+\"_CTI_clipped_proj.tif\"\n",
    "    arcpy.management.ProjectRaster(out_CTI, out_CTI_proj, int(eq_proj),\"BILINEAR\")\n",
    "    \n",
    "    arcpy.management.Delete(out_CTI)\n",
    "    print(eq_name)"
   ]
  },
  {
   "cell_type": "code",
   "execution_count": 10,
   "metadata": {},
   "outputs": [],
   "source": [
    "# for x in range(1,num_eq):\n",
    "    eq_name = eq_list['NewFolder'][x]\n",
    "    eq_proj = eq_list['ProjectionCode'][x]\n",
    "    pga = input_path + \"\\\\\" + eq_name + \"\\\\pga_mean.flt\"\n",
    "    \n",
    "    # Create folder\n",
    "    #out_folder_path = \"R:\\Liquefaction_RemoteSensing\\Projects\\GeospatialModel\\local_data_2021_Alex\" \n",
    "    #arcpy.CreateFolder_management(out_folder_path, eq_name)\n",
    "\n",
    "    # Extract DEM, Define and project\n",
    "    out_CTI = ExtractByMask(mosaic, pga)\n",
    "    out_CTI.save(local_folders+\"\\\\\"+eq_name+\"\\\\\"+eq_name+\"_CTI_clipped.tif\")\n",
    "    arcpy.DefineProjection_management(out_CTI, sr)\n",
    "    out_CTI_proj = local_folders+\"\\\\\"+eq_name+\"\\\\\"+eq_name+\"_CTI_clipped_proj.tif\"\n",
    "    arcpy.management.ProjectRaster(out_CTI, out_CTI_proj, int(eq_proj),\"BILINEAR\")\n",
    "    \n",
    "    arcpy.management.Delete(out_CTI)"
   ]
  }
 ],
 "metadata": {
  "kernelspec": {
   "display_name": "Python 3",
   "language": "python",
   "name": "python3"
  },
  "language_info": {
   "codemirror_mode": {
    "name": "ipython",
    "version": 3
   },
   "file_extension": ".py",
   "mimetype": "text/x-python",
   "name": "python",
   "nbconvert_exporter": "python",
   "pygments_lexer": "ipython3",
   "version": "3.6.8"
  }
 },
 "nbformat": 4,
 "nbformat_minor": 2
}
