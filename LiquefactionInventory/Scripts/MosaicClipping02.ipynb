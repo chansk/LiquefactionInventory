{
 "cells": [
  {
   "cell_type": "code",
   "execution_count": null,
   "metadata": {},
   "outputs": [],
   "source": [
    "# Alex Chansky\n",
    "# 2/19/21, 2/20/21\n",
    "# Purpose: Create new folder of quake name, extract DEM and place there"
   ]
  },
  {
   "cell_type": "code",
   "execution_count": 18,
   "metadata": {},
   "outputs": [],
   "source": [
    "# Import system modules\n",
    "import pandas as pd \n",
    "import os\n",
    "import arcpy\n",
    "from arcpy.sa import *"
   ]
  },
  {
   "cell_type": "code",
   "execution_count": 19,
   "metadata": {},
   "outputs": [],
   "source": [
    "arcpy.env.overwriteOutput = True"
   ]
  },
  {
   "cell_type": "code",
   "execution_count": 20,
   "metadata": {},
   "outputs": [],
   "source": [
    "from pathlib import Path\n",
    "downloads_path = str(Path.home() / \"Downloads\")"
   ]
  },
  {
   "cell_type": "code",
   "execution_count": 21,
   "metadata": {},
   "outputs": [],
   "source": [
    "# List of quakes and associated projections\n",
    "eq_list = pd.read_csv(\"R:\\Liquefaction_RemoteSensing\\Projects\\GeospatialModel\\global_data_2020\\eq_projections.csv\")"
   ]
  },
  {
   "cell_type": "code",
   "execution_count": 22,
   "metadata": {},
   "outputs": [],
   "source": [
    "# Locations of PGA and PGV\n",
    "input_path = \"R:\\Liquefaction_RemoteSensing\\Projects\\GeospatialModel\\global_data_2020\\PGA_PGV\""
   ]
  },
  {
   "cell_type": "code",
   "execution_count": 6,
   "metadata": {},
   "outputs": [],
   "source": [
    "# Identify DEMs and associated standard deviations\n",
    "dem_mosaic = downloads_path + \"\\\\DEM_Mosaic.tif\"\n",
    "dem_std_mosaic = downloads_path + \"\\\\DEM_Mosaic_STDs.tif\""
   ]
  },
  {
   "cell_type": "code",
   "execution_count": 23,
   "metadata": {},
   "outputs": [],
   "source": [
    "# Number of events\n",
    "num_eq = eq_list.shape[0]"
   ]
  },
  {
   "cell_type": "code",
   "execution_count": 24,
   "metadata": {},
   "outputs": [],
   "source": [
    "# Making sure we use smaller cell size (for next group (mosaic has smaller cell size than PGA))\n",
    "arcpy.env.cellSize = \"MINOF\""
   ]
  },
  {
   "cell_type": "code",
   "execution_count": 25,
   "metadata": {},
   "outputs": [],
   "source": [
    "sr = arcpy.SpatialReference(4326)"
   ]
  },
  {
   "cell_type": "code",
   "execution_count": 12,
   "metadata": {},
   "outputs": [],
   "source": [
    "for x in range(17,num_eq):\n",
    "    eq_name = eq_list['NewFolder'][x]\n",
    "    eq_proj = eq_list['ProjectionCode'][x]\n",
    "    pga = input_path + \"\\\\\" + eq_name + \"\\\\pga_mean.flt\"\n",
    "    \n",
    "    # Create folder\n",
    "    out_folder_path = \"R:\\Liquefaction_RemoteSensing\\Projects\\GeospatialModel\\local_data_2021_Alex\" \n",
    "    arcpy.CreateFolder_management(out_folder_path, eq_name)\n",
    "\n",
    "    # Extract DEM, Define and project\n",
    "    out_DEM = ExtractByMask(dem_mosaic, pga)\n",
    "    out_DEM.save(out_folder_path+\"\\\\\"+eq_name+\"\\\\\"+eq_name+\"_GMTED_clipped.tif\")\n",
    "    arcpy.DefineProjection_management(out_DEM, sr)\n",
    "    out_DEM_proj = out_folder_path+\"\\\\\"+eq_name+\"\\\\\"+eq_name+\"_GMTED_clipped_proj.tif\"\n",
    "    arcpy.management.ProjectRaster(out_DEM, out_DEM_proj, int(eq_proj),\"BILINEAR\")\n",
    "    \n",
    "    \n",
    "    # Extract DEM std dev, define and project\n",
    "    out_DEM_std = ExtractByMask(dem_std_mosaic, pga)\n",
    "    out_DEM_std.save(out_folder_path+\"\\\\\"+eq_name+\"\\\\\"+eq_name+\"_GMTED_std_clipped.tif\")\n",
    "    arcpy.DefineProjection_management(out_DEM_std, sr)\n",
    "    out_DEM_std_proj = out_folder_path+\"\\\\\"+eq_name+\"\\\\\"+eq_name+\"_GMTED_std_clipped_proj.tif\"\n",
    "    arcpy.management.ProjectRaster(out_DEM_std, out_DEM_std_proj, int(eq_proj),\"BILINEAR\")"
   ]
  },
  {
   "cell_type": "code",
   "execution_count": 35,
   "metadata": {
    "collapsed": true
   },
   "outputs": [
    {
     "ename": "ExecuteError",
     "evalue": "Failed to execute. Parameters are not valid.\nUndefined geographic transformation.\nFailed to execute (ProjectRaster).\n",
     "output_type": "error",
     "traceback": [
      "\u001b[1;31m---------------------------------------------------------------------------\u001b[0m",
      "\u001b[1;31mExecuteError\u001b[0m                              Traceback (most recent call last)",
      "\u001b[1;32m<ipython-input-35-ab1f02b27e70>\u001b[0m in \u001b[0;36m<module>\u001b[1;34m\u001b[0m\n\u001b[0;32m     10\u001b[0m \u001b[1;33m\u001b[0m\u001b[0m\n\u001b[0;32m     11\u001b[0m     \u001b[1;31m#arcpy.DefineProjection_management(slope, sr)\u001b[0m\u001b[1;33m\u001b[0m\u001b[1;33m\u001b[0m\u001b[1;33m\u001b[0m\u001b[0m\n\u001b[1;32m---> 12\u001b[1;33m     \u001b[0marcpy\u001b[0m\u001b[1;33m.\u001b[0m\u001b[0mmanagement\u001b[0m\u001b[1;33m.\u001b[0m\u001b[0mProjectRaster\u001b[0m\u001b[1;33m(\u001b[0m\u001b[0mslope\u001b[0m\u001b[1;33m,\u001b[0m \u001b[0mslope_proj\u001b[0m\u001b[1;33m,\u001b[0m \u001b[0mint\u001b[0m\u001b[1;33m(\u001b[0m\u001b[0meq_proj\u001b[0m\u001b[1;33m)\u001b[0m\u001b[1;33m,\u001b[0m\u001b[1;34m\"BILINEAR\"\u001b[0m\u001b[1;33m)\u001b[0m\u001b[1;33m\u001b[0m\u001b[1;33m\u001b[0m\u001b[0m\n\u001b[0m\u001b[0;32m     13\u001b[0m \u001b[1;33m\u001b[0m\u001b[0m\n\u001b[0;32m     14\u001b[0m     \u001b[0mTRI\u001b[0m \u001b[1;33m=\u001b[0m \u001b[0mout_folder_path\u001b[0m \u001b[1;33m+\u001b[0m \u001b[1;34m\"\\\\\"\u001b[0m\u001b[1;33m+\u001b[0m\u001b[0meq_name\u001b[0m\u001b[1;33m+\u001b[0m\u001b[1;34m\"\\\\\"\u001b[0m\u001b[1;33m+\u001b[0m\u001b[0meq_name\u001b[0m\u001b[1;33m+\u001b[0m\u001b[1;34m\"_TRI.tif\"\u001b[0m\u001b[1;33m\u001b[0m\u001b[1;33m\u001b[0m\u001b[0m\n",
      "\u001b[1;32mC:\\Program Files\\ArcGIS\\Pro\\Resources\\ArcPy\\arcpy\\management.py\u001b[0m in \u001b[0;36mProjectRaster\u001b[1;34m(in_raster, out_raster, out_coor_system, resampling_type, cell_size, geographic_transform, Registration_Point, in_coor_system, vertical)\u001b[0m\n\u001b[0;32m  10918\u001b[0m         \u001b[1;32mreturn\u001b[0m \u001b[0mretval\u001b[0m\u001b[1;33m\u001b[0m\u001b[1;33m\u001b[0m\u001b[0m\n\u001b[0;32m  10919\u001b[0m     \u001b[1;32mexcept\u001b[0m \u001b[0mException\u001b[0m \u001b[1;32mas\u001b[0m \u001b[0me\u001b[0m\u001b[1;33m:\u001b[0m\u001b[1;33m\u001b[0m\u001b[1;33m\u001b[0m\u001b[0m\n\u001b[1;32m> 10920\u001b[1;33m         \u001b[1;32mraise\u001b[0m \u001b[0me\u001b[0m\u001b[1;33m\u001b[0m\u001b[1;33m\u001b[0m\u001b[0m\n\u001b[0m\u001b[0;32m  10921\u001b[0m \u001b[1;33m\u001b[0m\u001b[0m\n\u001b[0;32m  10922\u001b[0m \u001b[1;33m@\u001b[0m\u001b[0mgptooldoc\u001b[0m\u001b[1;33m(\u001b[0m\u001b[1;34m'RegisterRaster_management'\u001b[0m\u001b[1;33m,\u001b[0m \u001b[1;32mNone\u001b[0m\u001b[1;33m)\u001b[0m\u001b[1;33m\u001b[0m\u001b[1;33m\u001b[0m\u001b[0m\n",
      "\u001b[1;32mC:\\Program Files\\ArcGIS\\Pro\\Resources\\ArcPy\\arcpy\\management.py\u001b[0m in \u001b[0;36mProjectRaster\u001b[1;34m(in_raster, out_raster, out_coor_system, resampling_type, cell_size, geographic_transform, Registration_Point, in_coor_system, vertical)\u001b[0m\n\u001b[0;32m  10915\u001b[0m     \u001b[1;32mfrom\u001b[0m \u001b[0marcpy\u001b[0m\u001b[1;33m.\u001b[0m\u001b[0marcobjects\u001b[0m\u001b[1;33m.\u001b[0m\u001b[0marcobjectconversion\u001b[0m \u001b[1;32mimport\u001b[0m \u001b[0mconvertArcObjectToPythonObject\u001b[0m\u001b[1;33m\u001b[0m\u001b[1;33m\u001b[0m\u001b[0m\n\u001b[0;32m  10916\u001b[0m     \u001b[1;32mtry\u001b[0m\u001b[1;33m:\u001b[0m\u001b[1;33m\u001b[0m\u001b[1;33m\u001b[0m\u001b[0m\n\u001b[1;32m> 10917\u001b[1;33m         \u001b[0mretval\u001b[0m \u001b[1;33m=\u001b[0m \u001b[0mconvertArcObjectToPythonObject\u001b[0m\u001b[1;33m(\u001b[0m\u001b[0mgp\u001b[0m\u001b[1;33m.\u001b[0m\u001b[0mProjectRaster_management\u001b[0m\u001b[1;33m(\u001b[0m\u001b[1;33m*\u001b[0m\u001b[0mgp_fixargs\u001b[0m\u001b[1;33m(\u001b[0m\u001b[1;33m(\u001b[0m\u001b[0min_raster\u001b[0m\u001b[1;33m,\u001b[0m \u001b[0mout_raster\u001b[0m\u001b[1;33m,\u001b[0m \u001b[0mout_coor_system\u001b[0m\u001b[1;33m,\u001b[0m \u001b[0mresampling_type\u001b[0m\u001b[1;33m,\u001b[0m \u001b[0mcell_size\u001b[0m\u001b[1;33m,\u001b[0m \u001b[0mgeographic_transform\u001b[0m\u001b[1;33m,\u001b[0m \u001b[0mRegistration_Point\u001b[0m\u001b[1;33m,\u001b[0m \u001b[0min_coor_system\u001b[0m\u001b[1;33m,\u001b[0m \u001b[0mvertical\u001b[0m\u001b[1;33m)\u001b[0m\u001b[1;33m,\u001b[0m \u001b[1;32mTrue\u001b[0m\u001b[1;33m)\u001b[0m\u001b[1;33m)\u001b[0m\u001b[1;33m)\u001b[0m\u001b[1;33m\u001b[0m\u001b[1;33m\u001b[0m\u001b[0m\n\u001b[0m\u001b[0;32m  10918\u001b[0m         \u001b[1;32mreturn\u001b[0m \u001b[0mretval\u001b[0m\u001b[1;33m\u001b[0m\u001b[1;33m\u001b[0m\u001b[0m\n\u001b[0;32m  10919\u001b[0m     \u001b[1;32mexcept\u001b[0m \u001b[0mException\u001b[0m \u001b[1;32mas\u001b[0m \u001b[0me\u001b[0m\u001b[1;33m:\u001b[0m\u001b[1;33m\u001b[0m\u001b[1;33m\u001b[0m\u001b[0m\n",
      "\u001b[1;32mC:\\Program Files\\ArcGIS\\Pro\\Resources\\ArcPy\\arcpy\\geoprocessing\\_base.py\u001b[0m in \u001b[0;36m<lambda>\u001b[1;34m(*args)\u001b[0m\n\u001b[0;32m    504\u001b[0m         \u001b[0mval\u001b[0m \u001b[1;33m=\u001b[0m \u001b[0mgetattr\u001b[0m\u001b[1;33m(\u001b[0m\u001b[0mself\u001b[0m\u001b[1;33m.\u001b[0m\u001b[0m_gp\u001b[0m\u001b[1;33m,\u001b[0m \u001b[0mattr\u001b[0m\u001b[1;33m)\u001b[0m\u001b[1;33m\u001b[0m\u001b[1;33m\u001b[0m\u001b[0m\n\u001b[0;32m    505\u001b[0m         \u001b[1;32mif\u001b[0m \u001b[0mcallable\u001b[0m\u001b[1;33m(\u001b[0m\u001b[0mval\u001b[0m\u001b[1;33m)\u001b[0m\u001b[1;33m:\u001b[0m\u001b[1;33m\u001b[0m\u001b[1;33m\u001b[0m\u001b[0m\n\u001b[1;32m--> 506\u001b[1;33m             \u001b[1;32mreturn\u001b[0m \u001b[1;32mlambda\u001b[0m \u001b[1;33m*\u001b[0m\u001b[0margs\u001b[0m\u001b[1;33m:\u001b[0m \u001b[0mval\u001b[0m\u001b[1;33m(\u001b[0m\u001b[1;33m*\u001b[0m\u001b[0mgp_fixargs\u001b[0m\u001b[1;33m(\u001b[0m\u001b[0margs\u001b[0m\u001b[1;33m,\u001b[0m \u001b[1;32mTrue\u001b[0m\u001b[1;33m)\u001b[0m\u001b[1;33m)\u001b[0m\u001b[1;33m\u001b[0m\u001b[1;33m\u001b[0m\u001b[0m\n\u001b[0m\u001b[0;32m    507\u001b[0m         \u001b[1;32melse\u001b[0m\u001b[1;33m:\u001b[0m\u001b[1;33m\u001b[0m\u001b[1;33m\u001b[0m\u001b[0m\n\u001b[0;32m    508\u001b[0m             \u001b[1;32mreturn\u001b[0m \u001b[0mconvertArcObjectToPythonObject\u001b[0m\u001b[1;33m(\u001b[0m\u001b[0mval\u001b[0m\u001b[1;33m)\u001b[0m\u001b[1;33m\u001b[0m\u001b[1;33m\u001b[0m\u001b[0m\n",
      "\u001b[1;31mExecuteError\u001b[0m: Failed to execute. Parameters are not valid.\nUndefined geographic transformation.\nFailed to execute (ProjectRaster).\n"
     ]
    }
   ],
   "source": [
    "# Does not work for some reason but next cell does \n",
    "# Projecting TRI, TPI, slope\n",
    "for x in range(0,1)\n",
    "    #eq_name = eq_list['NewFolder'][x]\n",
    "    #eq_proj = eq_list['ProjectionCode'][x]\n",
    "    \n",
    "    out_folder_path = \"R:\\Liquefaction_RemoteSensing\\Projects\\GeospatialModel\\local_data_2021_Alex\"\n",
    "    \n",
    "    slope = out_folder_path + \"\\\\\"+eq_name+\"\\\\\"+eq_name+\"_slope.tif\"\n",
    "    slope_proj = out_folder_path + \"\\\\\"+eq_name+\"\\\\\"+eq_name+\"_slope_proj.tif\"\n",
    "\n",
    "    arcpy.DefineProjection_management(slope, sr)\n",
    "    arcpy.management.ProjectRaster(slope, slope_proj, int(eq_proj),\"BILINEAR\")\n",
    "    \n",
    "    TRI = out_folder_path + \"\\\\\"+eq_name+\"\\\\\"+eq_name+\"_TRI.tif\"\n",
    "    TRI_proj = out_folder_path + \"\\\\\"+eq_name+\"\\\\\"+eq_name+\"_TRI_proj.tif\"\n",
    "    \n",
    "    arcpy.DefineProjection_management(TRI, sr)\n",
    "    arcpy.management.ProjectRaster(TRI, TRI_proj, int(eq_proj),\"BILINEAR\")\n",
    "    \n",
    "    TPI = out_folder_path + \"\\\\\"+eq_name+\"\\\\\"+eq_name+\"_TPI.tif\"\n",
    "    TPI_proj = out_folder_path + \"\\\\\"+eq_name+\"\\\\\"+eq_name+\"_TPI_proj.tif\"\n",
    "    \n",
    "    arcpy.DefineProjection_management(TPI, sr)\n",
    "    arcpy.management.ProjectRaster(TPI, TPI_proj, int(eq_proj),\"BILINEAR\")"
   ]
  },
  {
   "cell_type": "code",
   "execution_count": 39,
   "metadata": {},
   "outputs": [],
   "source": [
    "# Projecting TRI, TPI, slope WITHOUT creating new files\n",
    "for x in range(1,num_eq):\n",
    "    eq_name = eq_list['NewFolder'][x]\n",
    "    eq_proj = eq_list['ProjectionCode'][x]\n",
    "    \n",
    "    out_folder_path = \"R:\\Liquefaction_RemoteSensing\\Projects\\GeospatialModel\\local_data_2021_Alex\"\n",
    "    \n",
    "    slope = out_folder_path + \"\\\\\"+eq_name+\"\\\\\"+eq_name+\"_slope.tif\"\n",
    "    slope_proj = out_folder_path + \"\\\\\"+eq_name+\"\\\\\"+eq_name+\"_slope_proj.tif\"\n",
    "    \n",
    "    arcpy.DefineProjection_management(slope, int(eq_proj))\n",
    "    \n",
    "    TRI = out_folder_path + \"\\\\\"+eq_name+\"\\\\\"+eq_name+\"_TRI.tif\"\n",
    "    TRI_proj = out_folder_path + \"\\\\\"+eq_name+\"\\\\\"+eq_name+\"_TRI_proj.tif\"\n",
    "    \n",
    "    arcpy.DefineProjection_management(TRI, int(eq_proj))\n",
    "    \n",
    "    TPI = out_folder_path + \"\\\\\"+eq_name+\"\\\\\"+eq_name+\"_TPI.tif\"\n",
    "    TPI_proj = out_folder_path + \"\\\\\"+eq_name+\"\\\\\"+eq_name+\"_TPI_proj.tif\"\n",
    "    \n",
    "    arcpy.DefineProjection_management(TPI, int(eq_proj))"
   ]
  },
  {
   "cell_type": "code",
   "execution_count": null,
   "metadata": {},
   "outputs": [],
   "source": []
  }
 ],
 "metadata": {
  "kernelspec": {
   "display_name": "Python 3",
   "language": "python",
   "name": "python3"
  },
  "language_info": {
   "codemirror_mode": {
    "name": "ipython",
    "version": 3
   },
   "file_extension": ".py",
   "mimetype": "text/x-python",
   "name": "python",
   "nbconvert_exporter": "python",
   "pygments_lexer": "ipython3",
   "version": "3.6.8"
  }
 },
 "nbformat": 4,
 "nbformat_minor": 2
}
