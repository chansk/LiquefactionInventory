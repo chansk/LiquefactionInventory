{
 "cells": [
  {
   "cell_type": "code",
   "execution_count": 14,
   "metadata": {},
   "outputs": [],
   "source": [
    "# Alex Chansky\n",
    "# 3/10/21\n",
    "# Purpose: Determining X and Y mins and Maxes of buffer extents \n",
    "import arcpy\n",
    "from arcpy import env\n",
    "import pandas as pd\n",
    "import os\n",
    "arcpy.CheckOutExtension(\"Spatial\") # This checks out the license\n",
    "from arcpy.sa import *\n",
    "# If getting \"Not Signed into Portal\" message, should open up and log into ArcGIS Pro"
   ]
  },
  {
   "cell_type": "code",
   "execution_count": 15,
   "metadata": {},
   "outputs": [],
   "source": [
    "arcpy.env.overwriteOutput = True"
   ]
  },
  {
   "cell_type": "code",
   "execution_count": 16,
   "metadata": {},
   "outputs": [],
   "source": [
    "path = \"R:\\\\Liquefaction_RemoteSensing\\\\Projects\\\\GeospatialModel\\\\Liquefaction_inventories\\\\2021_liq_Alex\\\\\"\n",
    "temp_path = \"C:\\\\Users\\\\achans01\\\\Downloads\\\\Arc\""
   ]
  },
  {
   "cell_type": "code",
   "execution_count": 17,
   "metadata": {},
   "outputs": [],
   "source": [
    "eq_list = pd.read_csv(\"R:\\\\Liquefaction_RemoteSensing\\\\Projects\\\\GeospatialModel\\\\Liquefaction_inventories\\\\2021_liq_Alex\\\\z_eq_names\\\\2021_eq_names.csv\")\n",
    "num_eq = eq_list.shape[0]\n",
    "eq_list_df = pd.DataFrame(eq_list)"
   ]
  },
  {
   "cell_type": "code",
   "execution_count": 18,
   "metadata": {},
   "outputs": [],
   "source": [
    "# Establishing empty lists\n",
    "Event=[]\n",
    "YMax=[]\n",
    "XMax=[]\n",
    "YMin=[]\n",
    "XMin=[]\n",
    "\n",
    "for x in range(0,num_eq):\n",
    "    # Determine whether or not to use events (non-liq events should be Working=0 here)\n",
    "    if eq_list['Working'][x]==1:\n",
    "        # Naming earthquake and buffer locations\n",
    "        eq_name = eq_list['NewFolder'][x]\n",
    "        one_km_buff = path + eq_name + \"\\\\1km_buffer.shp\"\n",
    "        fifteen_km_buff = path + eq_name + \"\\\\15km_buffer.shp\"\n",
    "\n",
    "        # Going through each 15 km buffer and finding its extent\n",
    "        shapeName = arcpy.Describe(fifteen_km_buff).shapeFieldName\n",
    "        rows = arcpy.SearchCursor(fifteen_km_buff)\n",
    "        for row in rows:\n",
    "            feat = row.getValue(shapeName)\n",
    "            extent = feat.extent\n",
    "         \n",
    "        # Appending extent values to lists\n",
    "        Event.append(eq_list['NewFolder'][x])\n",
    "        YMax.append(extent.YMax)\n",
    "        XMax.append(extent.XMax)\n",
    "        YMin.append(extent.YMin)\n",
    "        XMin.append(extent.XMin)\n",
    "        \n",
    "# Turninglists into a dataframe\n",
    "Extents_15km = pd.DataFrame(\n",
    "{'Event': Event,\n",
    " 'YMax': YMax,\n",
    " 'XMax': XMax,\n",
    " 'YMin': YMin,\n",
    " 'XMin': XMin\n",
    "})\n",
    "\n",
    "Extents_15km.to_csv(path + '15km_Extents.csv') "
   ]
  },
  {
   "cell_type": "code",
   "execution_count": 19,
   "metadata": {},
   "outputs": [],
   "source": [
    "# Repeat for 1 km buffers\n",
    "# Establishing empty lists\n",
    "Event=[]\n",
    "YMax=[]\n",
    "XMax=[]\n",
    "YMin=[]\n",
    "XMin=[]\n",
    "\n",
    "for x in range(0,num_eq):\n",
    "    # Determine whether or not to use events (non-liq events should be Working=0 here)\n",
    "    if eq_list['Working'][x]==1:\n",
    "        # Naming earthquake and buffer locations\n",
    "        eq_name = eq_list['NewFolder'][x]\n",
    "        one_km_buff = path + eq_name + \"\\\\1km_buffer.shp\"\n",
    "        fifteen_km_buff = path + eq_name + \"\\\\15km_buffer.shp\"\n",
    "\n",
    "        # Going through each 15 km buffer and finding its extent\n",
    "        shapeName = arcpy.Describe(one_km_buff).shapeFieldName\n",
    "        rows = arcpy.SearchCursor(one_km_buff)\n",
    "        for row in rows:\n",
    "            feat = row.getValue(shapeName)\n",
    "            extent = feat.extent\n",
    "         \n",
    "        # Appending extent values to lists\n",
    "        Event.append(eq_list['NewFolder'][x])\n",
    "        YMax.append(extent.YMax)\n",
    "        XMax.append(extent.XMax)\n",
    "        YMin.append(extent.YMin)\n",
    "        XMin.append(extent.XMin)\n",
    "        \n",
    "# Turninglists into a dataframe\n",
    "Extents_1km = pd.DataFrame(\n",
    "{'Event': Event,\n",
    " 'YMax': YMax,\n",
    " 'XMax': XMax,\n",
    " 'YMin': YMin,\n",
    " 'XMin': XMin\n",
    "})\n",
    "\n",
    "Extents_1km.to_csv(path + '1km_Extents.csv')      "
   ]
  },
  {
   "cell_type": "code",
   "execution_count": null,
   "metadata": {},
   "outputs": [],
   "source": []
  }
 ],
 "metadata": {
  "kernelspec": {
   "display_name": "Python 3",
   "language": "python",
   "name": "python3"
  },
  "language_info": {
   "codemirror_mode": {
    "name": "ipython",
    "version": 3
   },
   "file_extension": ".py",
   "mimetype": "text/x-python",
   "name": "python",
   "nbconvert_exporter": "python",
   "pygments_lexer": "ipython3",
   "version": "3.6.8"
  }
 },
 "nbformat": 4,
 "nbformat_minor": 2
}
