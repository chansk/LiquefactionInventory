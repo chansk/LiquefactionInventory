{
 "cells": [
  {
   "cell_type": "code",
   "execution_count": 1,
   "metadata": {},
   "outputs": [],
   "source": [
    "# Import system modules\n",
    "import pandas as pd \n",
    "import os\n",
    "import arcpy\n",
    "from arcpy.sa import *"
   ]
  },
  {
   "cell_type": "code",
   "execution_count": 2,
   "metadata": {},
   "outputs": [],
   "source": [
    "arcpy.env.overwriteOutput = True"
   ]
  },
  {
   "cell_type": "code",
   "execution_count": 3,
   "metadata": {},
   "outputs": [],
   "source": [
    "from pathlib import Path\n",
    "downloads_path = str(Path.home() / \"Downloads\")"
   ]
  },
  {
   "cell_type": "code",
   "execution_count": 4,
   "metadata": {},
   "outputs": [],
   "source": [
    "# List of quakes and associated projections\n",
    "eq_list = pd.read_csv(\"R:\\Liquefaction_RemoteSensing\\Projects\\GeospatialModel\\global_data_2020\\eq_projections.csv\")"
   ]
  },
  {
   "cell_type": "code",
   "execution_count": 5,
   "metadata": {},
   "outputs": [],
   "source": [
    "# Locations of PGA and PGV\n",
    "input_path = \"R:\\Liquefaction_RemoteSensing\\Projects\\GeospatialModel\\global_data_2020\\PGA_PGV\""
   ]
  },
  {
   "cell_type": "code",
   "execution_count": 7,
   "metadata": {},
   "outputs": [],
   "source": [
    "# Identify DEMs and associated standard deviations\n",
    "dem_mosaic = downloads_path + \"\\\\DEM_Mosaic.tif\"\n",
    "dem_std_mosaic = downloads_path + \"\\\\DEM_Mosaic_STDs.tif\""
   ]
  },
  {
   "cell_type": "code",
   "execution_count": 8,
   "metadata": {},
   "outputs": [],
   "source": [
    "# Number of events\n",
    "num_eq = eq_list.shape[0]"
   ]
  },
  {
   "cell_type": "code",
   "execution_count": 9,
   "metadata": {},
   "outputs": [],
   "source": [
    "# Making sure we use smaller cell size (for next group (mosaic has smaller cell size than PGA))\n",
    "arcpy.env.cellSize = \"MINOF\""
   ]
  },
  {
   "cell_type": "code",
   "execution_count": 10,
   "metadata": {},
   "outputs": [],
   "source": [
    "sr = arcpy.SpatialReference(4326)"
   ]
  },
  {
   "cell_type": "code",
   "execution_count": 26,
   "metadata": {},
   "outputs": [],
   "source": [
    "for x in range(0, num_eq):\n",
    "    eq_name = eq_list['NewFolder'][x]\n",
    "    eq_proj = eq_list['ProjectionCode'][x]\n",
    "    pga = input_path + \"\\\\\" + eq_name + \"\\\\pga_mean.flt\"\n",
    "    \n",
    "    # Extract DEM\n",
    "    out_DEM = ExtractByMask(dem_mosaic, pga)\n",
    "    out_DEM.save(downloads_path+\"\\\\\"+eq_name+\"_GMTED_clipped.tif\")\n",
    "    \n",
    "    # Define and project\n",
    "    arcpy.DefineProjection_management(out_DEM, sr)\n",
    "    #out_DEM_proj = downloads_path+\"\\\\\"+eq_name+\"_GMTED_clipped_proj.tif\"\n",
    "    #arcpy.management.ProjectRaster(out_DEM, out_DEM_proj, eq_proj)\n",
    "    \n",
    "    # Extract DEM std dev\n",
    "    out_DEM_std = ExtractByMask(dem_std_mosaic, pga)\n",
    "    out_DEM_std.save(downloads_path+\"\\\\\"+eq_name+\"_GMTED_std_clipped.tif\")\n",
    "    arcpy.DefineProjection_management(out_DEM_std, sr)\n",
    "    \n",
    "    # Define and project\n",
    "    #out_DEM_std_proj = downloads_path+\"\\\\\"+eq_name+\"_GMTED_std_clipped_proj.tif\"\n",
    "    #arcpy.management.ProjectRaster(out_DEM_std, out_DEM_std_proj, eq_proj)   "
   ]
  },
  {
   "cell_type": "code",
   "execution_count": 25,
   "metadata": {
    "collapsed": true
   },
   "outputs": [
    {
     "ename": "RuntimeError",
     "evalue": "Object: Error in executing tool",
     "output_type": "error",
     "traceback": [
      "\u001b[1;31m---------------------------------------------------------------------------\u001b[0m",
      "\u001b[1;31mRuntimeError\u001b[0m                              Traceback (most recent call last)",
      "\u001b[1;32m<ipython-input-25-6fd9fb33dc26>\u001b[0m in \u001b[0;36m<module>\u001b[1;34m\u001b[0m\n\u001b[1;32m----> 1\u001b[1;33m \u001b[0marcpy\u001b[0m\u001b[1;33m.\u001b[0m\u001b[0mmanagement\u001b[0m\u001b[1;33m.\u001b[0m\u001b[0mProjectRaster\u001b[0m\u001b[1;33m(\u001b[0m\u001b[0mout_DEM\u001b[0m\u001b[1;33m,\u001b[0m \u001b[0mout_DEM_proj\u001b[0m\u001b[1;33m,\u001b[0m \u001b[0meq_proj\u001b[0m\u001b[1;33m,\u001b[0m\u001b[1;34m\"BILINEAR\"\u001b[0m\u001b[1;33m,\u001b[0m\u001b[1;34m\"\"\u001b[0m\u001b[1;33m,\u001b[0m\u001b[1;34m\"GGRS_1987_To_WGS_1984\"\u001b[0m\u001b[1;33m)\u001b[0m\u001b[1;33m\u001b[0m\u001b[1;33m\u001b[0m\u001b[0m\n\u001b[0m",
      "\u001b[1;32mC:\\Program Files\\ArcGIS\\Pro\\Resources\\ArcPy\\arcpy\\management.py\u001b[0m in \u001b[0;36mProjectRaster\u001b[1;34m(in_raster, out_raster, out_coor_system, resampling_type, cell_size, geographic_transform, Registration_Point, in_coor_system, vertical)\u001b[0m\n\u001b[0;32m  10918\u001b[0m         \u001b[1;32mreturn\u001b[0m \u001b[0mretval\u001b[0m\u001b[1;33m\u001b[0m\u001b[1;33m\u001b[0m\u001b[0m\n\u001b[0;32m  10919\u001b[0m     \u001b[1;32mexcept\u001b[0m \u001b[0mException\u001b[0m \u001b[1;32mas\u001b[0m \u001b[0me\u001b[0m\u001b[1;33m:\u001b[0m\u001b[1;33m\u001b[0m\u001b[1;33m\u001b[0m\u001b[0m\n\u001b[1;32m> 10920\u001b[1;33m         \u001b[1;32mraise\u001b[0m \u001b[0me\u001b[0m\u001b[1;33m\u001b[0m\u001b[1;33m\u001b[0m\u001b[0m\n\u001b[0m\u001b[0;32m  10921\u001b[0m \u001b[1;33m\u001b[0m\u001b[0m\n\u001b[0;32m  10922\u001b[0m \u001b[1;33m@\u001b[0m\u001b[0mgptooldoc\u001b[0m\u001b[1;33m(\u001b[0m\u001b[1;34m'RegisterRaster_management'\u001b[0m\u001b[1;33m,\u001b[0m \u001b[1;32mNone\u001b[0m\u001b[1;33m)\u001b[0m\u001b[1;33m\u001b[0m\u001b[1;33m\u001b[0m\u001b[0m\n",
      "\u001b[1;32mC:\\Program Files\\ArcGIS\\Pro\\Resources\\ArcPy\\arcpy\\management.py\u001b[0m in \u001b[0;36mProjectRaster\u001b[1;34m(in_raster, out_raster, out_coor_system, resampling_type, cell_size, geographic_transform, Registration_Point, in_coor_system, vertical)\u001b[0m\n\u001b[0;32m  10915\u001b[0m     \u001b[1;32mfrom\u001b[0m \u001b[0marcpy\u001b[0m\u001b[1;33m.\u001b[0m\u001b[0marcobjects\u001b[0m\u001b[1;33m.\u001b[0m\u001b[0marcobjectconversion\u001b[0m \u001b[1;32mimport\u001b[0m \u001b[0mconvertArcObjectToPythonObject\u001b[0m\u001b[1;33m\u001b[0m\u001b[1;33m\u001b[0m\u001b[0m\n\u001b[0;32m  10916\u001b[0m     \u001b[1;32mtry\u001b[0m\u001b[1;33m:\u001b[0m\u001b[1;33m\u001b[0m\u001b[1;33m\u001b[0m\u001b[0m\n\u001b[1;32m> 10917\u001b[1;33m         \u001b[0mretval\u001b[0m \u001b[1;33m=\u001b[0m \u001b[0mconvertArcObjectToPythonObject\u001b[0m\u001b[1;33m(\u001b[0m\u001b[0mgp\u001b[0m\u001b[1;33m.\u001b[0m\u001b[0mProjectRaster_management\u001b[0m\u001b[1;33m(\u001b[0m\u001b[1;33m*\u001b[0m\u001b[0mgp_fixargs\u001b[0m\u001b[1;33m(\u001b[0m\u001b[1;33m(\u001b[0m\u001b[0min_raster\u001b[0m\u001b[1;33m,\u001b[0m \u001b[0mout_raster\u001b[0m\u001b[1;33m,\u001b[0m \u001b[0mout_coor_system\u001b[0m\u001b[1;33m,\u001b[0m \u001b[0mresampling_type\u001b[0m\u001b[1;33m,\u001b[0m \u001b[0mcell_size\u001b[0m\u001b[1;33m,\u001b[0m \u001b[0mgeographic_transform\u001b[0m\u001b[1;33m,\u001b[0m \u001b[0mRegistration_Point\u001b[0m\u001b[1;33m,\u001b[0m \u001b[0min_coor_system\u001b[0m\u001b[1;33m,\u001b[0m \u001b[0mvertical\u001b[0m\u001b[1;33m)\u001b[0m\u001b[1;33m,\u001b[0m \u001b[1;32mTrue\u001b[0m\u001b[1;33m)\u001b[0m\u001b[1;33m)\u001b[0m\u001b[1;33m)\u001b[0m\u001b[1;33m\u001b[0m\u001b[1;33m\u001b[0m\u001b[0m\n\u001b[0m\u001b[0;32m  10918\u001b[0m         \u001b[1;32mreturn\u001b[0m \u001b[0mretval\u001b[0m\u001b[1;33m\u001b[0m\u001b[1;33m\u001b[0m\u001b[0m\n\u001b[0;32m  10919\u001b[0m     \u001b[1;32mexcept\u001b[0m \u001b[0mException\u001b[0m \u001b[1;32mas\u001b[0m \u001b[0me\u001b[0m\u001b[1;33m:\u001b[0m\u001b[1;33m\u001b[0m\u001b[1;33m\u001b[0m\u001b[0m\n",
      "\u001b[1;32mC:\\Program Files\\ArcGIS\\Pro\\Resources\\ArcPy\\arcpy\\geoprocessing\\_base.py\u001b[0m in \u001b[0;36m<lambda>\u001b[1;34m(*args)\u001b[0m\n\u001b[0;32m    504\u001b[0m         \u001b[0mval\u001b[0m \u001b[1;33m=\u001b[0m \u001b[0mgetattr\u001b[0m\u001b[1;33m(\u001b[0m\u001b[0mself\u001b[0m\u001b[1;33m.\u001b[0m\u001b[0m_gp\u001b[0m\u001b[1;33m,\u001b[0m \u001b[0mattr\u001b[0m\u001b[1;33m)\u001b[0m\u001b[1;33m\u001b[0m\u001b[1;33m\u001b[0m\u001b[0m\n\u001b[0;32m    505\u001b[0m         \u001b[1;32mif\u001b[0m \u001b[0mcallable\u001b[0m\u001b[1;33m(\u001b[0m\u001b[0mval\u001b[0m\u001b[1;33m)\u001b[0m\u001b[1;33m:\u001b[0m\u001b[1;33m\u001b[0m\u001b[1;33m\u001b[0m\u001b[0m\n\u001b[1;32m--> 506\u001b[1;33m             \u001b[1;32mreturn\u001b[0m \u001b[1;32mlambda\u001b[0m \u001b[1;33m*\u001b[0m\u001b[0margs\u001b[0m\u001b[1;33m:\u001b[0m \u001b[0mval\u001b[0m\u001b[1;33m(\u001b[0m\u001b[1;33m*\u001b[0m\u001b[0mgp_fixargs\u001b[0m\u001b[1;33m(\u001b[0m\u001b[0margs\u001b[0m\u001b[1;33m,\u001b[0m \u001b[1;32mTrue\u001b[0m\u001b[1;33m)\u001b[0m\u001b[1;33m)\u001b[0m\u001b[1;33m\u001b[0m\u001b[1;33m\u001b[0m\u001b[0m\n\u001b[0m\u001b[0;32m    507\u001b[0m         \u001b[1;32melse\u001b[0m\u001b[1;33m:\u001b[0m\u001b[1;33m\u001b[0m\u001b[1;33m\u001b[0m\u001b[0m\n\u001b[0;32m    508\u001b[0m             \u001b[1;32mreturn\u001b[0m \u001b[0mconvertArcObjectToPythonObject\u001b[0m\u001b[1;33m(\u001b[0m\u001b[0mval\u001b[0m\u001b[1;33m)\u001b[0m\u001b[1;33m\u001b[0m\u001b[1;33m\u001b[0m\u001b[0m\n",
      "\u001b[1;31mRuntimeError\u001b[0m: Object: Error in executing tool"
     ]
    }
   ],
   "source": [
    "arcpy.management.ProjectRaster(out_DEM, out_DEM_proj, eq_proj,\"BILINEAR\",\"\",\"GGRS_1987_To_WGS_1984\")"
   ]
  },
  {
   "cell_type": "code",
   "execution_count": 30,
   "metadata": {},
   "outputs": [],
   "source": [
    "for x in range(3,4):\n",
    "    eq_name = eq_list['NewFolder'][x]\n",
    "    eq_proj = eq_list['ProjectionCode'][x]\n",
    "    pga = input_path + \"\\\\\" + eq_name + \"\\\\pga_mean.flt\"\n",
    "    \n",
    "    # Extract DEM\n",
    "    out_DEM = ExtractByMask(dem_mosaic, pga)\n",
    "    out_DEM.save(downloads_path+\"\\\\\"+eq_name+\"_GMTED_clipped.tif\")\n",
    "    \n",
    "    # Define and project\n",
    "    arcpy.DefineProjection_management(out_DEM, sr)\n",
    "    #out_DEM_proj = downloads_path+\"\\\\\"+eq_name+\"_GMTED_clipped_proj.tif\"\n",
    "    #arcpy.management.ProjectRaster(out_DEM, out_DEM_proj, eq_proj)\n",
    "    \n",
    "    # Extract DEM std dev\n",
    "    out_DEM_std = ExtractByMask(dem_std_mosaic, pga)\n",
    "    out_DEM_std.save(downloads_path+\"\\\\\"+eq_name+\"_GMTED_std_clipped.tif\")\n",
    "    arcpy.DefineProjection_management(out_DEM_std, sr)"
   ]
  },
  {
   "cell_type": "code",
   "execution_count": null,
   "metadata": {},
   "outputs": [],
   "source": [
    "# Replace a layer/table view name with a path to a dataset (which can be a layer file) or create the layer/table view within the script\n",
    "# The following inputs are layers or table views: \"Achaia_GMTED_clipped.tif\"\n",
    "arcpy.ProjectRaster_management(\"Achaia_GMTED_clipped.tif\", \n",
    "                               \"C:/Users/achans01/Documents/ArcGIS/Default.gdb/Achaia_GMTED_clipped_Project2\", \n",
    "                               \"PROJCS['Greek_Grid',GEOGCS['GCS_GGRS_1987',DATUM['D_GGRS_1987',SPHEROID['GRS_1980',6378137.0,298.257222101]],PRIMEM['Greenwich',0.0],UNIT['Degree',0.0174532925199433]],PROJECTION['Transverse_Mercator'],PARAMETER['False_Easting',500000.0],PARAMETER['False_Northing',0.0],PARAMETER['Central_Meridian',24.0],PARAMETER['Scale_Factor',0.9996],PARAMETER['Latitude_Of_Origin',0.0],UNIT['Meter',1.0]]\", \n",
    "                               resampling_type=\"BILINEAR\", \n",
    "                               cell_size=\"211.350578888157 211.350578888158\", \n",
    "                               geographic_transform=\"GGRS_1987_To_WGS_1984\", \n",
    "                               Registration_Point=\"\", \n",
    "                               in_coor_system=\"GEOGCS['GCS_WGS_1984',DATUM['D_WGS_1984',SPHEROID['WGS_1984',6378137.0,298.257223563]],PRIMEM['Greenwich',0.0],UNIT['Degree',0.0174532925199433]]\", vertical=\"NO_VERTICAL\")"
   ]
  }
 ],
 "metadata": {
  "kernelspec": {
   "display_name": "Python 3",
   "language": "python",
   "name": "python3"
  },
  "language_info": {
   "codemirror_mode": {
    "name": "ipython",
    "version": 3
   },
   "file_extension": ".py",
   "mimetype": "text/x-python",
   "name": "python",
   "nbconvert_exporter": "python",
   "pygments_lexer": "ipython3",
   "version": "3.6.8"
  }
 },
 "nbformat": 4,
 "nbformat_minor": 2
}
