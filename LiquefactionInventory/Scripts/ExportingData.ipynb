{
 "cells": [
  {
   "cell_type": "markdown",
   "metadata": {},
   "source": [
    "# Going to need export liq, NL for liq events, and NL for NL events"
   ]
  },
  {
   "cell_type": "code",
   "execution_count": 1,
   "metadata": {},
   "outputs": [],
   "source": [
    "import arcpy\n",
    "from arcpy import env\n",
    "import os\n",
    "import pandas as pd"
   ]
  },
  {
   "cell_type": "code",
   "execution_count": 2,
   "metadata": {},
   "outputs": [],
   "source": [
    "arcpy.env.overwriteOutput = True"
   ]
  },
  {
   "cell_type": "code",
   "execution_count": 3,
   "metadata": {},
   "outputs": [],
   "source": [
    "import datetime\n",
    "region_path = \"C:\\\\Users\\\\achans01\\\\Downloads\\\\WatBods\\\\\"\n",
    "path = \"R:\\\\Liquefaction_RemoteSensing\\\\Projects\\\\GeospatialModel\\\\Liquefaction_inventories\\\\2021_liq_Alex\\\\\"\n",
    "temp_path = \"C:\\\\Users\\\\achans01\\\\Downloads\\\\Arc\"\n",
    "eq_list = pd.read_csv(\"R:\\\\Liquefaction_RemoteSensing\\\\Projects\\\\GeospatialModel\\\\Liquefaction_inventories\\\\2021_liq_Alex\\\\z_eq_names\\\\2021_eq_names.csv\")\n",
    "num_eq = eq_list.shape[0]\n",
    "eq_list_df = pd.DataFrame(eq_list)"
   ]
  },
  {
   "cell_type": "code",
   "execution_count": 5,
   "metadata": {},
   "outputs": [
    {
     "name": "stdout",
     "output_type": "stream",
     "text": [
      "Finished saving Aquila\n",
      "Finished saving Arequipa\n",
      "Finished saving BajaCalifornia\n",
      "Finished saving Bhuj\n",
      "Finished saving Cephalonia\n",
      "Finished saving Chiba\n",
      "Finished saving ChiChi\n",
      "Finished saving Christchurch\n",
      "Finished saving Darfield\n",
      "Finished saving Denali\n",
      "Finished saving Duzce\n",
      "Finished saving Emilia\n",
      "Finished saving Haiti\n",
      "Finished saving Hokkaido\n",
      "Finished saving Honduras\n",
      "Finished saving Illapel\n",
      "Finished saving Iquique\n",
      "Finished saving Kobe\n",
      "Finished saving Kocaeli\n",
      "Finished saving LomaPrieta\n",
      "Finished saving Maule\n",
      "Finished saving Meinong\n",
      "Finished saving MiyagiKen\n",
      "Finished saving Muisne\n",
      "Finished saving Napa\n",
      "Finished saving Nepal\n",
      "Finished saving Nigata1964\n",
      "Finished saving Nigata2004\n",
      "Finished saving Nigata2007\n",
      "Finished saving Nihonkai\n",
      "Finished saving Nisqually\n",
      "Finished saving Northridge\n",
      "Finished saving Oklahoma\n",
      "Finished saving PugetSound\n",
      "Finished saving PugetSound1949\n",
      "Finished saving Samara\n",
      "Finished saving SanSimeon\n",
      "Finished saving Tecoman\n",
      "Finished saving TelireLimon\n",
      "Finished saving Tohoku\n",
      "Finished saving Tokaichi\n",
      "Finished saving Tottori\n",
      "Finished saving VanTab\n",
      "Finished saving Virginia\n",
      "Finished saving Wenchuan\n"
     ]
    }
   ],
   "source": [
    "# Alternate place to save Liq data\n",
    "\n",
    "for x in range(1, num_eq):\n",
    "    # Process: Convert Table To CSV File for Liq points, Liq Events\n",
    "    if eq_list['Working'][x]==1 and eq_list['Liq'][x]==1:\n",
    "        \n",
    "        eq_name = eq_list['NewFolder'][x]\n",
    "        # Changed the polygon ending in _15 to _16 to account for change in AI (where I eliminated -9999 values)\n",
    "        shapefile = path + eq_name + \"\\\\Output\\\\fish_liq_poly_count_16.shp\"\n",
    "        csvfile = path + \"_LiqPoints\\\\\" + eq_name + \"_liq.csv\"\n",
    "        # Easy to pull shapefile into array\n",
    "        nparr = arcpy.da.FeatureClassToNumPyArray(shapefile, ['POINT_X','POINT_Y','DC','DR','DL',\n",
    "                                                             'WBD_Elev','AI','CTI','Elev','Elev_std',\n",
    "                                                             'Precip','Slope','Soil_thick','TPI',\n",
    "                                                              'TRI','Upland_low','Vs30','WatTabDep',\n",
    "                                                              'PGA','PGA_std','PGV','PGV_std'])\n",
    "        # Easy to change array to DataFrame\n",
    "        df = pd.DataFrame(nparr)\n",
    "        # Easy to save DataFrame as CSV\n",
    "        df.to_csv(csvfile, encoding='utf-8')\n",
    "        \n",
    "        print(\"Finished saving \" + eq_name)"
   ]
  },
  {
   "cell_type": "code",
   "execution_count": 21,
   "metadata": {},
   "outputs": [],
   "source": [
    "# Alternate place to save NL data\n",
    "\n",
    "for x in range(0,num_eq):\n",
    "    # Process: Convert Table To CSV File for NL points, Liq Events\n",
    "    if eq_list['Working'][x]==1 and eq_list['Liq'][x]==0:\n",
    "        \n",
    "        eq_name = eq_list['NewFolder'][x]\n",
    "        shapefile = path + eq_name + \"\\\\fish_non_liq_point_copy.shp\"\n",
    "        csvfile = path + \"_NonLiqPoints\\\\\" + eq_name + \"_nonliq.csv\"\n",
    "        # Easy to pull shapefile into array\n",
    "        nparr = arcpy.da.FeatureClassToNumPyArray(shapefile, ['POINT_X','POINT_Y','DC','DR','DL',\n",
    "                                                             'WBD_Elev','AI','CTI','Elev','Elev_std',\n",
    "                                                             'Precip','Slope','Soil_thick','TPI',\n",
    "                                                              'TRI','Upland_low','Vs30','WatTabDep',\n",
    "                                                              'PGA','PGA_std','PGV','PGV_std'])\n",
    "        # Easy to change array to DataFrame\n",
    "        df = pd.DataFrame(nparr)\n",
    "        # Easy to save DataFrame as CSV\n",
    "        df.to_csv(csvfile, encoding='utf-8')"
   ]
  },
  {
   "cell_type": "code",
   "execution_count": null,
   "metadata": {},
   "outputs": [],
   "source": []
  }
 ],
 "metadata": {
  "kernelspec": {
   "display_name": "Python 3",
   "language": "python",
   "name": "python3"
  },
  "language_info": {
   "codemirror_mode": {
    "name": "ipython",
    "version": 3
   },
   "file_extension": ".py",
   "mimetype": "text/x-python",
   "name": "python",
   "nbconvert_exporter": "python",
   "pygments_lexer": "ipython3",
   "version": "3.6.8"
  }
 },
 "nbformat": 4,
 "nbformat_minor": 2
}
