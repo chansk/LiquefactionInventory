{
 "cells": [
  {
   "cell_type": "markdown",
   "metadata": {},
   "source": [
    "Option 1: Reclass as Michelle did so that each layer (ocean, rivers, lakes) has their own global raster. Then euclidean distance geodesic to figure out shortest DC, DR, DL. \"Very large\" distances will become NoData according to documentation. Very large distance to coast for inland earthquakes will be incredibly large distances on my map because I do not have every single Earth tile, only ones near my events."
   ]
  }
 ],
 "metadata": {
  "kernelspec": {
   "display_name": "Python 3",
   "language": "python",
   "name": "python3"
  },
  "language_info": {
   "codemirror_mode": {
    "name": "ipython",
    "version": 3
   },
   "file_extension": ".py",
   "mimetype": "text/x-python",
   "name": "python",
   "nbconvert_exporter": "python",
   "pygments_lexer": "ipython3",
   "version": "3.6.8"
  }
 },
 "nbformat": 4,
 "nbformat_minor": 2
}
