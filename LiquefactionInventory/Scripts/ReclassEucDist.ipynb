{
 "cells": [
  {
   "cell_type": "code",
   "execution_count": 1,
   "metadata": {},
   "outputs": [
    {
     "data": {
      "text/plain": [
       "'CheckedOut'"
      ]
     },
     "execution_count": 1,
     "metadata": {},
     "output_type": "execute_result"
    }
   ],
   "source": [
    "# Import system modules\n",
    "import pandas as pd \n",
    "import os\n",
    "import arcpy\n",
    "arcpy.CheckOutExtension(\"Spatial\") # This checks out the license"
   ]
  },
  {
   "cell_type": "code",
   "execution_count": 21,
   "metadata": {},
   "outputs": [],
   "source": [
    "arcpy.env.overwriteOutput = True"
   ]
  },
  {
   "cell_type": "code",
   "execution_count": 3,
   "metadata": {},
   "outputs": [],
   "source": [
    "# Get list of event regions\n",
    "    # For each region, reclassify into 1:ocean, 2:rivers, and 3: lakes\n",
    "        # For each reclassify, EucDist to it from the region"
   ]
  },
  {
   "cell_type": "code",
   "execution_count": 7,
   "metadata": {},
   "outputs": [
    {
     "data": {
      "text/plain": [
       "['Alaska',\n",
       " 'Bhuj',\n",
       " 'CaliforniaNorth',\n",
       " 'CaliforniaSouth',\n",
       " 'ChileSouth',\n",
       " 'ChinaCentral',\n",
       " 'CostaRica',\n",
       " 'Ecuador',\n",
       " 'Greece',\n",
       " 'Hispaniola',\n",
       " 'Honduras',\n",
       " 'Italy',\n",
       " 'JapanNorth',\n",
       " 'JapanSouth',\n",
       " 'Nepal',\n",
       " 'NewEngland',\n",
       " 'NewZealand',\n",
       " 'Oklahoma',\n",
       " 'PeruChile',\n",
       " 'Taiwan',\n",
       " 'TecomanColima',\n",
       " 'TurkeyEast',\n",
       " 'TurkeyWest',\n",
       " 'Virginia',\n",
       " 'Washington']"
      ]
     },
     "execution_count": 7,
     "metadata": {},
     "output_type": "execute_result"
    }
   ],
   "source": [
    "path_name = \"C:\\\\Users\\\\achans01\\\\Downloads\\\\WatBods\"\n",
    "region_names = os.listdir(path_name+\"\\\\Regions\")\n",
    "region_names"
   ]
  },
  {
   "cell_type": "code",
   "execution_count": 5,
   "metadata": {},
   "outputs": [
    {
     "name": "stdout",
     "output_type": "stream",
     "text": [
      "['C:\\\\Users\\\\achans01\\\\Downloads\\\\WatBods\\\\ASTER_ATTs\\\\Alaska_att.tif', 'C:\\\\Users\\\\achans01\\\\Downloads\\\\WatBods\\\\ASTER_ATTs\\\\Bhuj_att.tif', 'C:\\\\Users\\\\achans01\\\\Downloads\\\\WatBods\\\\ASTER_ATTs\\\\CaliforniaNorth_att.tif', 'C:\\\\Users\\\\achans01\\\\Downloads\\\\WatBods\\\\ASTER_ATTs\\\\CaliforniaSouth_att.tif', 'C:\\\\Users\\\\achans01\\\\Downloads\\\\WatBods\\\\ASTER_ATTs\\\\ChileSouth_att.tif', 'C:\\\\Users\\\\achans01\\\\Downloads\\\\WatBods\\\\ASTER_ATTs\\\\ChinaCentral_att.tif', 'C:\\\\Users\\\\achans01\\\\Downloads\\\\WatBods\\\\ASTER_ATTs\\\\CostaRica_att.tif', 'C:\\\\Users\\\\achans01\\\\Downloads\\\\WatBods\\\\ASTER_ATTs\\\\Ecuador_att.tif', 'C:\\\\Users\\\\achans01\\\\Downloads\\\\WatBods\\\\ASTER_ATTs\\\\Greece_att.tif', 'C:\\\\Users\\\\achans01\\\\Downloads\\\\WatBods\\\\ASTER_ATTs\\\\Hispaniola_att.tif', 'C:\\\\Users\\\\achans01\\\\Downloads\\\\WatBods\\\\ASTER_ATTs\\\\Honduras_att.tif', 'C:\\\\Users\\\\achans01\\\\Downloads\\\\WatBods\\\\ASTER_ATTs\\\\Italy_att.tif', 'C:\\\\Users\\\\achans01\\\\Downloads\\\\WatBods\\\\ASTER_ATTs\\\\JapanNorth_att.tif', 'C:\\\\Users\\\\achans01\\\\Downloads\\\\WatBods\\\\ASTER_ATTs\\\\JapanSouth_att.tif', 'C:\\\\Users\\\\achans01\\\\Downloads\\\\WatBods\\\\ASTER_ATTs\\\\Nepal_att.tif', 'C:\\\\Users\\\\achans01\\\\Downloads\\\\WatBods\\\\ASTER_ATTs\\\\NewEngland_att.tif', 'C:\\\\Users\\\\achans01\\\\Downloads\\\\WatBods\\\\ASTER_ATTs\\\\NewZealand_att.tif', 'C:\\\\Users\\\\achans01\\\\Downloads\\\\WatBods\\\\ASTER_ATTs\\\\Oklahoma_att.tif', 'C:\\\\Users\\\\achans01\\\\Downloads\\\\WatBods\\\\ASTER_ATTs\\\\PeruChile_att.tif', 'C:\\\\Users\\\\achans01\\\\Downloads\\\\WatBods\\\\ASTER_ATTs\\\\Taiwan_att.tif', 'C:\\\\Users\\\\achans01\\\\Downloads\\\\WatBods\\\\ASTER_ATTs\\\\TecomanColima_att.tif', 'C:\\\\Users\\\\achans01\\\\Downloads\\\\WatBods\\\\ASTER_ATTs\\\\TurkeyEast_att.tif', 'C:\\\\Users\\\\achans01\\\\Downloads\\\\WatBods\\\\ASTER_ATTs\\\\TurkeyWest_att.tif', 'C:\\\\Users\\\\achans01\\\\Downloads\\\\WatBods\\\\ASTER_ATTs\\\\Virginia_att.tif', 'C:\\\\Users\\\\achans01\\\\Downloads\\\\WatBods\\\\ASTER_ATTs\\\\Washington_att.tif']\n"
     ]
    }
   ],
   "source": [
    "# Create list of attribute rasters\n",
    "att_tifs = []\n",
    "for i in range(0,len(region_names)):\n",
    "    att_tifs.append(path_name + \"\\\\ASTER_ATTs\\\\\" + region_names[i]+\"_att.tif\")\n",
    "print(att_tifs)"
   ]
  },
  {
   "cell_type": "code",
   "execution_count": null,
   "metadata": {},
   "outputs": [
    {
     "name": "stdout",
     "output_type": "stream",
     "text": [
      "Successfully completed NewEnglandDC\n"
     ]
    }
   ],
   "source": [
    "# Reclassify and create distance rasters \n",
    "for i in range(15,16):\n",
    "    ocean_tif = path_name + \"\\\\ASTER_ATTs\\\\\" + region_names[i]+\"_ocean.tif\"\n",
    "    river_tif = path_name + \"\\\\ASTER_ATTs\\\\\" + region_names[i]+\"_river.tif\"\n",
    "    lake_tif = path_name + \"\\\\ASTER_ATTs\\\\\" + region_names[i]+\"_lake.tif\"        \n",
    "    \n",
    "    dc_tif = path_name + \"\\\\ASTER_DCs\\\\\" + region_names[i]+\"_ocean.tif\"\n",
    "    dr_tif = path_name + \"\\\\ASTER_DRs\\\\\" + region_names[i]+\"_river.tif\"\n",
    "    dl_tif = path_name + \"\\\\ASTER_DLs\\\\\" + region_names[i]+\"_lake.tif\"\n",
    "               \n",
    "    arcpy.gp.Reclassify_sa(att_tifs[i], \"Value\", \"0 NODATA;1 1;2 NODATA;3 NODATA\", ocean_tif, \"DATA\")\n",
    "    arcpy.gp.EucDistance_sa(ocean_tif, dc_tif, \"\", \"\", \"\", \"GEODESIC\", \"\", \"\")\n",
    "    print(\"Successfully completed \" + str(region_names[i] + \" DC\"))\n",
    "    \n",
    "    arcpy.gp.Reclassify_sa(att_tifs[i], \"Value\", \"0 NODATA;1 NODATA;2 2;3 NODATA\", river_tif, \"DATA\")\n",
    "    arcpy.gp.EucDistance_sa(river_tif, dr_tif, \"\", \"\", \"\", \"GEODESIC\", \"\", \"\")\n",
    "    print(\"Successfully completed \" + str(region_names[i] + \" DR\"))\n",
    "    \n",
    "    arcpy.gp.Reclassify_sa(att_tifs[i], \"Value\", \"0 NODATA;1 1;2 2;3 3\", lake_tif, \"DATA\")\n",
    "    arcpy.gp.EucDistance_sa(lake_tif, dl_tif, \"\", \"\", \"\", \"GEODESIC\", \"\", \"\")\n",
    "    print(\"Successfully completed \" + str(region_names[i] + \" DL\"))\n",
    "    \n",
    "    # Deleting ocean, river, lake layers to save space, only keeping distance to ocean, river, lake layers\n",
    "    arcpy.Delete_management(ocean_tif)\n",
    "    arcpy.Delete_management(river_tif)\n",
    "    arcpy.Delete_management(lake_tif)\n",
    "    \n",
    "    print(\"Successfully completed \" + str(region_names[i]))"
   ]
  },
  {
   "cell_type": "markdown",
   "metadata": {},
   "source": [
    "# The below will be only for New England because Riv dist, lake reclass, and lake dist only things left"
   ]
  },
  {
   "cell_type": "code",
   "execution_count": 18,
   "metadata": {},
   "outputs": [],
   "source": [
    "att_tifs = []"
   ]
  },
  {
   "cell_type": "code",
   "execution_count": 19,
   "metadata": {},
   "outputs": [],
   "source": [
    "# Create list of attribute rasters\n",
    "\n",
    "att_tifs=path_name + \"\\\\ASTER_ATTs\\\\NewEngland_ConnRVall_2.tif\""
   ]
  },
  {
   "cell_type": "code",
   "execution_count": 20,
   "metadata": {},
   "outputs": [
    {
     "data": {
      "text/plain": [
       "'C:\\\\Users\\\\achans01\\\\Downloads\\\\WatBods\\\\ASTER_ATTs\\\\NewEngland_ConnRVall_2.tif'"
      ]
     },
     "execution_count": 20,
     "metadata": {},
     "output_type": "execute_result"
    }
   ],
   "source": [
    "att_tifs"
   ]
  },
  {
   "cell_type": "code",
   "execution_count": 22,
   "metadata": {},
   "outputs": [
    {
     "name": "stdout",
     "output_type": "stream",
     "text": [
      "Successfully completed NewEngland_ConnRVall DC\n",
      "Successfully completed NewEngland_ConnRVall DR\n",
      "Successfully completed NewEngland_ConnRVall DL\n",
      "Successfully completed NewEngland_ConnRVall all\n"
     ]
    }
   ],
   "source": [
    "# Reclassify and create distance rasters \n",
    "for i in range(15,16):\n",
    "    \n",
    "    ocean_tif = path_name + \"\\\\ASTER_ATTs\\\\NewEngland_ConnRVall_ocean.tif\"\n",
    "    river_tif = path_name + \"\\\\ASTER_ATTs\\\\NewEngland_ConnRVall_river.tif\"\n",
    "    lake_tif = path_name + \"\\\\ASTER_ATTs\\\\NewEngland_ConnRVall_lake.tif\"        \n",
    "    \n",
    "    dc_tif = path_name + \"\\\\ASTER_DCs\\\\NewEngland_ConnRVall_ocean.tif\"\n",
    "    dr_tif = path_name + \"\\\\ASTER_DRs\\\\NewEngland_ConnRVall_river.tif\"\n",
    "    dl_tif = path_name + \"\\\\ASTER_DLs\\\\NewEngland_ConnRVall_lake.tif\"\n",
    "               \n",
    "    arcpy.gp.Reclassify_sa(att_tifs, \"Value\", \"0 NODATA;1 1;2 NODATA;3 NODATA\", ocean_tif, \"DATA\")\n",
    "    arcpy.gp.EucDistance_sa(ocean_tif, dc_tif, \"\", \"\", \"\", \"GEODESIC\", \"\", \"\")\n",
    "    print(\"Successfully completed NewEngland_ConnRVall DC\")\n",
    "    \n",
    "    arcpy.gp.Reclassify_sa(att_tifs, \"Value\", \"0 NODATA;1 NODATA;2 2;3 NODATA\", river_tif, \"DATA\")\n",
    "    arcpy.gp.EucDistance_sa(river_tif, dr_tif, \"\", \"\", \"\", \"GEODESIC\", \"\", \"\")\n",
    "    print(\"Successfully completed NewEngland_ConnRVall DR\")\n",
    "    \n",
    "    arcpy.gp.Reclassify_sa(att_tifs, \"Value\", \"0 NODATA;1 1;2 2;3 3\", lake_tif, \"DATA\")\n",
    "    arcpy.gp.EucDistance_sa(lake_tif, dl_tif, \"\", \"\", \"\", \"GEODESIC\", \"\", \"\")\n",
    "    print(\"Successfully completed NewEngland_ConnRVall DL\")\n",
    "    \n",
    "    # Deleting ocean, river, lake layers to save space, only keeping distance to ocean, river, lake layers\n",
    "    #arcpy.Delete_management(ocean_tif)\n",
    "    #arcpy.Delete_management(river_tif)\n",
    "    #arcpy.Delete_management(lake_tif)\n",
    "    \n",
    "    print(\"Successfully completed NewEngland_ConnRVall all\")"
   ]
  },
  {
   "cell_type": "code",
   "execution_count": null,
   "metadata": {},
   "outputs": [],
   "source": []
  }
 ],
 "metadata": {
  "kernelspec": {
   "display_name": "Python 3",
   "language": "python",
   "name": "python3"
  },
  "language_info": {
   "codemirror_mode": {
    "name": "ipython",
    "version": 3
   },
   "file_extension": ".py",
   "mimetype": "text/x-python",
   "name": "python",
   "nbconvert_exporter": "python",
   "pygments_lexer": "ipython3",
   "version": "3.7.3"
  }
 },
 "nbformat": 4,
 "nbformat_minor": 2
}
