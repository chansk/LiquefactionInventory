{
 "cells": [
  {
   "cell_type": "code",
   "execution_count": 1,
   "metadata": {},
   "outputs": [],
   "source": [
    "# Author: Alex Chansky\n",
    "# Date: 3/13/21\n",
    "# Purpose: Euclidean Allocation of water DEMs"
   ]
  },
  {
   "cell_type": "code",
   "execution_count": 1,
   "metadata": {},
   "outputs": [
    {
     "data": {
      "text/plain": [
       "'CheckedOut'"
      ]
     },
     "execution_count": 1,
     "metadata": {},
     "output_type": "execute_result"
    }
   ],
   "source": [
    "# Import system modules\n",
    "import pandas as pd \n",
    "import os\n",
    "import arcpy\n",
    "arcpy.CheckOutExtension(\"Spatial\") # This checks out the license"
   ]
  },
  {
   "cell_type": "code",
   "execution_count": 2,
   "metadata": {},
   "outputs": [],
   "source": [
    "arcpy.env.overwriteOutput = True"
   ]
  },
  {
   "cell_type": "code",
   "execution_count": 3,
   "metadata": {},
   "outputs": [
    {
     "data": {
      "text/plain": [
       "['Alaska',\n",
       " 'Bhuj',\n",
       " 'CaliforniaNorth',\n",
       " 'CaliforniaSouth',\n",
       " 'ChileSouth',\n",
       " 'ChinaCentral',\n",
       " 'CostaRica',\n",
       " 'Ecuador',\n",
       " 'Greece',\n",
       " 'Hispaniola',\n",
       " 'Honduras',\n",
       " 'Italy',\n",
       " 'JapanNorth',\n",
       " 'JapanSouth',\n",
       " 'Nepal',\n",
       " 'NewZealand',\n",
       " 'Oklahoma',\n",
       " 'PeruChile',\n",
       " 'Taiwan',\n",
       " 'TecomanColima',\n",
       " 'TurkeyEast',\n",
       " 'TurkeyWest',\n",
       " 'Virginia',\n",
       " 'Washington']"
      ]
     },
     "execution_count": 3,
     "metadata": {},
     "output_type": "execute_result"
    }
   ],
   "source": [
    "path_name = \"C:\\\\Users\\\\achans01\\\\Downloads\\\\WatBods\"\n",
    "region_names = os.listdir(path_name+\"\\\\Regions\")\n",
    "region_names"
   ]
  },
  {
   "cell_type": "code",
   "execution_count": 5,
   "metadata": {
    "scrolled": true
   },
   "outputs": [
    {
     "data": {
      "text/plain": [
       "24"
      ]
     },
     "execution_count": 5,
     "metadata": {},
     "output_type": "execute_result"
    }
   ],
   "source": [
    "len(region_names)"
   ]
  },
  {
   "cell_type": "code",
   "execution_count": 6,
   "metadata": {},
   "outputs": [
    {
     "name": "stdout",
     "output_type": "stream",
     "text": [
      "['C:\\\\Users\\\\achans01\\\\Downloads\\\\WatBods\\\\ASTER_DEMs\\\\Alaska_dem.tif', 'C:\\\\Users\\\\achans01\\\\Downloads\\\\WatBods\\\\ASTER_DEMs\\\\Bhuj_dem.tif', 'C:\\\\Users\\\\achans01\\\\Downloads\\\\WatBods\\\\ASTER_DEMs\\\\CaliforniaNorth_dem.tif', 'C:\\\\Users\\\\achans01\\\\Downloads\\\\WatBods\\\\ASTER_DEMs\\\\CaliforniaSouth_dem.tif', 'C:\\\\Users\\\\achans01\\\\Downloads\\\\WatBods\\\\ASTER_DEMs\\\\ChileSouth_dem.tif', 'C:\\\\Users\\\\achans01\\\\Downloads\\\\WatBods\\\\ASTER_DEMs\\\\ChinaCentral_dem.tif', 'C:\\\\Users\\\\achans01\\\\Downloads\\\\WatBods\\\\ASTER_DEMs\\\\CostaRica_dem.tif', 'C:\\\\Users\\\\achans01\\\\Downloads\\\\WatBods\\\\ASTER_DEMs\\\\Ecuador_dem.tif', 'C:\\\\Users\\\\achans01\\\\Downloads\\\\WatBods\\\\ASTER_DEMs\\\\Greece_dem.tif', 'C:\\\\Users\\\\achans01\\\\Downloads\\\\WatBods\\\\ASTER_DEMs\\\\Hispaniola_dem.tif', 'C:\\\\Users\\\\achans01\\\\Downloads\\\\WatBods\\\\ASTER_DEMs\\\\Honduras_dem.tif', 'C:\\\\Users\\\\achans01\\\\Downloads\\\\WatBods\\\\ASTER_DEMs\\\\Italy_dem.tif', 'C:\\\\Users\\\\achans01\\\\Downloads\\\\WatBods\\\\ASTER_DEMs\\\\JapanNorth_dem.tif', 'C:\\\\Users\\\\achans01\\\\Downloads\\\\WatBods\\\\ASTER_DEMs\\\\JapanSouth_dem.tif', 'C:\\\\Users\\\\achans01\\\\Downloads\\\\WatBods\\\\ASTER_DEMs\\\\Nepal_dem.tif', 'C:\\\\Users\\\\achans01\\\\Downloads\\\\WatBods\\\\ASTER_DEMs\\\\NewZealand_dem.tif', 'C:\\\\Users\\\\achans01\\\\Downloads\\\\WatBods\\\\ASTER_DEMs\\\\Oklahoma_dem.tif', 'C:\\\\Users\\\\achans01\\\\Downloads\\\\WatBods\\\\ASTER_DEMs\\\\PeruChile_dem.tif', 'C:\\\\Users\\\\achans01\\\\Downloads\\\\WatBods\\\\ASTER_DEMs\\\\Taiwan_dem.tif', 'C:\\\\Users\\\\achans01\\\\Downloads\\\\WatBods\\\\ASTER_DEMs\\\\TecomanColima_dem.tif', 'C:\\\\Users\\\\achans01\\\\Downloads\\\\WatBods\\\\ASTER_DEMs\\\\TurkeyEast_dem.tif', 'C:\\\\Users\\\\achans01\\\\Downloads\\\\WatBods\\\\ASTER_DEMs\\\\TurkeyWest_dem.tif', 'C:\\\\Users\\\\achans01\\\\Downloads\\\\WatBods\\\\ASTER_DEMs\\\\Virginia_dem.tif', 'C:\\\\Users\\\\achans01\\\\Downloads\\\\WatBods\\\\ASTER_DEMs\\\\Washington_dem.tif']\n"
     ]
    }
   ],
   "source": [
    "dem_tifs = []\n",
    "for i in range(0,len(region_names)):\n",
    "    dem_tifs.append(path_name + \"\\\\ASTER_DEMs\\\\\" + region_names[i]+\"_dem.tif\")\n",
    "print(dem_tifs)"
   ]
  },
  {
   "cell_type": "code",
   "execution_count": 7,
   "metadata": {
    "scrolled": true
   },
   "outputs": [
    {
     "name": "stdout",
     "output_type": "stream",
     "text": [
      "Successfully reclassed ChinaCentral, 5\n",
      "Successfully allocated ChinaCentral, 5\n",
      "Successfully reclassed CostaRica, 6\n",
      "Successfully allocated CostaRica, 6\n",
      "Successfully reclassed Ecuador, 7\n",
      "Successfully allocated Ecuador, 7\n",
      "Successfully reclassed Greece, 8\n",
      "Successfully allocated Greece, 8\n",
      "Successfully reclassed Hispaniola, 9\n",
      "Successfully allocated Hispaniola, 9\n",
      "Successfully reclassed Honduras, 10\n",
      "Successfully allocated Honduras, 10\n",
      "Successfully reclassed Italy, 11\n",
      "Successfully allocated Italy, 11\n",
      "Successfully reclassed JapanNorth, 12\n",
      "Successfully allocated JapanNorth, 12\n",
      "Successfully reclassed JapanSouth, 13\n",
      "Successfully allocated JapanSouth, 13\n",
      "Successfully reclassed Nepal, 14\n",
      "Successfully allocated Nepal, 14\n",
      "Successfully reclassed NewZealand, 15\n",
      "Successfully allocated NewZealand, 15\n",
      "Successfully reclassed Oklahoma, 16\n",
      "Successfully allocated Oklahoma, 16\n",
      "Successfully reclassed PeruChile, 17\n",
      "Successfully allocated PeruChile, 17\n",
      "Successfully reclassed Taiwan, 18\n",
      "Successfully allocated Taiwan, 18\n",
      "Successfully reclassed TecomanColima, 19\n",
      "Successfully allocated TecomanColima, 19\n",
      "Successfully reclassed TurkeyEast, 20\n",
      "Successfully allocated TurkeyEast, 20\n",
      "Successfully reclassed TurkeyWest, 21\n",
      "Successfully allocated TurkeyWest, 21\n",
      "Successfully reclassed Virginia, 22\n",
      "Successfully allocated Virginia, 22\n"
     ]
    }
   ],
   "source": [
    "for i in range(5,(len(region_names)-1)):#,#len(region_names)):\n",
    "    dem_tif_rec =  \"C:\\\\Users\\\\achans01\\\\Downloads\\\\WatBods\\\\ASTER_DEMs\\\\\" + region_names[i] + \"_demrec.tif\"\n",
    "               \n",
    "    # Setting NODATA to 0 because I accidentally set 0 to NODATA in the prior step\n",
    "    # Setting -9999 to NODATA because we do not want land values caught for nearest water elevation\n",
    "    arcpy.gp.Reclassify_sa(dem_tifs[i], \"Value\", \";NODATA 0; -9999 NODATA\", dem_tif_rec, \"DATA\")\n",
    "    \n",
    "    print(\"Successfully reclassed \" + str(region_names[i]) + \", \" + str(i))\n",
    "               \n",
    "    wbd_elev_tif = \"C:\\\\Users\\\\achans01\\\\Downloads\\\\WatBods\\\\ASTER_DEMs\\\\\" + region_names[i] + \"_wbd_elev.tif\"\n",
    "              \n",
    "    arcpy.gp.EucAllocation_sa(dem_tif_rec, wbd_elev_tif, \"\", \"\", \"\", \"VALUE\", \"\",\"\", \"GEODESIC\", \"\", \"\") \n",
    "    \n",
    "    arcpy.Delete_management(dem_tif_rec)           \n",
    "               \n",
    "    print(\"Successfully allocated \" + str(region_names[i]) + \", \" + str(i))"
   ]
  },
  {
   "cell_type": "code",
   "execution_count": null,
   "metadata": {},
   "outputs": [],
   "source": []
  }
 ],
 "metadata": {
  "kernelspec": {
   "display_name": "Python 3",
   "language": "python",
   "name": "python3"
  },
  "language_info": {
   "codemirror_mode": {
    "name": "ipython",
    "version": 3
   },
   "file_extension": ".py",
   "mimetype": "text/x-python",
   "name": "python",
   "nbconvert_exporter": "python",
   "pygments_lexer": "ipython3",
   "version": "3.7.3"
  }
 },
 "nbformat": 4,
 "nbformat_minor": 2
}
