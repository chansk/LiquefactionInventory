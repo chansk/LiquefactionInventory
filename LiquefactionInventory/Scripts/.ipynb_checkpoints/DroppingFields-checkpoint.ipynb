{
 "cells": [
  {
   "cell_type": "code",
   "execution_count": 52,
   "metadata": {},
   "outputs": [],
   "source": [
    "# Alex Chansky\n",
    "# 3/8/21\n",
    "# Original Purpose: Identify and drop fields of shapefiles which will be written over so there is no confusion about which \n",
    "    # layers have worked / not worked when extracting points\n",
    "# Actuality: Dropped all fields manually. This can still be used to extract info from shapefiles directly    \n",
    "\n",
    "import arcpy\n",
    "from arcpy import env\n",
    "import pandas as pd\n",
    "import os\n",
    "arcpy.CheckOutExtension(\"Spatial\") # This checks out the license\n",
    "from arcpy.sa import *\n",
    "# If getting \"Not Signed into Portal\" message, should open up and log into ArcGIS Pro"
   ]
  },
  {
   "cell_type": "code",
   "execution_count": 53,
   "metadata": {},
   "outputs": [],
   "source": [
    "# Change working directory\n",
    "os.chdir(\"R:\\Liquefaction_RemoteSensing\\Projects\\GeospatialModel\\Liquefaction_inventories\")"
   ]
  },
  {
   "cell_type": "code",
   "execution_count": 54,
   "metadata": {},
   "outputs": [],
   "source": [
    "path = \"R:\\\\Liquefaction_RemoteSensing\\\\Projects\\\\GeospatialModel\\\\Liquefaction_inventories\\\\2021_liq_Alex\\\\\""
   ]
  },
  {
   "cell_type": "code",
   "execution_count": 55,
   "metadata": {},
   "outputs": [],
   "source": [
    "eq_list = pd.read_csv(\"2019_eq_names_45.csv\")\n",
    "num_eq = eq_list.shape[0]"
   ]
  },
  {
   "cell_type": "code",
   "execution_count": 56,
   "metadata": {},
   "outputs": [
    {
     "name": "stdout",
     "output_type": "stream",
     "text": [
      "R:\\Liquefaction_RemoteSensing\\Projects\\GeospatialModel\\Liquefaction_inventories\\2021_liq_Alex\\Achaia\\Liq_point.shp\n"
     ]
    }
   ],
   "source": [
    "for x in range(0,1):\n",
    "    eq_name = eq_list['NewFolder'][x]\n",
    "    liq_points = path + eq_name + \"\\\\Liq_point.shp\"\n",
    "    print(liq_points)\n",
    "\n",
    "    OIDFieldName = arcpy.Describe(liq_points).OIDFieldName # Object ID\n",
    "    final_fields = [field.name for field in arcpy.ListFields(liq_points)] # Field names\n",
    "    data = [row for row in arcpy.da.SearchCursor(liq_points, final_fields,where_clause=\"\")] # Collecting data for each row\n",
    "    fc_dataframe = pd.DataFrame(data,columns=final_fields) # Turning data into dataframe\n",
    "    fc_dataframe = fc_dataframe.set_index(OIDFieldName,drop=True) # Dropping object ID field"
   ]
  },
  {
   "cell_type": "code",
   "execution_count": 57,
   "metadata": {},
   "outputs": [
    {
     "data": {
      "text/html": [
       "<div>\n",
       "<style scoped>\n",
       "    .dataframe tbody tr th:only-of-type {\n",
       "        vertical-align: middle;\n",
       "    }\n",
       "\n",
       "    .dataframe tbody tr th {\n",
       "        vertical-align: top;\n",
       "    }\n",
       "\n",
       "    .dataframe thead th {\n",
       "        text-align: right;\n",
       "    }\n",
       "</style>\n",
       "<table border=\"1\" class=\"dataframe\">\n",
       "  <thead>\n",
       "    <tr style=\"text-align: right;\">\n",
       "      <th></th>\n",
       "      <th>Shape</th>\n",
       "      <th>Id</th>\n",
       "      <th>POINT_X</th>\n",
       "      <th>POINT_Y</th>\n",
       "    </tr>\n",
       "    <tr>\n",
       "      <th>FID</th>\n",
       "      <th></th>\n",
       "      <th></th>\n",
       "      <th></th>\n",
       "      <th></th>\n",
       "    </tr>\n",
       "  </thead>\n",
       "  <tbody>\n",
       "    <tr>\n",
       "      <th>0</th>\n",
       "      <td>(21.34749534100007, 38.098484631000076)</td>\n",
       "      <td>0</td>\n",
       "      <td>21.347495</td>\n",
       "      <td>38.098485</td>\n",
       "    </tr>\n",
       "    <tr>\n",
       "      <th>1</th>\n",
       "      <td>(21.559267370000043, 38.15083277300005)</td>\n",
       "      <td>0</td>\n",
       "      <td>21.559267</td>\n",
       "      <td>38.150833</td>\n",
       "    </tr>\n",
       "    <tr>\n",
       "      <th>2</th>\n",
       "      <td>(21.543800874000056, 38.154401964000044)</td>\n",
       "      <td>0</td>\n",
       "      <td>21.543801</td>\n",
       "      <td>38.154402</td>\n",
       "    </tr>\n",
       "    <tr>\n",
       "      <th>3</th>\n",
       "      <td>(21.609830917000068, 38.085397595000074)</td>\n",
       "      <td>0</td>\n",
       "      <td>21.609831</td>\n",
       "      <td>38.085398</td>\n",
       "    </tr>\n",
       "    <tr>\n",
       "      <th>4</th>\n",
       "      <td>(21.502755171000047, 37.91348153700005)</td>\n",
       "      <td>0</td>\n",
       "      <td>21.502755</td>\n",
       "      <td>37.913482</td>\n",
       "    </tr>\n",
       "    <tr>\n",
       "      <th>5</th>\n",
       "      <td>(21.502160306000064, 37.89920477100003)</td>\n",
       "      <td>0</td>\n",
       "      <td>21.502160</td>\n",
       "      <td>37.899205</td>\n",
       "    </tr>\n",
       "    <tr>\n",
       "      <th>6</th>\n",
       "      <td>(21.413525384000025, 38.008065112000054)</td>\n",
       "      <td>0</td>\n",
       "      <td>21.413525</td>\n",
       "      <td>38.008065</td>\n",
       "    </tr>\n",
       "  </tbody>\n",
       "</table>\n",
       "</div>"
      ],
      "text/plain": [
       "                                        Shape  Id    POINT_X    POINT_Y\n",
       "FID                                                                    \n",
       "0     (21.34749534100007, 38.098484631000076)   0  21.347495  38.098485\n",
       "1     (21.559267370000043, 38.15083277300005)   0  21.559267  38.150833\n",
       "2    (21.543800874000056, 38.154401964000044)   0  21.543801  38.154402\n",
       "3    (21.609830917000068, 38.085397595000074)   0  21.609831  38.085398\n",
       "4     (21.502755171000047, 37.91348153700005)   0  21.502755  37.913482\n",
       "5     (21.502160306000064, 37.89920477100003)   0  21.502160  37.899205\n",
       "6    (21.413525384000025, 38.008065112000054)   0  21.413525  38.008065"
      ]
     },
     "execution_count": 57,
     "metadata": {},
     "output_type": "execute_result"
    }
   ],
   "source": [
    "fc_dataframe"
   ]
  },
  {
   "cell_type": "code",
   "execution_count": null,
   "metadata": {},
   "outputs": [],
   "source": []
  }
 ],
 "metadata": {
  "kernelspec": {
   "display_name": "Python 3",
   "language": "python",
   "name": "python3"
  },
  "language_info": {
   "codemirror_mode": {
    "name": "ipython",
    "version": 3
   },
   "file_extension": ".py",
   "mimetype": "text/x-python",
   "name": "python",
   "nbconvert_exporter": "python",
   "pygments_lexer": "ipython3",
   "version": "3.7.3"
  }
 },
 "nbformat": 4,
 "nbformat_minor": 2
}
