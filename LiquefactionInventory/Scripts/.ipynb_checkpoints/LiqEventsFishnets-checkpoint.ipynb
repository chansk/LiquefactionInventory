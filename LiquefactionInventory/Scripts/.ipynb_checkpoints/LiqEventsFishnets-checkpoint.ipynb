{
 "cells": [
  {
   "cell_type": "code",
   "execution_count": 1,
   "metadata": {},
   "outputs": [],
   "source": [
    "# Alex Chansky\n",
    "# 3/10/21\n",
    "# Purpose: Setting up fishnets for big buffers and small polygons\n",
    "import arcpy\n",
    "from arcpy import env\n",
    "import pandas as pd\n",
    "import os\n",
    "arcpy.CheckOutExtension(\"Spatial\") # This checks out the license\n",
    "from arcpy.sa import *\n",
    "# If getting \"Not Signed into Portal\" message, should open up and log into ArcGIS Pro"
   ]
  },
  {
   "cell_type": "code",
   "execution_count": 21,
   "metadata": {},
   "outputs": [],
   "source": [
    "arcpy.env.overwriteOutput = True"
   ]
  },
  {
   "cell_type": "code",
   "execution_count": 3,
   "metadata": {},
   "outputs": [],
   "source": [
    "path = \"R:\\\\Liquefaction_RemoteSensing\\\\Projects\\\\GeospatialModel\\\\Liquefaction_inventories\\\\2021_liq_Alex\\\\\"\n",
    "temp_path = \"C:\\\\Users\\\\achans01\\\\Downloads\\\\Arc\""
   ]
  },
  {
   "cell_type": "code",
   "execution_count": 4,
   "metadata": {},
   "outputs": [],
   "source": [
    "# Overwrite does not always work properly, so this ensures we delete proper files after every run\n",
    "def deletey(): \n",
    "    fishnet_out = temp_path + \"\\\\fishnet.shp\"\n",
    "    fishnet_points = temp_path + \"\\\\fishnet_label.shp\"\n",
    "    \n",
    "    arcpy.Delete_management(fishnet_out)\n",
    "    arcpy.Delete_management(fishnet_points)"
   ]
  },
  {
   "cell_type": "code",
   "execution_count": 5,
   "metadata": {},
   "outputs": [],
   "source": [
    "# Taking care of 15 km buffers first\n",
    "extent_15km = pd.read_csv(path + '15km_Extents_meters.csv')\n",
    "num_eq_15km = extent_15km.shape[0]\n",
    "\n",
    "# Then approach 1 km buffers\n",
    "extent_1km = pd.read_csv(path + '1km_Extents_meters.csv')\n",
    "num_eq_1km = extent_1km.shape[0]"
   ]
  },
  {
   "cell_type": "markdown",
   "metadata": {},
   "source": [
    "# Only section of process where required to project so that fishnet could be produced in planar meters. Could not figure out how to perform Geodesic fishnet."
   ]
  },
  {
   "cell_type": "code",
   "execution_count": 54,
   "metadata": {},
   "outputs": [],
   "source": [
    "# Using extents from extent CSVs, create fishnet for each event then clip to desired area\n",
    "for x in range(1, num_eq_15km):\n",
    "    eq_name = extent_15km['Event'][x]\n",
    "    deletey()\n",
    "    \n",
    "    originCoordinate = str(float(extent_15km['XMin'][x])) + ' ' + str(float(extent_15km['YMin'][x]))\n",
    "    yAxisCoordinate = str(float(extent_15km['XMin'][x])) + ' ' + str(float(extent_15km['YMin'][x])+1) # Removed \"+10\"\n",
    "    \n",
    "    cellSizeWidth = '1500'\n",
    "    cellSizeHeight = '1500'\n",
    "    \n",
    "    numRows =  '0'\n",
    "    numColumns = '0'\n",
    "    \n",
    "    oppositeCorner = str(float(extent_15km['XMax'][x])) + ' ' + str(float(extent_15km['YMax'][x]))\n",
    "    \n",
    "    fishnet_out = temp_path + \"\\\\fishnet.shp\"\n",
    "    fishnet_points = temp_path + \"\\\\fishnet_label.shp\"\n",
    "    arcpy.CreateFishnet_management(fishnet_out, originCoordinate, yAxisCoordinate, cellSizeWidth, cellSizeHeight, numRows, \n",
    "                                   numColumns, oppositeCorner, 'LABELS', '#', 'POLYGON')\n",
    "    \n",
    "    arcpy.management.DefineProjection(fishnet_out, str(extent_15km['ProjectionCode'][x]))\n",
    "    arcpy.management.DefineProjection(fishnet_points, str(extent_15km['ProjectionCode'][x]))\n",
    "    \n",
    "    \n",
    "    ## CLIPPING begins\n",
    "    # Identifying layer to which we clip\n",
    "    fifteen_proj = path + eq_name + \"\\\\15km_buffer_proj.shp\"\n",
    "    \n",
    "    # clip to sample area shape (created from buffer tool)\n",
    "    fish_points_clipped = temp_path + \"\\\\15km_fish_points.shp\"\n",
    "    arcpy.Clip_analysis(fishnet_points, fifteen_proj, fish_points_clipped)\n",
    "    \n",
    "    fish_out_clipped = temp_path + \"\\\\15km_fish_poly.shp\"\n",
    "    arcpy.Clip_analysis(fishnet_out, fifteen_proj, fish_out_clipped)\n",
    "    \n",
    "    # Erasing 1km buffer area\n",
    "    # Small buff\n",
    "    one_proj = path + eq_name + \"\\\\1km_buffer_proj.shp\"\n",
    "    # ID final fishnets\n",
    "    fish_non_liq_points = path + eq_name + \"\\\\fish_non_liq_point.shp\"\n",
    "    fish_non_liq_poly = path + eq_name + \"\\\\fish_non_liq_poly.shp\"\n",
    "    # Erase\n",
    "    arcpy.analysis.Erase(non_liq_points, one_proj, fish_non_liq_points) \n",
    "    arcpy.analysis.Erase(non_liq_poly, one_proj, fish_non_liq_poly)\n",
    "    # Delete prior fishnets\n",
    "    arcpy.Delete_management(non_liq_points)\n",
    "    arcpy.Delete_management(non_liq_poly)\n",
    "    \n",
    "    # change points to GCS\n",
    "    out_coordinate_system = arcpy.SpatialReference('WGS 1984')\n",
    "    non_liq_points = path + eq_name + \"\\\\non_liq_point.shp\"\n",
    "    arcpy.Project_management(fish_points_clipped, non_liq_points, out_coordinate_system)\n",
    "    \n",
    "    non_liq_poly = path + eq_name + \"\\\\non_liq_poly.shp\"\n",
    "    arcpy.Project_management(fish_out_clipped, non_liq_poly, out_coordinate_system)\n",
    "    \n",
    "    # add X and Y coordinates\n",
    "    env.outputCoordinateSystem = out_coordinate_system\n",
    "    arcpy.AddXY_management(non_liq_points)"
   ]
  },
  {
   "cell_type": "code",
   "execution_count": 58,
   "metadata": {},
   "outputs": [],
   "source": [
    "# Need to clip down to area between two buffers instead of only within big buff\n",
    "for x in range(1,num_eq_15km):\n",
    "    eq_name = extent_15km['Event'][x]\n",
    "    \n",
    "    # ID fishnets\n",
    "    non_liq_points = path + eq_name + \"\\\\non_liq_point.shp\"\n",
    "    non_liq_poly = path + eq_name + \"\\\\non_liq_poly.shp\"\n",
    "    # Small buff\n",
    "    one_proj = path + eq_name + \"\\\\1km_buffer_proj.shp\"\n",
    "    \n",
    "    # ID erased fishnets\n",
    "    fish_non_liq_points = path + eq_name + \"\\\\fish_non_liq_point.shp\"\n",
    "    fish_non_liq_poly = path + eq_name + \"\\\\fish_non_liq_poly.shp\"\n",
    "    # Erase\n",
    "    arcpy.analysis.Erase(non_liq_points, one_proj, fish_non_liq_points) \n",
    "    arcpy.analysis.Erase(non_liq_poly, one_proj, fish_non_liq_poly)\n",
    "    \n",
    "    arcpy.Delete_management(non_liq_points)\n",
    "    arcpy.Delete_management(non_liq_poly)"
   ]
  },
  {
   "cell_type": "code",
   "execution_count": 72,
   "metadata": {},
   "outputs": [],
   "source": [
    "for x in range(22,num_eq_15km):\n",
    "    eq_name = extent_1km['Event'][x]\n",
    "    deletey()\n",
    "    \n",
    "    originCoordinate = str(float(extent_1km['XMin'][x])) + ' ' + str(float(extent_1km['YMin'][x]))\n",
    "    yAxisCoordinate = str(float(extent_1km['XMin'][x])) + ' ' + str(float(extent_1km['YMin'][x])+1) # Removed \"+10\"\n",
    "    \n",
    "    cellSizeWidth = '100'\n",
    "    cellSizeHeight = '100'\n",
    "    \n",
    "    numRows =  '0'\n",
    "    numColumns = '0'\n",
    "    \n",
    "    oppositeCorner = str(float(extent_1km['XMax'][x])) + ' ' + str(float(extent_1km['YMax'][x]))\n",
    "    \n",
    "    fishnet_out = temp_path + \"\\\\fishnet.shp\"\n",
    "    fishnet_points = temp_path + \"\\\\fishnet_label.shp\"\n",
    "    arcpy.CreateFishnet_management(fishnet_out, originCoordinate, yAxisCoordinate, cellSizeWidth, cellSizeHeight, numRows, \n",
    "                                   numColumns, oppositeCorner, 'LABELS', '#', 'POLYGON')\n",
    "    \n",
    "    arcpy.management.DefineProjection(fishnet_out, str(extent_1km['ProjectionCode'][x]))\n",
    "    arcpy.management.DefineProjection(fishnet_points, str(extent_1km['ProjectionCode'][x]))\n",
    "    \n",
    "    \n",
    "    ## CLIPPING begins\n",
    "    # Identifying layer to which we clip\n",
    "    one_proj = path + eq_name + \"\\\\1km_buffer_proj.shp\"\n",
    "    \n",
    "    # clip to sample area shape (created from buffer tool)\n",
    "    fish_points_clipped = temp_path + \"\\\\1km_fish_points.shp\"\n",
    "    arcpy.Clip_analysis(fishnet_points, one_proj, fish_points_clipped)\n",
    "    \n",
    "    fish_out_clipped = temp_path + \"\\\\1km_fish_poly.shp\"\n",
    "    arcpy.Clip_analysis(fishnet_out, one_proj, fish_out_clipped)\n",
    "    \n",
    "    # change points to GCS\n",
    "    out_coordinate_system = arcpy.SpatialReference('WGS 1984')\n",
    "    liq_points = path + eq_name + \"\\\\fish_liq_point.shp\"\n",
    "    arcpy.Project_management(fish_points_clipped, liq_points, out_coordinate_system)\n",
    "    \n",
    "    liq_poly = path + eq_name + \"\\\\fish_liq_poly.shp\"\n",
    "    arcpy.Project_management(fish_out_clipped, liq_poly, out_coordinate_system)\n",
    "    \n",
    "    # add X and Y coordinates\n",
    "    env.outputCoordinateSystem = out_coordinate_system\n",
    "    arcpy.AddXY_management(liq_points)"
   ]
  },
  {
   "cell_type": "markdown",
   "metadata": {},
   "source": [
    "# The following script is only for Maule because liquefaction is spread very far, and a fishnet over the whole region is too large for ArcMap to handle"
   ]
  },
  {
   "cell_type": "code",
   "execution_count": 20,
   "metadata": {},
   "outputs": [
    {
     "name": "stdout",
     "output_type": "stream",
     "text": [
      "Maule, 21\n",
      "Created fishnet\n",
      "Projected fishnet\n",
      "Clipped fish points\n",
      "Clipped fish poly\n",
      "Turned all to GCS\n",
      "Successfully finished bottom Maule\n"
     ]
    }
   ],
   "source": [
    "for x in range(21,22):\n",
    "    eq_name = extent_1km['Event'][x]\n",
    "    print(eq_name + \", \"+str(x))\n",
    "    #deletey()\n",
    "    \n",
    "    originCoordinate = str(float(extent_1km['XMin'][x])) + ' ' + str(float(extent_1km['YMin'][x]))\n",
    "    yAxisCoordinate = str(float(extent_1km['XMin'][x])) + ' ' + str(float(extent_1km['YMin'][x])+1) # Removed \"+10\"\n",
    "    \n",
    "    cellSizeWidth = '100'\n",
    "    cellSizeHeight = '100'\n",
    "    \n",
    "    numRows =  '0'\n",
    "    numColumns = '0'\n",
    "    \n",
    "    Ymiddle = (extent_1km['YMin'][x]+extent_1km['YMax'][x])/2\n",
    "    \n",
    "    oppositeCorner = str(float(extent_1km['XMax'][x])) + ' ' + str(float(Ymiddle))\n",
    "    \n",
    "    fishnet_out = temp_path + \"\\\\fishnet.shp\"\n",
    "    fishnet_points = temp_path + \"\\\\fishnet_label.shp\"\n",
    "    arcpy.CreateFishnet_management(fishnet_out, originCoordinate, yAxisCoordinate, cellSizeWidth, cellSizeHeight, numRows, \n",
    "                                   numColumns, oppositeCorner, 'LABELS', '#', 'POLYGON')\n",
    "    \n",
    "    print(\"Created fishnet\")\n",
    "    \n",
    "    arcpy.management.DefineProjection(fishnet_out, str(extent_1km['ProjectionCode'][x]))\n",
    "    arcpy.management.DefineProjection(fishnet_points, str(extent_1km['ProjectionCode'][x]))\n",
    "    \n",
    "    print(\"Projected fishnet\")\n",
    "    \n",
    "    ## CLIPPING begins\n",
    "    # Identifying layer to which we clip\n",
    "    one_proj = path + eq_name + \"\\\\1km_buffer_proj.shp\"\n",
    "    \n",
    "    # clip to sample area shape (created from buffer tool)\n",
    "    fish_points_clipped = temp_path + \"\\\\1km_fish_points.shp\"\n",
    "    arcpy.Clip_analysis(fishnet_points, one_proj, fish_points_clipped)\n",
    "    \n",
    "    print(\"Clipped fish points\")\n",
    "    \n",
    "    fish_out_clipped = temp_path + \"\\\\1km_fish_poly.shp\"\n",
    "    arcpy.Clip_analysis(fishnet_out, one_proj, fish_out_clipped)\n",
    "    \n",
    "    print(\"Clipped fish poly\")\n",
    "    \n",
    "    # change points to GCS\n",
    "    out_coordinate_system = arcpy.SpatialReference('WGS 1984')\n",
    "    liq_points = path + eq_name + \"\\\\fish_liq_point_bot.shp\"\n",
    "    arcpy.Project_management(fish_points_clipped, liq_points, out_coordinate_system)\n",
    "    \n",
    "    liq_poly = path + eq_name + \"\\\\fish_liq_poly_bot.shp\"\n",
    "    arcpy.Project_management(fish_out_clipped, liq_poly, out_coordinate_system)\n",
    "    \n",
    "    print(\"Turned all to GCS\")\n",
    "    \n",
    "    # add X and Y coordinates\n",
    "    env.outputCoordinateSystem = out_coordinate_system\n",
    "    arcpy.AddXY_management(liq_points)\n",
    "    \n",
    "    print(\"Successfully finished bottom Maule\")"
   ]
  },
  {
   "cell_type": "code",
   "execution_count": 28,
   "metadata": {},
   "outputs": [
    {
     "name": "stdout",
     "output_type": "stream",
     "text": [
      "Maule, 21\n",
      "Created fishnet\n",
      "Projected fishnet\n",
      "Clipped fish points\n",
      "Clipped fish poly\n"
     ]
    },
    {
     "ename": "ExecuteError",
     "evalue": "ERROR 999999: Something unexpected caused the tool to fail. Contact Esri Technical Support (http://esriurl.com/support) to Report a Bug, and refer to the error help for potential solutions or workarounds.\nThe Project method cannot do a datum transformation.\nFailed to execute (Project).\n",
     "output_type": "error",
     "traceback": [
      "\u001b[1;31m---------------------------------------------------------------------------\u001b[0m",
      "\u001b[1;31mExecuteError\u001b[0m                              Traceback (most recent call last)",
      "\u001b[1;32m<ipython-input-28-998fc1e587fa>\u001b[0m in \u001b[0;36m<module>\u001b[1;34m\u001b[0m\n\u001b[0;32m     50\u001b[0m \u001b[1;33m\u001b[0m\u001b[0m\n\u001b[0;32m     51\u001b[0m     \u001b[0mliq_poly\u001b[0m \u001b[1;33m=\u001b[0m \u001b[0mpath\u001b[0m \u001b[1;33m+\u001b[0m \u001b[0meq_name\u001b[0m \u001b[1;33m+\u001b[0m \u001b[1;34m\"\\\\fish_liq_poly_bot.top\"\u001b[0m\u001b[1;33m\u001b[0m\u001b[1;33m\u001b[0m\u001b[0m\n\u001b[1;32m---> 52\u001b[1;33m     \u001b[0marcpy\u001b[0m\u001b[1;33m.\u001b[0m\u001b[0mProject_management\u001b[0m\u001b[1;33m(\u001b[0m\u001b[0mfish_out_clipped\u001b[0m\u001b[1;33m,\u001b[0m \u001b[0mliq_poly\u001b[0m\u001b[1;33m,\u001b[0m \u001b[0mout_coordinate_system\u001b[0m\u001b[1;33m)\u001b[0m\u001b[1;33m\u001b[0m\u001b[1;33m\u001b[0m\u001b[0m\n\u001b[0m\u001b[0;32m     53\u001b[0m \u001b[1;33m\u001b[0m\u001b[0m\n\u001b[0;32m     54\u001b[0m     \u001b[0mprint\u001b[0m\u001b[1;33m(\u001b[0m\u001b[1;34m\"Turned all to GCS\"\u001b[0m\u001b[1;33m)\u001b[0m\u001b[1;33m\u001b[0m\u001b[1;33m\u001b[0m\u001b[0m\n",
      "\u001b[1;32mC:\\Program Files\\ArcGIS\\Pro\\Resources\\ArcPy\\arcpy\\management.py\u001b[0m in \u001b[0;36mProject\u001b[1;34m(in_dataset, out_dataset, out_coor_system, transform_method, in_coor_system, preserve_shape, max_deviation, vertical)\u001b[0m\n\u001b[0;32m  10671\u001b[0m         \u001b[1;32mreturn\u001b[0m \u001b[0mretval\u001b[0m\u001b[1;33m\u001b[0m\u001b[1;33m\u001b[0m\u001b[0m\n\u001b[0;32m  10672\u001b[0m     \u001b[1;32mexcept\u001b[0m \u001b[0mException\u001b[0m \u001b[1;32mas\u001b[0m \u001b[0me\u001b[0m\u001b[1;33m:\u001b[0m\u001b[1;33m\u001b[0m\u001b[1;33m\u001b[0m\u001b[0m\n\u001b[1;32m> 10673\u001b[1;33m         \u001b[1;32mraise\u001b[0m \u001b[0me\u001b[0m\u001b[1;33m\u001b[0m\u001b[1;33m\u001b[0m\u001b[0m\n\u001b[0m\u001b[0;32m  10674\u001b[0m \u001b[1;33m\u001b[0m\u001b[0m\n\u001b[0;32m  10675\u001b[0m \u001b[1;33m\u001b[0m\u001b[0m\n",
      "\u001b[1;32mC:\\Program Files\\ArcGIS\\Pro\\Resources\\ArcPy\\arcpy\\management.py\u001b[0m in \u001b[0;36mProject\u001b[1;34m(in_dataset, out_dataset, out_coor_system, transform_method, in_coor_system, preserve_shape, max_deviation, vertical)\u001b[0m\n\u001b[0;32m  10668\u001b[0m     \u001b[1;32mfrom\u001b[0m \u001b[0marcpy\u001b[0m\u001b[1;33m.\u001b[0m\u001b[0marcobjects\u001b[0m\u001b[1;33m.\u001b[0m\u001b[0marcobjectconversion\u001b[0m \u001b[1;32mimport\u001b[0m \u001b[0mconvertArcObjectToPythonObject\u001b[0m\u001b[1;33m\u001b[0m\u001b[1;33m\u001b[0m\u001b[0m\n\u001b[0;32m  10669\u001b[0m     \u001b[1;32mtry\u001b[0m\u001b[1;33m:\u001b[0m\u001b[1;33m\u001b[0m\u001b[1;33m\u001b[0m\u001b[0m\n\u001b[1;32m> 10670\u001b[1;33m         \u001b[0mretval\u001b[0m \u001b[1;33m=\u001b[0m \u001b[0mconvertArcObjectToPythonObject\u001b[0m\u001b[1;33m(\u001b[0m\u001b[0mgp\u001b[0m\u001b[1;33m.\u001b[0m\u001b[0mProject_management\u001b[0m\u001b[1;33m(\u001b[0m\u001b[1;33m*\u001b[0m\u001b[0mgp_fixargs\u001b[0m\u001b[1;33m(\u001b[0m\u001b[1;33m(\u001b[0m\u001b[0min_dataset\u001b[0m\u001b[1;33m,\u001b[0m \u001b[0mout_dataset\u001b[0m\u001b[1;33m,\u001b[0m \u001b[0mout_coor_system\u001b[0m\u001b[1;33m,\u001b[0m \u001b[0mtransform_method\u001b[0m\u001b[1;33m,\u001b[0m \u001b[0min_coor_system\u001b[0m\u001b[1;33m,\u001b[0m \u001b[0mpreserve_shape\u001b[0m\u001b[1;33m,\u001b[0m \u001b[0mmax_deviation\u001b[0m\u001b[1;33m,\u001b[0m \u001b[0mvertical\u001b[0m\u001b[1;33m)\u001b[0m\u001b[1;33m,\u001b[0m \u001b[1;32mTrue\u001b[0m\u001b[1;33m)\u001b[0m\u001b[1;33m)\u001b[0m\u001b[1;33m)\u001b[0m\u001b[1;33m\u001b[0m\u001b[1;33m\u001b[0m\u001b[0m\n\u001b[0m\u001b[0;32m  10671\u001b[0m         \u001b[1;32mreturn\u001b[0m \u001b[0mretval\u001b[0m\u001b[1;33m\u001b[0m\u001b[1;33m\u001b[0m\u001b[0m\n\u001b[0;32m  10672\u001b[0m     \u001b[1;32mexcept\u001b[0m \u001b[0mException\u001b[0m \u001b[1;32mas\u001b[0m \u001b[0me\u001b[0m\u001b[1;33m:\u001b[0m\u001b[1;33m\u001b[0m\u001b[1;33m\u001b[0m\u001b[0m\n",
      "\u001b[1;32mC:\\Program Files\\ArcGIS\\Pro\\Resources\\ArcPy\\arcpy\\geoprocessing\\_base.py\u001b[0m in \u001b[0;36m<lambda>\u001b[1;34m(*args)\u001b[0m\n\u001b[0;32m    504\u001b[0m         \u001b[0mval\u001b[0m \u001b[1;33m=\u001b[0m \u001b[0mgetattr\u001b[0m\u001b[1;33m(\u001b[0m\u001b[0mself\u001b[0m\u001b[1;33m.\u001b[0m\u001b[0m_gp\u001b[0m\u001b[1;33m,\u001b[0m \u001b[0mattr\u001b[0m\u001b[1;33m)\u001b[0m\u001b[1;33m\u001b[0m\u001b[1;33m\u001b[0m\u001b[0m\n\u001b[0;32m    505\u001b[0m         \u001b[1;32mif\u001b[0m \u001b[0mcallable\u001b[0m\u001b[1;33m(\u001b[0m\u001b[0mval\u001b[0m\u001b[1;33m)\u001b[0m\u001b[1;33m:\u001b[0m\u001b[1;33m\u001b[0m\u001b[1;33m\u001b[0m\u001b[0m\n\u001b[1;32m--> 506\u001b[1;33m             \u001b[1;32mreturn\u001b[0m \u001b[1;32mlambda\u001b[0m \u001b[1;33m*\u001b[0m\u001b[0margs\u001b[0m\u001b[1;33m:\u001b[0m \u001b[0mval\u001b[0m\u001b[1;33m(\u001b[0m\u001b[1;33m*\u001b[0m\u001b[0mgp_fixargs\u001b[0m\u001b[1;33m(\u001b[0m\u001b[0margs\u001b[0m\u001b[1;33m,\u001b[0m \u001b[1;32mTrue\u001b[0m\u001b[1;33m)\u001b[0m\u001b[1;33m)\u001b[0m\u001b[1;33m\u001b[0m\u001b[1;33m\u001b[0m\u001b[0m\n\u001b[0m\u001b[0;32m    507\u001b[0m         \u001b[1;32melse\u001b[0m\u001b[1;33m:\u001b[0m\u001b[1;33m\u001b[0m\u001b[1;33m\u001b[0m\u001b[0m\n\u001b[0;32m    508\u001b[0m             \u001b[1;32mreturn\u001b[0m \u001b[0mconvertArcObjectToPythonObject\u001b[0m\u001b[1;33m(\u001b[0m\u001b[0mval\u001b[0m\u001b[1;33m)\u001b[0m\u001b[1;33m\u001b[0m\u001b[1;33m\u001b[0m\u001b[0m\n",
      "\u001b[1;31mExecuteError\u001b[0m: ERROR 999999: Something unexpected caused the tool to fail. Contact Esri Technical Support (http://esriurl.com/support) to Report a Bug, and refer to the error help for potential solutions or workarounds.\nThe Project method cannot do a datum transformation.\nFailed to execute (Project).\n"
     ]
    }
   ],
   "source": [
    "for x in range(21,22):\n",
    "    eq_name = extent_1km['Event'][x]\n",
    "    print(eq_name + \", \"+str(x))\n",
    "    #deletey()\n",
    "    \n",
    "    Ymiddle = (extent_1km['YMin'][x]+extent_1km['YMax'][x])/2\n",
    "               \n",
    "    originCoordinate = str(float(extent_1km['XMin'][x])) + ' ' + str(float(Ymiddle))\n",
    "    yAxisCoordinate = str(float(extent_1km['XMin'][x])) + ' ' + str(float(Ymiddle)+1) # Removed \"+10\"\n",
    "    \n",
    "    cellSizeWidth = '100'\n",
    "    cellSizeHeight = '100'\n",
    "    \n",
    "    numRows =  '0'\n",
    "    numColumns = '0'\n",
    "    \n",
    "    oppositeCorner = str(float(extent_1km['XMax'][x])) + ' ' + str(float(extent_1km['YMax'][x]))\n",
    "    \n",
    "    fishnet_out = temp_path + \"\\\\fishnet.shp\"\n",
    "    fishnet_points = temp_path + \"\\\\fishnet_label.shp\"\n",
    "    arcpy.CreateFishnet_management(fishnet_out, originCoordinate, yAxisCoordinate, cellSizeWidth, cellSizeHeight, numRows, \n",
    "                                   numColumns, oppositeCorner, 'LABELS', '#', 'POLYGON')\n",
    "    \n",
    "    print(\"Created fishnet\")\n",
    "    \n",
    "    arcpy.management.DefineProjection(fishnet_out, str(extent_1km['ProjectionCode'][x]))\n",
    "    arcpy.management.DefineProjection(fishnet_points, str(extent_1km['ProjectionCode'][x]))\n",
    "    \n",
    "    print(\"Projected fishnet\")\n",
    "    \n",
    "    ## CLIPPING begins\n",
    "    # Identifying layer to which we clip\n",
    "    one_proj = path + eq_name + \"\\\\1km_buffer_proj.shp\"\n",
    "    \n",
    "    # clip to sample area shape (created from buffer tool)\n",
    "    fish_points_clipped = temp_path + \"\\\\1km_fish_points.shp\"\n",
    "    arcpy.Clip_analysis(fishnet_points, one_proj, fish_points_clipped)\n",
    "    \n",
    "    print(\"Clipped fish points\")\n",
    "    \n",
    "    fish_out_clipped = temp_path + \"\\\\1km_fish_poly.shp\"\n",
    "    arcpy.Clip_analysis(fishnet_out, one_proj, fish_out_clipped)\n",
    "    \n",
    "    print(\"Clipped fish poly\")\n",
    "    \n",
    "    # change points to GCS\n",
    "    out_coordinate_system = arcpy.SpatialReference('WGS 1984')\n",
    "    liq_points = path + eq_name + \"\\\\fish_liq_point_top.shp\"\n",
    "    arcpy.Project_management(fish_points_clipped, liq_points, out_coordinate_system)\n",
    "    \n",
    "    liq_poly = path + eq_name + \"\\\\fish_liq_poly_bot.top\"\n",
    "    arcpy.Project_management(fish_out_clipped, liq_poly, out_coordinate_system)\n",
    "    \n",
    "    print(\"Turned all to GCS\")\n",
    "    \n",
    "    # add X and Y coordinates\n",
    "    env.outputCoordinateSystem = out_coordinate_system\n",
    "    arcpy.AddXY_management(liq_points)\n",
    "    \n",
    "    print(\"Successfully finished bottom Maule\")"
   ]
  },
  {
   "cell_type": "code",
   "execution_count": 40,
   "metadata": {},
   "outputs": [
    {
     "data": {
      "text/plain": [
       "<SpatialReference object at 0x1dce449fcc0[0x1dc85fe0470]>"
      ]
     },
     "execution_count": 40,
     "metadata": {},
     "output_type": "execute_result"
    }
   ],
   "source": [
    "out_coordinate_system"
   ]
  },
  {
   "cell_type": "code",
   "execution_count": 42,
   "metadata": {},
   "outputs": [
    {
     "ename": "ExecuteError",
     "evalue": "ERROR 000464: Cannot get exclusive schema lock.  Either being edited or in use by another application or service.\nFailed to execute (AddXY).\n",
     "output_type": "error",
     "traceback": [
      "\u001b[1;31m---------------------------------------------------------------------------\u001b[0m",
      "\u001b[1;31mExecuteError\u001b[0m                              Traceback (most recent call last)",
      "\u001b[1;32m<ipython-input-42-a8612bb5412f>\u001b[0m in \u001b[0;36m<module>\u001b[1;34m\u001b[0m\n\u001b[0;32m      3\u001b[0m \u001b[1;31m# add X and Y coordinates\u001b[0m\u001b[1;33m\u001b[0m\u001b[1;33m\u001b[0m\u001b[1;33m\u001b[0m\u001b[0m\n\u001b[0;32m      4\u001b[0m \u001b[0menv\u001b[0m\u001b[1;33m.\u001b[0m\u001b[0moutputCoordinateSystem\u001b[0m \u001b[1;33m=\u001b[0m \u001b[0mout_coordinate_system\u001b[0m\u001b[1;33m\u001b[0m\u001b[1;33m\u001b[0m\u001b[0m\n\u001b[1;32m----> 5\u001b[1;33m \u001b[0marcpy\u001b[0m\u001b[1;33m.\u001b[0m\u001b[0mAddXY_management\u001b[0m\u001b[1;33m(\u001b[0m\u001b[0mliq_points\u001b[0m\u001b[1;33m)\u001b[0m\u001b[1;33m\u001b[0m\u001b[1;33m\u001b[0m\u001b[0m\n\u001b[0m\u001b[0;32m      6\u001b[0m \u001b[1;33m\u001b[0m\u001b[0m\n\u001b[0;32m      7\u001b[0m \u001b[0mprint\u001b[0m\u001b[1;33m(\u001b[0m\u001b[1;34m\"Successfully finished top Maule\"\u001b[0m\u001b[1;33m)\u001b[0m\u001b[1;33m\u001b[0m\u001b[1;33m\u001b[0m\u001b[0m\n",
      "\u001b[1;32mC:\\Program Files\\ArcGIS\\Pro\\Resources\\ArcPy\\arcpy\\management.py\u001b[0m in \u001b[0;36mAddXY\u001b[1;34m(in_features)\u001b[0m\n\u001b[0;32m   2542\u001b[0m         \u001b[1;32mreturn\u001b[0m \u001b[0mretval\u001b[0m\u001b[1;33m\u001b[0m\u001b[1;33m\u001b[0m\u001b[0m\n\u001b[0;32m   2543\u001b[0m     \u001b[1;32mexcept\u001b[0m \u001b[0mException\u001b[0m \u001b[1;32mas\u001b[0m \u001b[0me\u001b[0m\u001b[1;33m:\u001b[0m\u001b[1;33m\u001b[0m\u001b[1;33m\u001b[0m\u001b[0m\n\u001b[1;32m-> 2544\u001b[1;33m         \u001b[1;32mraise\u001b[0m \u001b[0me\u001b[0m\u001b[1;33m\u001b[0m\u001b[1;33m\u001b[0m\u001b[0m\n\u001b[0m\u001b[0;32m   2545\u001b[0m \u001b[1;33m\u001b[0m\u001b[0m\n\u001b[0;32m   2546\u001b[0m \u001b[1;33m@\u001b[0m\u001b[0mgptooldoc\u001b[0m\u001b[1;33m(\u001b[0m\u001b[1;34m'Adjust3DZ_management'\u001b[0m\u001b[1;33m,\u001b[0m \u001b[1;32mNone\u001b[0m\u001b[1;33m)\u001b[0m\u001b[1;33m\u001b[0m\u001b[1;33m\u001b[0m\u001b[0m\n",
      "\u001b[1;32mC:\\Program Files\\ArcGIS\\Pro\\Resources\\ArcPy\\arcpy\\management.py\u001b[0m in \u001b[0;36mAddXY\u001b[1;34m(in_features)\u001b[0m\n\u001b[0;32m   2539\u001b[0m     \u001b[1;32mfrom\u001b[0m \u001b[0marcpy\u001b[0m\u001b[1;33m.\u001b[0m\u001b[0marcobjects\u001b[0m\u001b[1;33m.\u001b[0m\u001b[0marcobjectconversion\u001b[0m \u001b[1;32mimport\u001b[0m \u001b[0mconvertArcObjectToPythonObject\u001b[0m\u001b[1;33m\u001b[0m\u001b[1;33m\u001b[0m\u001b[0m\n\u001b[0;32m   2540\u001b[0m     \u001b[1;32mtry\u001b[0m\u001b[1;33m:\u001b[0m\u001b[1;33m\u001b[0m\u001b[1;33m\u001b[0m\u001b[0m\n\u001b[1;32m-> 2541\u001b[1;33m         \u001b[0mretval\u001b[0m \u001b[1;33m=\u001b[0m \u001b[0mconvertArcObjectToPythonObject\u001b[0m\u001b[1;33m(\u001b[0m\u001b[0mgp\u001b[0m\u001b[1;33m.\u001b[0m\u001b[0mAddXY_management\u001b[0m\u001b[1;33m(\u001b[0m\u001b[1;33m*\u001b[0m\u001b[0mgp_fixargs\u001b[0m\u001b[1;33m(\u001b[0m\u001b[1;33m(\u001b[0m\u001b[0min_features\u001b[0m\u001b[1;33m,\u001b[0m\u001b[1;33m)\u001b[0m\u001b[1;33m,\u001b[0m \u001b[1;32mTrue\u001b[0m\u001b[1;33m)\u001b[0m\u001b[1;33m)\u001b[0m\u001b[1;33m)\u001b[0m\u001b[1;33m\u001b[0m\u001b[1;33m\u001b[0m\u001b[0m\n\u001b[0m\u001b[0;32m   2542\u001b[0m         \u001b[1;32mreturn\u001b[0m \u001b[0mretval\u001b[0m\u001b[1;33m\u001b[0m\u001b[1;33m\u001b[0m\u001b[0m\n\u001b[0;32m   2543\u001b[0m     \u001b[1;32mexcept\u001b[0m \u001b[0mException\u001b[0m \u001b[1;32mas\u001b[0m \u001b[0me\u001b[0m\u001b[1;33m:\u001b[0m\u001b[1;33m\u001b[0m\u001b[1;33m\u001b[0m\u001b[0m\n",
      "\u001b[1;32mC:\\Program Files\\ArcGIS\\Pro\\Resources\\ArcPy\\arcpy\\geoprocessing\\_base.py\u001b[0m in \u001b[0;36m<lambda>\u001b[1;34m(*args)\u001b[0m\n\u001b[0;32m    504\u001b[0m         \u001b[0mval\u001b[0m \u001b[1;33m=\u001b[0m \u001b[0mgetattr\u001b[0m\u001b[1;33m(\u001b[0m\u001b[0mself\u001b[0m\u001b[1;33m.\u001b[0m\u001b[0m_gp\u001b[0m\u001b[1;33m,\u001b[0m \u001b[0mattr\u001b[0m\u001b[1;33m)\u001b[0m\u001b[1;33m\u001b[0m\u001b[1;33m\u001b[0m\u001b[0m\n\u001b[0;32m    505\u001b[0m         \u001b[1;32mif\u001b[0m \u001b[0mcallable\u001b[0m\u001b[1;33m(\u001b[0m\u001b[0mval\u001b[0m\u001b[1;33m)\u001b[0m\u001b[1;33m:\u001b[0m\u001b[1;33m\u001b[0m\u001b[1;33m\u001b[0m\u001b[0m\n\u001b[1;32m--> 506\u001b[1;33m             \u001b[1;32mreturn\u001b[0m \u001b[1;32mlambda\u001b[0m \u001b[1;33m*\u001b[0m\u001b[0margs\u001b[0m\u001b[1;33m:\u001b[0m \u001b[0mval\u001b[0m\u001b[1;33m(\u001b[0m\u001b[1;33m*\u001b[0m\u001b[0mgp_fixargs\u001b[0m\u001b[1;33m(\u001b[0m\u001b[0margs\u001b[0m\u001b[1;33m,\u001b[0m \u001b[1;32mTrue\u001b[0m\u001b[1;33m)\u001b[0m\u001b[1;33m)\u001b[0m\u001b[1;33m\u001b[0m\u001b[1;33m\u001b[0m\u001b[0m\n\u001b[0m\u001b[0;32m    507\u001b[0m         \u001b[1;32melse\u001b[0m\u001b[1;33m:\u001b[0m\u001b[1;33m\u001b[0m\u001b[1;33m\u001b[0m\u001b[0m\n\u001b[0;32m    508\u001b[0m             \u001b[1;32mreturn\u001b[0m \u001b[0mconvertArcObjectToPythonObject\u001b[0m\u001b[1;33m(\u001b[0m\u001b[0mval\u001b[0m\u001b[1;33m)\u001b[0m\u001b[1;33m\u001b[0m\u001b[1;33m\u001b[0m\u001b[0m\n",
      "\u001b[1;31mExecuteError\u001b[0m: ERROR 000464: Cannot get exclusive schema lock.  Either being edited or in use by another application or service.\nFailed to execute (AddXY).\n"
     ]
    }
   ],
   "source": [
    "liq_points = path + eq_name + \"\\\\fish_liq_point_top.shp\"\n",
    "\n",
    "# add X and Y coordinates\n",
    "env.outputCoordinateSystem = out_coordinate_system\n",
    "arcpy.AddXY_management(liq_points)\n",
    "\n",
    "print(\"Successfully finished top Maule\")"
   ]
  },
  {
   "cell_type": "code",
   "execution_count": null,
   "metadata": {},
   "outputs": [],
   "source": []
  }
 ],
 "metadata": {
  "kernelspec": {
   "display_name": "Python 3",
   "language": "python",
   "name": "python3"
  },
  "language_info": {
   "codemirror_mode": {
    "name": "ipython",
    "version": 3
   },
   "file_extension": ".py",
   "mimetype": "text/x-python",
   "name": "python",
   "nbconvert_exporter": "python",
   "pygments_lexer": "ipython3",
   "version": "3.7.3"
  }
 },
 "nbformat": 4,
 "nbformat_minor": 2
}
