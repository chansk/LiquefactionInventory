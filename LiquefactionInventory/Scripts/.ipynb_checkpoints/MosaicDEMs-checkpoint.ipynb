{
 "cells": [
  {
   "cell_type": "code",
   "execution_count": 1,
   "metadata": {},
   "outputs": [],
   "source": [
    "# Import system modules\n",
    "import pandas as pd \n",
    "import os\n",
    "import arcpy"
   ]
  },
  {
   "cell_type": "code",
   "execution_count": 6,
   "metadata": {},
   "outputs": [],
   "source": [
    "# Change working directory\n",
    "os.chdir(\"C:\\\\Users\\\\achans01\\\\Downloads\")"
   ]
  },
  {
   "cell_type": "code",
   "execution_count": 24,
   "metadata": {},
   "outputs": [],
   "source": [
    "dem_med_tifs = [\"50S090W_20101117_gmted_med075.tif\",\n",
    "               \"30N150E_20101117_gmted_med075.tif\",\n",
    "               \"10N120E_20101117_gmted_med075.tif\",\n",
    "               \"70S090W_20101117_gmted_med075.tif\",\n",
    "               \"30S090W_20101117_gmted_med075.tif\",\n",
    "               \"10S090W_20101117_gmted_med075.tif\",\n",
    "               \"10N060E_20101117_gmted_med075.tif\",\n",
    "               \"30N060E_20101117_gmted_med075.tif\",\n",
    "               \"10N090W_20101117_gmted_med075.tif\",\n",
    "               \"50S150E_20101117_gmted_med075.tif\",\n",
    "               \"50N180W_20101117_gmted_med075.tif\",\n",
    "               \"50N150W_20101117_gmted_med075.tif\",\n",
    "               \"30N150W_20101117_gmted_med075.tif\",\n",
    "               \"30N120W_20101117_gmted_med075.tif\",\n",
    "               \"30N120E_20101117_gmted_med075.tif\",\n",
    "               \"30N090W_20101117_gmted_med075.tif\",\n",
    "               \"30N090E_20101117_gmted_med075.tif\",\n",
    "               \"30N030W_20101117_gmted_med075.tif\",\n",
    "               \"30N030E_20101117_gmted_med075.tif\",\n",
    "               \"30N000E_20101117_gmted_med075.tif\",\n",
    "               \"10S120E_20101117_gmted_med075.tif\",\n",
    "               \"10S090E_20101117_gmted_med075.tif\",\n",
    "               \"10N120W_20101117_gmted_med075.tif\",\n",
    "               \"10N090E_20101117_gmted_med075.tif\"]"
   ]
  },
  {
   "cell_type": "code",
   "execution_count": 25,
   "metadata": {},
   "outputs": [],
   "source": [
    "path_name = \"C:\\\\Users\\\\achans01\\\\Downloads\""
   ]
  },
  {
   "cell_type": "code",
   "execution_count": 26,
   "metadata": {},
   "outputs": [],
   "source": [
    "output_name = \"DEM_Mosaic.tif\""
   ]
  },
  {
   "cell_type": "code",
   "execution_count": 27,
   "metadata": {},
   "outputs": [
    {
     "data": {
      "text/plain": [
       "<Result 'C:\\\\Users\\\\achans01\\\\Downloads\\\\DEM_Mosaic.tif'>"
      ]
     },
     "execution_count": 27,
     "metadata": {},
     "output_type": "execute_result"
    }
   ],
   "source": [
    "arcpy.MosaicToNewRaster_management(dem_med_tifs, path_name, output_name, \"\", \"16_BIT_SIGNED\", \"\", \"1\", \"MEAN\", \"FIRST\")"
   ]
  },
  {
   "cell_type": "code",
   "execution_count": 30,
   "metadata": {},
   "outputs": [],
   "source": [
    "dem_std_tifs = [\"50S090W_20101117_gmted_std075.tif\",\n",
    "               \"30N150E_20101117_gmted_std075.tif\",\n",
    "               \"10N120E_20101117_gmted_std075.tif\",\n",
    "               \"70S090W_20101117_gmted_std075.tif\",\n",
    "               \"30S090W_20101117_gmted_std075.tif\",\n",
    "               \"10S090W_20101117_gmted_std075.tif\",\n",
    "               \"10N060E_20101117_gmted_std075.tif\",\n",
    "               \"30N060E_20101117_gmted_std075.tif\",\n",
    "               \"10N090W_20101117_gmted_std075.tif\",\n",
    "               \"50S150E_20101117_gmted_std075.tif\",\n",
    "               \"50N180W_20101117_gmted_std075.tif\",\n",
    "               \"50N150W_20101117_gmted_std075.tif\",\n",
    "               \"30N150W_20101117_gmted_std075.tif\",\n",
    "               \"30N120W_20101117_gmted_std075.tif\",\n",
    "               \"30N120E_20101117_gmted_std075.tif\",\n",
    "               \"30N090W_20101117_gmted_std075.tif\",\n",
    "               \"30N090E_20101117_gmted_std075.tif\",\n",
    "               \"30N030W_20101117_gmted_std075.tif\",\n",
    "               \"30N030E_20101117_gmted_std075.tif\",\n",
    "               \"30N000E_20101117_gmted_std075.tif\",\n",
    "               \"10S120E_20101117_gmted_std075.tif\",\n",
    "               \"10S090E_20101117_gmted_std075.tif\",\n",
    "               \"10N120W_20101117_gmted_std075.tif\",\n",
    "               \"10N090E_20101117_gmted_std075.tif\"]\n",
    "\n",
    "output_name = \"DEM_Mosaic_STDs.tif\""
   ]
  },
  {
   "cell_type": "code",
   "execution_count": 31,
   "metadata": {},
   "outputs": [
    {
     "data": {
      "text/plain": [
       "<Result 'C:\\\\Users\\\\achans01\\\\Downloads\\\\DEM_Mosaic_STDs.tif'>"
      ]
     },
     "execution_count": 31,
     "metadata": {},
     "output_type": "execute_result"
    }
   ],
   "source": [
    "arcpy.MosaicToNewRaster_management(dem_std_tifs, path_name, output_name, \"\", \"16_BIT_SIGNED\", \"\", \"1\", \"MEAN\", \"FIRST\")"
   ]
  },
  {
   "cell_type": "code",
   "execution_count": null,
   "metadata": {},
   "outputs": [],
   "source": []
  }
 ],
 "metadata": {
  "kernelspec": {
   "display_name": "Python 3",
   "language": "python",
   "name": "python3"
  },
  "language_info": {
   "codemirror_mode": {
    "name": "ipython",
    "version": 3
   },
   "file_extension": ".py",
   "mimetype": "text/x-python",
   "name": "python",
   "nbconvert_exporter": "python",
   "pygments_lexer": "ipython3",
   "version": "3.7.3"
  }
 },
 "nbformat": 4,
 "nbformat_minor": 2
}
