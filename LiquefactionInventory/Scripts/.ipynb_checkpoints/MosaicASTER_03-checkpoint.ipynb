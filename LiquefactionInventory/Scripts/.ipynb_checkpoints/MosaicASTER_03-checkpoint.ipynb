{
 "cells": [
  {
   "cell_type": "code",
   "execution_count": null,
   "metadata": {},
   "outputs": [],
   "source": [
    "# Author: Alex Chansky\n",
    "# Date: 3/13/21\n",
    "# Purpose: Mosaic together cells representing “attributes” of water bodies, where 0=land, \n",
    "    # 1=ocean, 2=rivers, and 3=lakes.\n",
    "    # Also, change extensions slightly for DEM mosaics (MUST change 4_BIT to 16_BIT_SIGNED)"
   ]
  },
  {
   "cell_type": "code",
   "execution_count": 1,
   "metadata": {},
   "outputs": [
    {
     "data": {
      "text/plain": [
       "'CheckedOut'"
      ]
     },
     "execution_count": 1,
     "metadata": {},
     "output_type": "execute_result"
    }
   ],
   "source": [
    "# Import system modules\n",
    "import pandas as pd \n",
    "import os\n",
    "import arcpy\n",
    "arcpy.CheckOutExtension(\"Spatial\") # This checks out the license"
   ]
  },
  {
   "cell_type": "code",
   "execution_count": 3,
   "metadata": {},
   "outputs": [],
   "source": [
    "arcpy.env.overwriteOutput = True"
   ]
  },
  {
   "cell_type": "code",
   "execution_count": 4,
   "metadata": {},
   "outputs": [],
   "source": [
    "eq_name = \"NewEngland\""
   ]
  },
  {
   "cell_type": "code",
   "execution_count": 14,
   "metadata": {},
   "outputs": [],
   "source": [
    "# Change working directory\n",
    "os.chdir(\"C:\\\\Users\\\\achans01\\\\Downloads\\\\WatBods\\\\Regions\\\\\"+eq_name)\n",
    "path_name = \"C:\\\\Users\\\\achans01\\\\Downloads\\\\WatBods\\\\Regions\\\\\"+eq_name\n",
    "aster_list = os.listdir(path_name)\n",
    "\n",
    "aster_list\n",
    "\n",
    "num_aster = len(aster_list)\n",
    "\n",
    "# Starting off mosaic with the mosaic of North America (leave empty if starting fresh)\n",
    "aster_tifs = []"
   ]
  },
  {
   "cell_type": "code",
   "execution_count": 15,
   "metadata": {},
   "outputs": [
    {
     "data": {
      "text/plain": [
       "160"
      ]
     },
     "execution_count": 15,
     "metadata": {},
     "output_type": "execute_result"
    }
   ],
   "source": [
    "num_aster"
   ]
  },
  {
   "cell_type": "markdown",
   "metadata": {},
   "source": [
    "# Some cells, such as the following, need to be adjusted based on tile extension path, downloads folder extension path, and whether aiming to combine attributes tiles or DEM tiles (MUST change 4_BIT to 16_BIT_SIGNED)"
   ]
  },
  {
   "cell_type": "code",
   "execution_count": 16,
   "metadata": {
    "collapsed": true
   },
   "outputs": [
    {
     "name": "stdout",
     "output_type": "stream",
     "text": [
      "['C:\\\\Users\\\\achans01\\\\Downloads\\\\WatBods\\\\Regions\\\\NewEngland\\\\ASTWBDV001_N40W073_att.tif', 'C:\\\\Users\\\\achans01\\\\Downloads\\\\WatBods\\\\Regions\\\\NewEngland\\\\ASTWBDV001_N40W073_dem.tif', 'C:\\\\Users\\\\achans01\\\\Downloads\\\\WatBods\\\\Regions\\\\NewEngland\\\\ASTWBDV001_N40W074_att.tif', 'C:\\\\Users\\\\achans01\\\\Downloads\\\\WatBods\\\\Regions\\\\NewEngland\\\\ASTWBDV001_N40W074_dem.tif', 'C:\\\\Users\\\\achans01\\\\Downloads\\\\WatBods\\\\Regions\\\\NewEngland\\\\ASTWBDV001_N40W075_att.tif', 'C:\\\\Users\\\\achans01\\\\Downloads\\\\WatBods\\\\Regions\\\\NewEngland\\\\ASTWBDV001_N40W075_dem.tif', 'C:\\\\Users\\\\achans01\\\\Downloads\\\\WatBods\\\\Regions\\\\NewEngland\\\\ASTWBDV001_N41W070_att.tif', 'C:\\\\Users\\\\achans01\\\\Downloads\\\\WatBods\\\\Regions\\\\NewEngland\\\\ASTWBDV001_N41W070_dem.tif', 'C:\\\\Users\\\\achans01\\\\Downloads\\\\WatBods\\\\Regions\\\\NewEngland\\\\ASTWBDV001_N41W071_att.tif', 'C:\\\\Users\\\\achans01\\\\Downloads\\\\WatBods\\\\Regions\\\\NewEngland\\\\ASTWBDV001_N41W071_dem.tif', 'C:\\\\Users\\\\achans01\\\\Downloads\\\\WatBods\\\\Regions\\\\NewEngland\\\\ASTWBDV001_N41W072_att.tif', 'C:\\\\Users\\\\achans01\\\\Downloads\\\\WatBods\\\\Regions\\\\NewEngland\\\\ASTWBDV001_N41W072_dem.tif', 'C:\\\\Users\\\\achans01\\\\Downloads\\\\WatBods\\\\Regions\\\\NewEngland\\\\ASTWBDV001_N41W073_att.tif', 'C:\\\\Users\\\\achans01\\\\Downloads\\\\WatBods\\\\Regions\\\\NewEngland\\\\ASTWBDV001_N41W073_dem.tif', 'C:\\\\Users\\\\achans01\\\\Downloads\\\\WatBods\\\\Regions\\\\NewEngland\\\\ASTWBDV001_N41W074_att.tif', 'C:\\\\Users\\\\achans01\\\\Downloads\\\\WatBods\\\\Regions\\\\NewEngland\\\\ASTWBDV001_N41W074_dem.tif', 'C:\\\\Users\\\\achans01\\\\Downloads\\\\WatBods\\\\Regions\\\\NewEngland\\\\ASTWBDV001_N41W075_att.tif', 'C:\\\\Users\\\\achans01\\\\Downloads\\\\WatBods\\\\Regions\\\\NewEngland\\\\ASTWBDV001_N41W075_dem.tif', 'C:\\\\Users\\\\achans01\\\\Downloads\\\\WatBods\\\\Regions\\\\NewEngland\\\\ASTWBDV001_N41W076_att.tif', 'C:\\\\Users\\\\achans01\\\\Downloads\\\\WatBods\\\\Regions\\\\NewEngland\\\\ASTWBDV001_N41W076_dem.tif', 'C:\\\\Users\\\\achans01\\\\Downloads\\\\WatBods\\\\Regions\\\\NewEngland\\\\ASTWBDV001_N41W077_att.tif', 'C:\\\\Users\\\\achans01\\\\Downloads\\\\WatBods\\\\Regions\\\\NewEngland\\\\ASTWBDV001_N41W077_dem.tif', 'C:\\\\Users\\\\achans01\\\\Downloads\\\\WatBods\\\\Regions\\\\NewEngland\\\\ASTWBDV001_N41W078_att.tif', 'C:\\\\Users\\\\achans01\\\\Downloads\\\\WatBods\\\\Regions\\\\NewEngland\\\\ASTWBDV001_N41W078_dem.tif', 'C:\\\\Users\\\\achans01\\\\Downloads\\\\WatBods\\\\Regions\\\\NewEngland\\\\ASTWBDV001_N41W079_att.tif', 'C:\\\\Users\\\\achans01\\\\Downloads\\\\WatBods\\\\Regions\\\\NewEngland\\\\ASTWBDV001_N41W079_dem.tif', 'C:\\\\Users\\\\achans01\\\\Downloads\\\\WatBods\\\\Regions\\\\NewEngland\\\\ASTWBDV001_N41W080_att.tif', 'C:\\\\Users\\\\achans01\\\\Downloads\\\\WatBods\\\\Regions\\\\NewEngland\\\\ASTWBDV001_N41W080_dem.tif', 'C:\\\\Users\\\\achans01\\\\Downloads\\\\WatBods\\\\Regions\\\\NewEngland\\\\ASTWBDV001_N41W081_att.tif', 'C:\\\\Users\\\\achans01\\\\Downloads\\\\WatBods\\\\Regions\\\\NewEngland\\\\ASTWBDV001_N41W081_dem.tif', 'C:\\\\Users\\\\achans01\\\\Downloads\\\\WatBods\\\\Regions\\\\NewEngland\\\\ASTWBDV001_N42W071_att.tif', 'C:\\\\Users\\\\achans01\\\\Downloads\\\\WatBods\\\\Regions\\\\NewEngland\\\\ASTWBDV001_N42W071_dem.tif', 'C:\\\\Users\\\\achans01\\\\Downloads\\\\WatBods\\\\Regions\\\\NewEngland\\\\ASTWBDV001_N42W072_att.tif', 'C:\\\\Users\\\\achans01\\\\Downloads\\\\WatBods\\\\Regions\\\\NewEngland\\\\ASTWBDV001_N42W072_dem.tif', 'C:\\\\Users\\\\achans01\\\\Downloads\\\\WatBods\\\\Regions\\\\NewEngland\\\\ASTWBDV001_N42W073_att.tif', 'C:\\\\Users\\\\achans01\\\\Downloads\\\\WatBods\\\\Regions\\\\NewEngland\\\\ASTWBDV001_N42W073_dem.tif', 'C:\\\\Users\\\\achans01\\\\Downloads\\\\WatBods\\\\Regions\\\\NewEngland\\\\ASTWBDV001_N42W074_att.tif', 'C:\\\\Users\\\\achans01\\\\Downloads\\\\WatBods\\\\Regions\\\\NewEngland\\\\ASTWBDV001_N42W074_dem.tif', 'C:\\\\Users\\\\achans01\\\\Downloads\\\\WatBods\\\\Regions\\\\NewEngland\\\\ASTWBDV001_N42W075_att.tif', 'C:\\\\Users\\\\achans01\\\\Downloads\\\\WatBods\\\\Regions\\\\NewEngland\\\\ASTWBDV001_N42W075_dem.tif', 'C:\\\\Users\\\\achans01\\\\Downloads\\\\WatBods\\\\Regions\\\\NewEngland\\\\ASTWBDV001_N42W076_att.tif', 'C:\\\\Users\\\\achans01\\\\Downloads\\\\WatBods\\\\Regions\\\\NewEngland\\\\ASTWBDV001_N42W076_dem.tif', 'C:\\\\Users\\\\achans01\\\\Downloads\\\\WatBods\\\\Regions\\\\NewEngland\\\\ASTWBDV001_N42W077_att.tif', 'C:\\\\Users\\\\achans01\\\\Downloads\\\\WatBods\\\\Regions\\\\NewEngland\\\\ASTWBDV001_N42W077_dem.tif', 'C:\\\\Users\\\\achans01\\\\Downloads\\\\WatBods\\\\Regions\\\\NewEngland\\\\ASTWBDV001_N42W078_att.tif', 'C:\\\\Users\\\\achans01\\\\Downloads\\\\WatBods\\\\Regions\\\\NewEngland\\\\ASTWBDV001_N42W078_dem.tif', 'C:\\\\Users\\\\achans01\\\\Downloads\\\\WatBods\\\\Regions\\\\NewEngland\\\\ASTWBDV001_N42W079_att.tif', 'C:\\\\Users\\\\achans01\\\\Downloads\\\\WatBods\\\\Regions\\\\NewEngland\\\\ASTWBDV001_N42W079_dem.tif', 'C:\\\\Users\\\\achans01\\\\Downloads\\\\WatBods\\\\Regions\\\\NewEngland\\\\ASTWBDV001_N42W080_att.tif', 'C:\\\\Users\\\\achans01\\\\Downloads\\\\WatBods\\\\Regions\\\\NewEngland\\\\ASTWBDV001_N42W080_dem.tif', 'C:\\\\Users\\\\achans01\\\\Downloads\\\\WatBods\\\\Regions\\\\NewEngland\\\\ASTWBDV001_N42W081_att.tif', 'C:\\\\Users\\\\achans01\\\\Downloads\\\\WatBods\\\\Regions\\\\NewEngland\\\\ASTWBDV001_N42W081_dem.tif', 'C:\\\\Users\\\\achans01\\\\Downloads\\\\WatBods\\\\Regions\\\\NewEngland\\\\ASTWBDV001_N43W069_att.tif', 'C:\\\\Users\\\\achans01\\\\Downloads\\\\WatBods\\\\Regions\\\\NewEngland\\\\ASTWBDV001_N43W069_dem.tif', 'C:\\\\Users\\\\achans01\\\\Downloads\\\\WatBods\\\\Regions\\\\NewEngland\\\\ASTWBDV001_N43W070_att.tif', 'C:\\\\Users\\\\achans01\\\\Downloads\\\\WatBods\\\\Regions\\\\NewEngland\\\\ASTWBDV001_N43W070_dem.tif', 'C:\\\\Users\\\\achans01\\\\Downloads\\\\WatBods\\\\Regions\\\\NewEngland\\\\ASTWBDV001_N43W071_att.tif', 'C:\\\\Users\\\\achans01\\\\Downloads\\\\WatBods\\\\Regions\\\\NewEngland\\\\ASTWBDV001_N43W071_dem.tif', 'C:\\\\Users\\\\achans01\\\\Downloads\\\\WatBods\\\\Regions\\\\NewEngland\\\\ASTWBDV001_N43W072_att.tif', 'C:\\\\Users\\\\achans01\\\\Downloads\\\\WatBods\\\\Regions\\\\NewEngland\\\\ASTWBDV001_N43W072_dem.tif', 'C:\\\\Users\\\\achans01\\\\Downloads\\\\WatBods\\\\Regions\\\\NewEngland\\\\ASTWBDV001_N43W073_att.tif', 'C:\\\\Users\\\\achans01\\\\Downloads\\\\WatBods\\\\Regions\\\\NewEngland\\\\ASTWBDV001_N43W073_dem.tif', 'C:\\\\Users\\\\achans01\\\\Downloads\\\\WatBods\\\\Regions\\\\NewEngland\\\\ASTWBDV001_N43W074_att.tif', 'C:\\\\Users\\\\achans01\\\\Downloads\\\\WatBods\\\\Regions\\\\NewEngland\\\\ASTWBDV001_N43W074_dem.tif', 'C:\\\\Users\\\\achans01\\\\Downloads\\\\WatBods\\\\Regions\\\\NewEngland\\\\ASTWBDV001_N43W075_att.tif', 'C:\\\\Users\\\\achans01\\\\Downloads\\\\WatBods\\\\Regions\\\\NewEngland\\\\ASTWBDV001_N43W075_dem.tif', 'C:\\\\Users\\\\achans01\\\\Downloads\\\\WatBods\\\\Regions\\\\NewEngland\\\\ASTWBDV001_N43W076_att.tif', 'C:\\\\Users\\\\achans01\\\\Downloads\\\\WatBods\\\\Regions\\\\NewEngland\\\\ASTWBDV001_N43W076_dem.tif', 'C:\\\\Users\\\\achans01\\\\Downloads\\\\WatBods\\\\Regions\\\\NewEngland\\\\ASTWBDV001_N43W077_att.tif', 'C:\\\\Users\\\\achans01\\\\Downloads\\\\WatBods\\\\Regions\\\\NewEngland\\\\ASTWBDV001_N43W077_dem.tif', 'C:\\\\Users\\\\achans01\\\\Downloads\\\\WatBods\\\\Regions\\\\NewEngland\\\\ASTWBDV001_N43W078_att.tif', 'C:\\\\Users\\\\achans01\\\\Downloads\\\\WatBods\\\\Regions\\\\NewEngland\\\\ASTWBDV001_N43W078_dem.tif', 'C:\\\\Users\\\\achans01\\\\Downloads\\\\WatBods\\\\Regions\\\\NewEngland\\\\ASTWBDV001_N43W079_att.tif', 'C:\\\\Users\\\\achans01\\\\Downloads\\\\WatBods\\\\Regions\\\\NewEngland\\\\ASTWBDV001_N43W079_dem.tif', 'C:\\\\Users\\\\achans01\\\\Downloads\\\\WatBods\\\\Regions\\\\NewEngland\\\\ASTWBDV001_N43W080_att.tif', 'C:\\\\Users\\\\achans01\\\\Downloads\\\\WatBods\\\\Regions\\\\NewEngland\\\\ASTWBDV001_N43W080_dem.tif', 'C:\\\\Users\\\\achans01\\\\Downloads\\\\WatBods\\\\Regions\\\\NewEngland\\\\ASTWBDV001_N43W081_att.tif', 'C:\\\\Users\\\\achans01\\\\Downloads\\\\WatBods\\\\Regions\\\\NewEngland\\\\ASTWBDV001_N43W081_dem.tif', 'C:\\\\Users\\\\achans01\\\\Downloads\\\\WatBods\\\\Regions\\\\NewEngland\\\\ASTWBDV001_N44W067_att.tif', 'C:\\\\Users\\\\achans01\\\\Downloads\\\\WatBods\\\\Regions\\\\NewEngland\\\\ASTWBDV001_N44W067_dem.tif', 'C:\\\\Users\\\\achans01\\\\Downloads\\\\WatBods\\\\Regions\\\\NewEngland\\\\ASTWBDV001_N44W068_att.tif', 'C:\\\\Users\\\\achans01\\\\Downloads\\\\WatBods\\\\Regions\\\\NewEngland\\\\ASTWBDV001_N44W068_dem.tif', 'C:\\\\Users\\\\achans01\\\\Downloads\\\\WatBods\\\\Regions\\\\NewEngland\\\\ASTWBDV001_N44W069_att.tif', 'C:\\\\Users\\\\achans01\\\\Downloads\\\\WatBods\\\\Regions\\\\NewEngland\\\\ASTWBDV001_N44W069_dem.tif', 'C:\\\\Users\\\\achans01\\\\Downloads\\\\WatBods\\\\Regions\\\\NewEngland\\\\ASTWBDV001_N44W070_att.tif', 'C:\\\\Users\\\\achans01\\\\Downloads\\\\WatBods\\\\Regions\\\\NewEngland\\\\ASTWBDV001_N44W070_dem.tif', 'C:\\\\Users\\\\achans01\\\\Downloads\\\\WatBods\\\\Regions\\\\NewEngland\\\\ASTWBDV001_N44W071_att.tif', 'C:\\\\Users\\\\achans01\\\\Downloads\\\\WatBods\\\\Regions\\\\NewEngland\\\\ASTWBDV001_N44W071_dem.tif', 'C:\\\\Users\\\\achans01\\\\Downloads\\\\WatBods\\\\Regions\\\\NewEngland\\\\ASTWBDV001_N44W072_att.tif', 'C:\\\\Users\\\\achans01\\\\Downloads\\\\WatBods\\\\Regions\\\\NewEngland\\\\ASTWBDV001_N44W072_dem.tif', 'C:\\\\Users\\\\achans01\\\\Downloads\\\\WatBods\\\\Regions\\\\NewEngland\\\\ASTWBDV001_N44W073_att.tif', 'C:\\\\Users\\\\achans01\\\\Downloads\\\\WatBods\\\\Regions\\\\NewEngland\\\\ASTWBDV001_N44W073_dem.tif', 'C:\\\\Users\\\\achans01\\\\Downloads\\\\WatBods\\\\Regions\\\\NewEngland\\\\ASTWBDV001_N44W074_att.tif', 'C:\\\\Users\\\\achans01\\\\Downloads\\\\WatBods\\\\Regions\\\\NewEngland\\\\ASTWBDV001_N44W074_dem.tif', 'C:\\\\Users\\\\achans01\\\\Downloads\\\\WatBods\\\\Regions\\\\NewEngland\\\\ASTWBDV001_N44W075_att.tif', 'C:\\\\Users\\\\achans01\\\\Downloads\\\\WatBods\\\\Regions\\\\NewEngland\\\\ASTWBDV001_N44W075_dem.tif', 'C:\\\\Users\\\\achans01\\\\Downloads\\\\WatBods\\\\Regions\\\\NewEngland\\\\ASTWBDV001_N44W076_att.tif', 'C:\\\\Users\\\\achans01\\\\Downloads\\\\WatBods\\\\Regions\\\\NewEngland\\\\ASTWBDV001_N44W076_dem.tif', 'C:\\\\Users\\\\achans01\\\\Downloads\\\\WatBods\\\\Regions\\\\NewEngland\\\\ASTWBDV001_N44W077_att.tif', 'C:\\\\Users\\\\achans01\\\\Downloads\\\\WatBods\\\\Regions\\\\NewEngland\\\\ASTWBDV001_N44W077_dem.tif', 'C:\\\\Users\\\\achans01\\\\Downloads\\\\WatBods\\\\Regions\\\\NewEngland\\\\ASTWBDV001_N44W078_att.tif', 'C:\\\\Users\\\\achans01\\\\Downloads\\\\WatBods\\\\Regions\\\\NewEngland\\\\ASTWBDV001_N44W078_dem.tif', 'C:\\\\Users\\\\achans01\\\\Downloads\\\\WatBods\\\\Regions\\\\NewEngland\\\\ASTWBDV001_N44W079_att.tif', 'C:\\\\Users\\\\achans01\\\\Downloads\\\\WatBods\\\\Regions\\\\NewEngland\\\\ASTWBDV001_N44W079_dem.tif', 'C:\\\\Users\\\\achans01\\\\Downloads\\\\WatBods\\\\Regions\\\\NewEngland\\\\ASTWBDV001_N44W080_att.tif', 'C:\\\\Users\\\\achans01\\\\Downloads\\\\WatBods\\\\Regions\\\\NewEngland\\\\ASTWBDV001_N44W080_dem.tif', 'C:\\\\Users\\\\achans01\\\\Downloads\\\\WatBods\\\\Regions\\\\NewEngland\\\\ASTWBDV001_N45W067_att.tif', 'C:\\\\Users\\\\achans01\\\\Downloads\\\\WatBods\\\\Regions\\\\NewEngland\\\\ASTWBDV001_N45W067_dem.tif', 'C:\\\\Users\\\\achans01\\\\Downloads\\\\WatBods\\\\Regions\\\\NewEngland\\\\ASTWBDV001_N45W068_att.tif', 'C:\\\\Users\\\\achans01\\\\Downloads\\\\WatBods\\\\Regions\\\\NewEngland\\\\ASTWBDV001_N45W068_dem.tif', 'C:\\\\Users\\\\achans01\\\\Downloads\\\\WatBods\\\\Regions\\\\NewEngland\\\\ASTWBDV001_N45W069_att.tif', 'C:\\\\Users\\\\achans01\\\\Downloads\\\\WatBods\\\\Regions\\\\NewEngland\\\\ASTWBDV001_N45W069_dem.tif', 'C:\\\\Users\\\\achans01\\\\Downloads\\\\WatBods\\\\Regions\\\\NewEngland\\\\ASTWBDV001_N45W070_att.tif', 'C:\\\\Users\\\\achans01\\\\Downloads\\\\WatBods\\\\Regions\\\\NewEngland\\\\ASTWBDV001_N45W070_dem.tif', 'C:\\\\Users\\\\achans01\\\\Downloads\\\\WatBods\\\\Regions\\\\NewEngland\\\\ASTWBDV001_N45W071_att.tif', 'C:\\\\Users\\\\achans01\\\\Downloads\\\\WatBods\\\\Regions\\\\NewEngland\\\\ASTWBDV001_N45W071_dem.tif', 'C:\\\\Users\\\\achans01\\\\Downloads\\\\WatBods\\\\Regions\\\\NewEngland\\\\ASTWBDV001_N45W072_att.tif', 'C:\\\\Users\\\\achans01\\\\Downloads\\\\WatBods\\\\Regions\\\\NewEngland\\\\ASTWBDV001_N45W072_dem.tif', 'C:\\\\Users\\\\achans01\\\\Downloads\\\\WatBods\\\\Regions\\\\NewEngland\\\\ASTWBDV001_N45W073_att.tif', 'C:\\\\Users\\\\achans01\\\\Downloads\\\\WatBods\\\\Regions\\\\NewEngland\\\\ASTWBDV001_N45W073_dem.tif', 'C:\\\\Users\\\\achans01\\\\Downloads\\\\WatBods\\\\Regions\\\\NewEngland\\\\ASTWBDV001_N45W074_att.tif', 'C:\\\\Users\\\\achans01\\\\Downloads\\\\WatBods\\\\Regions\\\\NewEngland\\\\ASTWBDV001_N45W074_dem.tif', 'C:\\\\Users\\\\achans01\\\\Downloads\\\\WatBods\\\\Regions\\\\NewEngland\\\\ASTWBDV001_N45W075_att.tif', 'C:\\\\Users\\\\achans01\\\\Downloads\\\\WatBods\\\\Regions\\\\NewEngland\\\\ASTWBDV001_N45W075_dem.tif', 'C:\\\\Users\\\\achans01\\\\Downloads\\\\WatBods\\\\Regions\\\\NewEngland\\\\ASTWBDV001_N45W076_att.tif', 'C:\\\\Users\\\\achans01\\\\Downloads\\\\WatBods\\\\Regions\\\\NewEngland\\\\ASTWBDV001_N45W076_dem.tif', 'C:\\\\Users\\\\achans01\\\\Downloads\\\\WatBods\\\\Regions\\\\NewEngland\\\\ASTWBDV001_N46W068_att.tif', 'C:\\\\Users\\\\achans01\\\\Downloads\\\\WatBods\\\\Regions\\\\NewEngland\\\\ASTWBDV001_N46W068_dem.tif', 'C:\\\\Users\\\\achans01\\\\Downloads\\\\WatBods\\\\Regions\\\\NewEngland\\\\ASTWBDV001_N46W069_att.tif', 'C:\\\\Users\\\\achans01\\\\Downloads\\\\WatBods\\\\Regions\\\\NewEngland\\\\ASTWBDV001_N46W069_dem.tif', 'C:\\\\Users\\\\achans01\\\\Downloads\\\\WatBods\\\\Regions\\\\NewEngland\\\\ASTWBDV001_N46W070_att.tif', 'C:\\\\Users\\\\achans01\\\\Downloads\\\\WatBods\\\\Regions\\\\NewEngland\\\\ASTWBDV001_N46W070_dem.tif', 'C:\\\\Users\\\\achans01\\\\Downloads\\\\WatBods\\\\Regions\\\\NewEngland\\\\ASTWBDV001_N46W071_att.tif', 'C:\\\\Users\\\\achans01\\\\Downloads\\\\WatBods\\\\Regions\\\\NewEngland\\\\ASTWBDV001_N46W071_dem.tif', 'C:\\\\Users\\\\achans01\\\\Downloads\\\\WatBods\\\\Regions\\\\NewEngland\\\\ASTWBDV001_N46W072_att.tif', 'C:\\\\Users\\\\achans01\\\\Downloads\\\\WatBods\\\\Regions\\\\NewEngland\\\\ASTWBDV001_N46W072_dem.tif', 'C:\\\\Users\\\\achans01\\\\Downloads\\\\WatBods\\\\Regions\\\\NewEngland\\\\ASTWBDV001_N46W073_att.tif', 'C:\\\\Users\\\\achans01\\\\Downloads\\\\WatBods\\\\Regions\\\\NewEngland\\\\ASTWBDV001_N46W073_dem.tif', 'C:\\\\Users\\\\achans01\\\\Downloads\\\\WatBods\\\\Regions\\\\NewEngland\\\\ASTWBDV001_N46W074_att.tif', 'C:\\\\Users\\\\achans01\\\\Downloads\\\\WatBods\\\\Regions\\\\NewEngland\\\\ASTWBDV001_N46W074_dem.tif', 'C:\\\\Users\\\\achans01\\\\Downloads\\\\WatBods\\\\Regions\\\\NewEngland\\\\ASTWBDV001_N47W068_att.tif', 'C:\\\\Users\\\\achans01\\\\Downloads\\\\WatBods\\\\Regions\\\\NewEngland\\\\ASTWBDV001_N47W068_dem.tif', 'C:\\\\Users\\\\achans01\\\\Downloads\\\\WatBods\\\\Regions\\\\NewEngland\\\\ASTWBDV001_N47W069_att.tif', 'C:\\\\Users\\\\achans01\\\\Downloads\\\\WatBods\\\\Regions\\\\NewEngland\\\\ASTWBDV001_N47W069_dem.tif', 'C:\\\\Users\\\\achans01\\\\Downloads\\\\WatBods\\\\Regions\\\\NewEngland\\\\ASTWBDV001_N47W070_att.tif', 'C:\\\\Users\\\\achans01\\\\Downloads\\\\WatBods\\\\Regions\\\\NewEngland\\\\ASTWBDV001_N47W070_dem.tif', 'C:\\\\Users\\\\achans01\\\\Downloads\\\\WatBods\\\\Regions\\\\NewEngland\\\\ASTWBDV001_N47W071_att.tif', 'C:\\\\Users\\\\achans01\\\\Downloads\\\\WatBods\\\\Regions\\\\NewEngland\\\\ASTWBDV001_N47W071_dem.tif', 'C:\\\\Users\\\\achans01\\\\Downloads\\\\WatBods\\\\Regions\\\\NewEngland\\\\ASTWBDV001_N47W072_att.tif', 'C:\\\\Users\\\\achans01\\\\Downloads\\\\WatBods\\\\Regions\\\\NewEngland\\\\ASTWBDV001_N47W072_dem.tif', 'C:\\\\Users\\\\achans01\\\\Downloads\\\\WatBods\\\\Regions\\\\NewEngland\\\\ASTWBDV001_N47W073_att.tif', 'C:\\\\Users\\\\achans01\\\\Downloads\\\\WatBods\\\\Regions\\\\NewEngland\\\\ASTWBDV001_N47W073_dem.tif', 'C:\\\\Users\\\\achans01\\\\Downloads\\\\WatBods\\\\Regions\\\\NewEngland\\\\ASTWBDV001_N48W068_att.tif', 'C:\\\\Users\\\\achans01\\\\Downloads\\\\WatBods\\\\Regions\\\\NewEngland\\\\ASTWBDV001_N48W068_dem.tif', 'C:\\\\Users\\\\achans01\\\\Downloads\\\\WatBods\\\\Regions\\\\NewEngland\\\\ASTWBDV001_N48W069_att.tif', 'C:\\\\Users\\\\achans01\\\\Downloads\\\\WatBods\\\\Regions\\\\NewEngland\\\\ASTWBDV001_N48W069_dem.tif', 'C:\\\\Users\\\\achans01\\\\Downloads\\\\WatBods\\\\Regions\\\\NewEngland\\\\ASTWBDV001_N48W070_att.tif', 'C:\\\\Users\\\\achans01\\\\Downloads\\\\WatBods\\\\Regions\\\\NewEngland\\\\ASTWBDV001_N48W070_dem.tif', 'C:\\\\Users\\\\achans01\\\\Downloads\\\\WatBods\\\\Regions\\\\NewEngland\\\\ASTWBDV001_N49W068_att.tif', 'C:\\\\Users\\\\achans01\\\\Downloads\\\\WatBods\\\\Regions\\\\NewEngland\\\\ASTWBDV001_N49W068_dem.tif']\n"
     ]
    }
   ],
   "source": [
    "# Stuff we append to list may change slightly if raster does/does not have \"_att.tif\" at the end\n",
    "for i in range(0,num_aster):\n",
    "    aster_tifs.append(path_name + \"\\\\\" + aster_list[i]+\"\\\\\"+aster_list[i]+\"_att.tif\")\n",
    "print(aster_tifs)"
   ]
  },
  {
   "cell_type": "code",
   "execution_count": null,
   "metadata": {},
   "outputs": [],
   "source": []
  },
  {
   "cell_type": "code",
   "execution_count": 10,
   "metadata": {},
   "outputs": [
    {
     "data": {
      "text/plain": [
       "<Result 'C:\\\\Users\\\\achans01\\\\Downloads\\\\WatBods\\\\ASTER_ATTs\\\\NewEngland_att.tif'>"
      ]
     },
     "execution_count": 10,
     "metadata": {},
     "output_type": "execute_result"
    }
   ],
   "source": [
    "arcpy.CreateRasterDataset_management(\"C:\\\\Users\\\\achans01\\\\Downloads\\\\WatBods\\\\ASTER_ATTs\", eq_name+\"_att.tif\", \"\",\n",
    "                                     \"4_BIT\")"
   ]
  },
  {
   "cell_type": "code",
   "execution_count": 11,
   "metadata": {},
   "outputs": [],
   "source": [
    "target = \"C:\\\\Users\\\\achans01\\\\Downloads\\\\WatBods\\\\ASTER_ATTs\\\\\"+eq_name+\"_att.tif\"\n",
    "background_value = \"NULL\"\n",
    "nodata_value = \"0\""
   ]
  },
  {
   "cell_type": "code",
   "execution_count": 12,
   "metadata": {
    "collapsed": true
   },
   "outputs": [
    {
     "ename": "ExecuteError",
     "evalue": "Failed to execute. Parameters are not valid.\nERROR 000732: Input Rasters: Dataset C:\\Users\\achans01\\Downloads\\WatBods\\Regions\\NewEngland\\ASTWBDV001_N40W073_att.tif\\ASTWBDV001_N40W073_att.tif_att.tif does not exist or is not supported\nFailed to execute (Mosaic).\n",
     "output_type": "error",
     "traceback": [
      "\u001b[1;31m---------------------------------------------------------------------------\u001b[0m",
      "\u001b[1;31mExecuteError\u001b[0m                              Traceback (most recent call last)",
      "\u001b[1;32m<ipython-input-12-89006d9601af>\u001b[0m in \u001b[0;36m<module>\u001b[1;34m\u001b[0m\n\u001b[1;32m----> 1\u001b[1;33m \u001b[0marcpy\u001b[0m\u001b[1;33m.\u001b[0m\u001b[0mmanagement\u001b[0m\u001b[1;33m.\u001b[0m\u001b[0mMosaic\u001b[0m\u001b[1;33m(\u001b[0m\u001b[0master_tifs\u001b[0m\u001b[1;33m,\u001b[0m \u001b[0mtarget\u001b[0m\u001b[1;33m,\u001b[0m \u001b[1;34m\"\"\u001b[0m\u001b[1;33m,\u001b[0m \u001b[1;34m\"\"\u001b[0m\u001b[1;33m,\u001b[0m \u001b[1;34m\"\"\u001b[0m\u001b[1;33m,\u001b[0m \u001b[0mnodata_value\u001b[0m\u001b[1;33m)\u001b[0m\u001b[1;33m\u001b[0m\u001b[1;33m\u001b[0m\u001b[0m\n\u001b[0m",
      "\u001b[1;32mC:\\Program Files\\ArcGIS\\Pro\\Resources\\ArcPy\\arcpy\\management.py\u001b[0m in \u001b[0;36mMosaic\u001b[1;34m(inputs, target, mosaic_type, colormap, background_value, nodata_value, onebit_to_eightbit, mosaicking_tolerance, MatchingMethod)\u001b[0m\n\u001b[0;32m  16468\u001b[0m         \u001b[1;32mreturn\u001b[0m \u001b[0mretval\u001b[0m\u001b[1;33m\u001b[0m\u001b[1;33m\u001b[0m\u001b[0m\n\u001b[0;32m  16469\u001b[0m     \u001b[1;32mexcept\u001b[0m \u001b[0mException\u001b[0m \u001b[1;32mas\u001b[0m \u001b[0me\u001b[0m\u001b[1;33m:\u001b[0m\u001b[1;33m\u001b[0m\u001b[1;33m\u001b[0m\u001b[0m\n\u001b[1;32m> 16470\u001b[1;33m         \u001b[1;32mraise\u001b[0m \u001b[0me\u001b[0m\u001b[1;33m\u001b[0m\u001b[1;33m\u001b[0m\u001b[0m\n\u001b[0m\u001b[0;32m  16471\u001b[0m \u001b[1;33m\u001b[0m\u001b[0m\n\u001b[0;32m  16472\u001b[0m \u001b[1;33m@\u001b[0m\u001b[0mgptooldoc\u001b[0m\u001b[1;33m(\u001b[0m\u001b[1;34m'MosaicToNewRaster_management'\u001b[0m\u001b[1;33m,\u001b[0m \u001b[1;32mNone\u001b[0m\u001b[1;33m)\u001b[0m\u001b[1;33m\u001b[0m\u001b[1;33m\u001b[0m\u001b[0m\n",
      "\u001b[1;32mC:\\Program Files\\ArcGIS\\Pro\\Resources\\ArcPy\\arcpy\\management.py\u001b[0m in \u001b[0;36mMosaic\u001b[1;34m(inputs, target, mosaic_type, colormap, background_value, nodata_value, onebit_to_eightbit, mosaicking_tolerance, MatchingMethod)\u001b[0m\n\u001b[0;32m  16465\u001b[0m     \u001b[1;32mfrom\u001b[0m \u001b[0marcpy\u001b[0m\u001b[1;33m.\u001b[0m\u001b[0marcobjects\u001b[0m\u001b[1;33m.\u001b[0m\u001b[0marcobjectconversion\u001b[0m \u001b[1;32mimport\u001b[0m \u001b[0mconvertArcObjectToPythonObject\u001b[0m\u001b[1;33m\u001b[0m\u001b[1;33m\u001b[0m\u001b[0m\n\u001b[0;32m  16466\u001b[0m     \u001b[1;32mtry\u001b[0m\u001b[1;33m:\u001b[0m\u001b[1;33m\u001b[0m\u001b[1;33m\u001b[0m\u001b[0m\n\u001b[1;32m> 16467\u001b[1;33m         \u001b[0mretval\u001b[0m \u001b[1;33m=\u001b[0m \u001b[0mconvertArcObjectToPythonObject\u001b[0m\u001b[1;33m(\u001b[0m\u001b[0mgp\u001b[0m\u001b[1;33m.\u001b[0m\u001b[0mMosaic_management\u001b[0m\u001b[1;33m(\u001b[0m\u001b[1;33m*\u001b[0m\u001b[0mgp_fixargs\u001b[0m\u001b[1;33m(\u001b[0m\u001b[1;33m(\u001b[0m\u001b[0minputs\u001b[0m\u001b[1;33m,\u001b[0m \u001b[0mtarget\u001b[0m\u001b[1;33m,\u001b[0m \u001b[0mmosaic_type\u001b[0m\u001b[1;33m,\u001b[0m \u001b[0mcolormap\u001b[0m\u001b[1;33m,\u001b[0m \u001b[0mbackground_value\u001b[0m\u001b[1;33m,\u001b[0m \u001b[0mnodata_value\u001b[0m\u001b[1;33m,\u001b[0m \u001b[0monebit_to_eightbit\u001b[0m\u001b[1;33m,\u001b[0m \u001b[0mmosaicking_tolerance\u001b[0m\u001b[1;33m,\u001b[0m \u001b[0mMatchingMethod\u001b[0m\u001b[1;33m)\u001b[0m\u001b[1;33m,\u001b[0m \u001b[1;32mTrue\u001b[0m\u001b[1;33m)\u001b[0m\u001b[1;33m)\u001b[0m\u001b[1;33m)\u001b[0m\u001b[1;33m\u001b[0m\u001b[1;33m\u001b[0m\u001b[0m\n\u001b[0m\u001b[0;32m  16468\u001b[0m         \u001b[1;32mreturn\u001b[0m \u001b[0mretval\u001b[0m\u001b[1;33m\u001b[0m\u001b[1;33m\u001b[0m\u001b[0m\n\u001b[0;32m  16469\u001b[0m     \u001b[1;32mexcept\u001b[0m \u001b[0mException\u001b[0m \u001b[1;32mas\u001b[0m \u001b[0me\u001b[0m\u001b[1;33m:\u001b[0m\u001b[1;33m\u001b[0m\u001b[1;33m\u001b[0m\u001b[0m\n",
      "\u001b[1;32mC:\\Program Files\\ArcGIS\\Pro\\Resources\\ArcPy\\arcpy\\geoprocessing\\_base.py\u001b[0m in \u001b[0;36m<lambda>\u001b[1;34m(*args)\u001b[0m\n\u001b[0;32m    504\u001b[0m         \u001b[0mval\u001b[0m \u001b[1;33m=\u001b[0m \u001b[0mgetattr\u001b[0m\u001b[1;33m(\u001b[0m\u001b[0mself\u001b[0m\u001b[1;33m.\u001b[0m\u001b[0m_gp\u001b[0m\u001b[1;33m,\u001b[0m \u001b[0mattr\u001b[0m\u001b[1;33m)\u001b[0m\u001b[1;33m\u001b[0m\u001b[1;33m\u001b[0m\u001b[0m\n\u001b[0;32m    505\u001b[0m         \u001b[1;32mif\u001b[0m \u001b[0mcallable\u001b[0m\u001b[1;33m(\u001b[0m\u001b[0mval\u001b[0m\u001b[1;33m)\u001b[0m\u001b[1;33m:\u001b[0m\u001b[1;33m\u001b[0m\u001b[1;33m\u001b[0m\u001b[0m\n\u001b[1;32m--> 506\u001b[1;33m             \u001b[1;32mreturn\u001b[0m \u001b[1;32mlambda\u001b[0m \u001b[1;33m*\u001b[0m\u001b[0margs\u001b[0m\u001b[1;33m:\u001b[0m \u001b[0mval\u001b[0m\u001b[1;33m(\u001b[0m\u001b[1;33m*\u001b[0m\u001b[0mgp_fixargs\u001b[0m\u001b[1;33m(\u001b[0m\u001b[0margs\u001b[0m\u001b[1;33m,\u001b[0m \u001b[1;32mTrue\u001b[0m\u001b[1;33m)\u001b[0m\u001b[1;33m)\u001b[0m\u001b[1;33m\u001b[0m\u001b[1;33m\u001b[0m\u001b[0m\n\u001b[0m\u001b[0;32m    507\u001b[0m         \u001b[1;32melse\u001b[0m\u001b[1;33m:\u001b[0m\u001b[1;33m\u001b[0m\u001b[1;33m\u001b[0m\u001b[0m\n\u001b[0;32m    508\u001b[0m             \u001b[1;32mreturn\u001b[0m \u001b[0mconvertArcObjectToPythonObject\u001b[0m\u001b[1;33m(\u001b[0m\u001b[0mval\u001b[0m\u001b[1;33m)\u001b[0m\u001b[1;33m\u001b[0m\u001b[1;33m\u001b[0m\u001b[0m\n",
      "\u001b[1;31mExecuteError\u001b[0m: Failed to execute. Parameters are not valid.\nERROR 000732: Input Rasters: Dataset C:\\Users\\achans01\\Downloads\\WatBods\\Regions\\NewEngland\\ASTWBDV001_N40W073_att.tif\\ASTWBDV001_N40W073_att.tif_att.tif does not exist or is not supported\nFailed to execute (Mosaic).\n"
     ]
    }
   ],
   "source": [
    "arcpy.management.Mosaic(aster_tifs, target, \"\", \"\", \"\", nodata_value)"
   ]
  }
 ],
 "metadata": {
  "kernelspec": {
   "display_name": "Python 3",
   "language": "python",
   "name": "python3"
  },
  "language_info": {
   "codemirror_mode": {
    "name": "ipython",
    "version": 3
   },
   "file_extension": ".py",
   "mimetype": "text/x-python",
   "name": "python",
   "nbconvert_exporter": "python",
   "pygments_lexer": "ipython3",
   "version": "3.7.3"
  }
 },
 "nbformat": 4,
 "nbformat_minor": 2
}
