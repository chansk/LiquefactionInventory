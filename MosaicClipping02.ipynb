{
 "cells": [
  {
   "cell_type": "code",
   "execution_count": null,
   "metadata": {},
   "outputs": [],
   "source": [
    "# Alex Chansky\n",
    "# 2/19/21, 2/20/21\n",
    "# Purpose: Create new folder of quake name, extract DEM and place there and project. \n",
    "    # Then, go into Downloads directly and use GDAL codes to create slope, TPI, TRI\n",
    "    # Then Use the last block of this code to project slope, TPI, and TRI into appropriate folders"
   ]
  },
  {
   "cell_type": "code",
   "execution_count": 18,
   "metadata": {},
   "outputs": [],
   "source": [
    "# Import system modules\n",
    "import pandas as pd \n",
    "import os\n",
    "import arcpy\n",
    "from arcpy.sa import *"
   ]
  },
  {
   "cell_type": "code",
   "execution_count": 19,
   "metadata": {},
   "outputs": [],
   "source": [
    "arcpy.env.overwriteOutput = True"
   ]
  },
  {
   "cell_type": "code",
   "execution_count": 20,
   "metadata": {},
   "outputs": [],
   "source": [
    "from pathlib import Path\n",
    "downloads_path = str(Path.home() / \"Downloads\")"
   ]
  },
  {
   "cell_type": "code",
   "execution_count": 21,
   "metadata": {},
   "outputs": [],
   "source": [
    "# List of quakes and associated projections\n",
    "eq_list = pd.read_csv(\"R:\\Liquefaction_RemoteSensing\\Projects\\GeospatialModel\\global_data_2020\\eq_projections.csv\")"
   ]
  },
  {
   "cell_type": "code",
   "execution_count": 22,
   "metadata": {},
   "outputs": [],
   "source": [
    "# Locations of PGA and PGV\n",
    "input_path = \"R:\\Liquefaction_RemoteSensing\\Projects\\GeospatialModel\\global_data_2020\\PGA_PGV\""
   ]
  },
  {
   "cell_type": "code",
   "execution_count": 6,
   "metadata": {},
   "outputs": [],
   "source": [
    "# Identify DEMs and associated standard deviations\n",
    "dem_mosaic = downloads_path + \"\\\\DEM_Mosaic.tif\"\n",
    "dem_std_mosaic = downloads_path + \"\\\\DEM_Mosaic_STDs.tif\""
   ]
  },
  {
   "cell_type": "code",
   "execution_count": 23,
   "metadata": {},
   "outputs": [],
   "source": [
    "# Number of events\n",
    "num_eq = eq_list.shape[0]"
   ]
  },
  {
   "cell_type": "code",
   "execution_count": 24,
   "metadata": {},
   "outputs": [],
   "source": [
    "# Making sure we use smaller cell size (for next group (mosaic has smaller cell size than PGA))\n",
    "arcpy.env.cellSize = \"MINOF\""
   ]
  },
  {
   "cell_type": "code",
   "execution_count": 25,
   "metadata": {},
   "outputs": [],
   "source": [
    "sr = arcpy.SpatialReference(4326)"
   ]
  },
  {
   "cell_type": "code",
   "execution_count": 12,
   "metadata": {},
   "outputs": [],
   "source": [
    "for x in range(17,num_eq):\n",
    "    eq_name = eq_list['NewFolder'][x]\n",
    "    eq_proj = eq_list['ProjectionCode'][x]\n",
    "    pga = input_path + \"\\\\\" + eq_name + \"\\\\pga_mean.flt\"\n",
    "    \n",
    "    # Create folder\n",
    "    out_folder_path = \"R:\\Liquefaction_RemoteSensing\\Projects\\GeospatialModel\\local_data_2021_Alex\" \n",
    "    arcpy.CreateFolder_management(out_folder_path, eq_name)\n",
    "\n",
    "    # Extract DEM, Define and project\n",
    "    out_DEM = ExtractByMask(dem_mosaic, pga)\n",
    "    out_DEM.save(out_folder_path+\"\\\\\"+eq_name+\"\\\\\"+eq_name+\"_GMTED_clipped.tif\")\n",
    "    arcpy.DefineProjection_management(out_DEM, sr)\n",
    "    out_DEM_proj = out_folder_path+\"\\\\\"+eq_name+\"\\\\\"+eq_name+\"_GMTED_clipped_proj.tif\"\n",
    "    arcpy.management.ProjectRaster(out_DEM, out_DEM_proj, int(eq_proj),\"BILINEAR\")\n",
    "    \n",
    "    \n",
    "    # Extract DEM std dev, define and project\n",
    "    out_DEM_std = ExtractByMask(dem_std_mosaic, pga)\n",
    "    out_DEM_std.save(out_folder_path+\"\\\\\"+eq_name+\"\\\\\"+eq_name+\"_GMTED_std_clipped.tif\")\n",
    "    arcpy.DefineProjection_management(out_DEM_std, sr)\n",
    "    out_DEM_std_proj = out_folder_path+\"\\\\\"+eq_name+\"\\\\\"+eq_name+\"_GMTED_std_clipped_proj.tif\"\n",
    "    arcpy.management.ProjectRaster(out_DEM_std, out_DEM_std_proj, int(eq_proj),\"BILINEAR\")"
   ]
  },
  {
   "cell_type": "code",
   "execution_count": 39,
   "metadata": {},
   "outputs": [],
   "source": [
    "# Projecting TRI, TPI, slope WITHOUT creating new files\n",
    "for x in range(1,num_eq):\n",
    "    eq_name = eq_list['NewFolder'][x]\n",
    "    eq_proj = eq_list['ProjectionCode'][x]\n",
    "    \n",
    "    out_folder_path = \"R:\\Liquefaction_RemoteSensing\\Projects\\GeospatialModel\\local_data_2021_Alex\"\n",
    "    \n",
    "    slope = out_folder_path + \"\\\\\"+eq_name+\"\\\\\"+eq_name+\"_slope.tif\"\n",
    "    slope_proj = out_folder_path + \"\\\\\"+eq_name+\"\\\\\"+eq_name+\"_slope_proj.tif\"\n",
    "    \n",
    "    arcpy.DefineProjection_management(slope, int(eq_proj))\n",
    "    \n",
    "    TRI = out_folder_path + \"\\\\\"+eq_name+\"\\\\\"+eq_name+\"_TRI.tif\"\n",
    "    TRI_proj = out_folder_path + \"\\\\\"+eq_name+\"\\\\\"+eq_name+\"_TRI_proj.tif\"\n",
    "    \n",
    "    arcpy.DefineProjection_management(TRI, int(eq_proj))\n",
    "    \n",
    "    TPI = out_folder_path + \"\\\\\"+eq_name+\"\\\\\"+eq_name+\"_TPI.tif\"\n",
    "    TPI_proj = out_folder_path + \"\\\\\"+eq_name+\"\\\\\"+eq_name+\"_TPI_proj.tif\"\n",
    "    \n",
    "    arcpy.DefineProjection_management(TPI, int(eq_proj))"
   ]
  }
 ],
 "metadata": {
  "kernelspec": {
   "display_name": "Python 3",
   "language": "python",
   "name": "python3"
  },
  "language_info": {
   "codemirror_mode": {
    "name": "ipython",
    "version": 3
   },
   "file_extension": ".py",
   "mimetype": "text/x-python",
   "name": "python",
   "nbconvert_exporter": "python",
   "pygments_lexer": "ipython3",
   "version": "3.7.3"
  }
 },
 "nbformat": 4,
 "nbformat_minor": 2
}
