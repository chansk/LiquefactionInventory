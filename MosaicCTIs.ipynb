{
 "cells": [
  {
   "cell_type": "code",
   "execution_count": 1,
   "metadata": {},
   "outputs": [],
   "source": [
    "# Alex Chansky\n",
    "# 2/23/21\n",
    "# Purpose: Creating mosaic of all CTI layers\n",
    "# Downloaded from https://www.sciencebase.gov/catalog/folder/5910def6e4b0e541a03ac98c\n",
    "\n",
    "# Import system modules\n",
    "import pandas as pd \n",
    "import os\n",
    "import arcpy"
   ]
  },
  {
   "cell_type": "code",
   "execution_count": 2,
   "metadata": {},
   "outputs": [],
   "source": [
    "# Change working directory\n",
    "os.chdir(\"C:\\\\Users\\\\achans01\\\\Downloads\\\\CTIs\")"
   ]
  },
  {
   "cell_type": "code",
   "execution_count": 3,
   "metadata": {},
   "outputs": [],
   "source": [
    "cti_tifs = [\"as_cti_1_1\\\\as_cti_1_1.tif\",\n",
    "            \"as_cti_1_2\\\\as_cti_1_2.tif\",\n",
    "            \"as_cti_1_3\\\\as_cti_1_3.tif\",\n",
    "            \"as_cti_1_4\\\\as_cti_1_4.tif\",\n",
    "            \"as_cti_7_2\\\\as_cti_7_2.tif\",\n",
    "            \"as_cti_8\\\\as_cti_8.tif\",\n",
    "            \"as_cti_9_1\\\\as_cti_9_1.tif\",\n",
    "            \"as_cti_9_2\\\\as_cti_9_2.tif\",\n",
    "            \"as_cti_9_3\\\\as_cti_9_3.tif\",\n",
    "            \"as_cti_9_4\\\\as_cti_9_4.tif\",\n",
    "            \"eu_cti_0\\\\eu_cti_0.tif\",\n",
    "            \"eu_cti_1\\\\eu_cti_1.tif\",\n",
    "            \"eu_cti_2\\\\eu_cti_2.tif\",\n",
    "            \"eu_cti_3\\\\eu_cti_3.tif\",\n",
    "            \"eu_cti_5\\\\eu_cti_5.tif\",\n",
    "            \"eu_cti_7\\\\eu_cti_7.tif\",\n",
    "            \"eu_cti_9_1\\\\eu_cti_9_1.tif\",\n",
    "            \"na_cti_0\\\\na_cti_0.tif\",\n",
    "            \"na_cti_1_1\\\\na_cti_1_1.tif\",\n",
    "            \"na_cti_1_2\\\\na_cti_1_2.tif\",\n",
    "            \"na_cti_4\\\\na_cti_4.tif\",\n",
    "            \"na_cti_7\\\\na_cti_7.tif\",\n",
    "            \"na_cti_8\\\\na_cti_8.tif\",\n",
    "            \"na_cti_9\\\\na_cti_9.tif\",\n",
    "            \"sa_cti_0\\\\sa_cti_0.tif\",\n",
    "            \"sa_cti_1\\\\sa_cti_1.tif\",\n",
    "            \"sa_cti_4\\\\sa_cti_4.tif\",\n",
    "            \"sa_cti_9\\\\sa_cti_9.tif\"]"
   ]
  },
  {
   "cell_type": "code",
   "execution_count": 4,
   "metadata": {},
   "outputs": [],
   "source": [
    "cti_tifs = [\"C:\\\\Users\\\\achans01\\\\Downloads\\\\CTIs\\\\au_cti_9_1\\\\au_cti_9_1.tif\",\n",
    "            \"R:\\Liquefaction_RemoteSensing\\Projects\\GeospatialModel\\local_data_2021_Alex\\_GlobalRasters\\CTI_Mosaic_03.tif\"]"
   ]
  },
  {
   "cell_type": "code",
   "execution_count": null,
   "metadata": {},
   "outputs": [],
   "source": []
  },
  {
   "cell_type": "code",
   "execution_count": 5,
   "metadata": {},
   "outputs": [],
   "source": [
    "path_name = \"R:\\Liquefaction_RemoteSensing\\Projects\\GeospatialModel\\local_data_2021_Alex\\_GlobalRasters\""
   ]
  },
  {
   "cell_type": "code",
   "execution_count": 6,
   "metadata": {},
   "outputs": [],
   "source": [
    "output_name = \"CTI_Mosaic_04.tif\""
   ]
  },
  {
   "cell_type": "code",
   "execution_count": 7,
   "metadata": {
    "collapsed": true
   },
   "outputs": [
    {
     "ename": "ExecuteError",
     "evalue": "ERROR 999999: Something unexpected caused the tool to fail. Contact Esri Technical Support (http://esriurl.com/support) to Report a Bug, and refer to the error help for potential solutions or workarounds.\nFailed to execute (MosaicToNewRaster).\n",
     "output_type": "error",
     "traceback": [
      "\u001b[1;31m---------------------------------------------------------------------------\u001b[0m",
      "\u001b[1;31mExecuteError\u001b[0m                              Traceback (most recent call last)",
      "\u001b[1;32m<ipython-input-7-11d175c87db0>\u001b[0m in \u001b[0;36m<module>\u001b[1;34m\u001b[0m\n\u001b[1;32m----> 1\u001b[1;33m \u001b[0marcpy\u001b[0m\u001b[1;33m.\u001b[0m\u001b[0mMosaicToNewRaster_management\u001b[0m\u001b[1;33m(\u001b[0m\u001b[0mcti_tifs\u001b[0m\u001b[1;33m,\u001b[0m \u001b[0mpath_name\u001b[0m\u001b[1;33m,\u001b[0m \u001b[0moutput_name\u001b[0m\u001b[1;33m,\u001b[0m \u001b[1;34m\"\"\u001b[0m\u001b[1;33m,\u001b[0m \u001b[1;34m\"16_BIT_SIGNED\"\u001b[0m\u001b[1;33m,\u001b[0m \u001b[1;34m\"\"\u001b[0m\u001b[1;33m,\u001b[0m \u001b[1;34m\"1\"\u001b[0m\u001b[1;33m,\u001b[0m \u001b[1;34m\"MEAN\"\u001b[0m\u001b[1;33m,\u001b[0m \u001b[1;34m\"FIRST\"\u001b[0m\u001b[1;33m)\u001b[0m\u001b[1;33m\u001b[0m\u001b[1;33m\u001b[0m\u001b[0m\n\u001b[0m",
      "\u001b[1;32mC:\\Program Files\\ArcGIS\\Pro\\Resources\\ArcPy\\arcpy\\management.py\u001b[0m in \u001b[0;36mMosaicToNewRaster\u001b[1;34m(input_rasters, output_location, raster_dataset_name_with_extension, coordinate_system_for_the_raster, pixel_type, cellsize, number_of_bands, mosaic_method, mosaic_colormap_mode)\u001b[0m\n\u001b[0;32m  16610\u001b[0m         \u001b[1;32mreturn\u001b[0m \u001b[0mretval\u001b[0m\u001b[1;33m\u001b[0m\u001b[1;33m\u001b[0m\u001b[0m\n\u001b[0;32m  16611\u001b[0m     \u001b[1;32mexcept\u001b[0m \u001b[0mException\u001b[0m \u001b[1;32mas\u001b[0m \u001b[0me\u001b[0m\u001b[1;33m:\u001b[0m\u001b[1;33m\u001b[0m\u001b[1;33m\u001b[0m\u001b[0m\n\u001b[1;32m> 16612\u001b[1;33m         \u001b[1;32mraise\u001b[0m \u001b[0me\u001b[0m\u001b[1;33m\u001b[0m\u001b[1;33m\u001b[0m\u001b[0m\n\u001b[0m\u001b[0;32m  16613\u001b[0m \u001b[1;33m\u001b[0m\u001b[0m\n\u001b[0;32m  16614\u001b[0m \u001b[1;33m@\u001b[0m\u001b[0mgptooldoc\u001b[0m\u001b[1;33m(\u001b[0m\u001b[1;34m'WorkspaceToRasterDataset_management'\u001b[0m\u001b[1;33m,\u001b[0m \u001b[1;32mNone\u001b[0m\u001b[1;33m)\u001b[0m\u001b[1;33m\u001b[0m\u001b[1;33m\u001b[0m\u001b[0m\n",
      "\u001b[1;32mC:\\Program Files\\ArcGIS\\Pro\\Resources\\ArcPy\\arcpy\\management.py\u001b[0m in \u001b[0;36mMosaicToNewRaster\u001b[1;34m(input_rasters, output_location, raster_dataset_name_with_extension, coordinate_system_for_the_raster, pixel_type, cellsize, number_of_bands, mosaic_method, mosaic_colormap_mode)\u001b[0m\n\u001b[0;32m  16607\u001b[0m     \u001b[1;32mfrom\u001b[0m \u001b[0marcpy\u001b[0m\u001b[1;33m.\u001b[0m\u001b[0marcobjects\u001b[0m\u001b[1;33m.\u001b[0m\u001b[0marcobjectconversion\u001b[0m \u001b[1;32mimport\u001b[0m \u001b[0mconvertArcObjectToPythonObject\u001b[0m\u001b[1;33m\u001b[0m\u001b[1;33m\u001b[0m\u001b[0m\n\u001b[0;32m  16608\u001b[0m     \u001b[1;32mtry\u001b[0m\u001b[1;33m:\u001b[0m\u001b[1;33m\u001b[0m\u001b[1;33m\u001b[0m\u001b[0m\n\u001b[1;32m> 16609\u001b[1;33m         \u001b[0mretval\u001b[0m \u001b[1;33m=\u001b[0m \u001b[0mconvertArcObjectToPythonObject\u001b[0m\u001b[1;33m(\u001b[0m\u001b[0mgp\u001b[0m\u001b[1;33m.\u001b[0m\u001b[0mMosaicToNewRaster_management\u001b[0m\u001b[1;33m(\u001b[0m\u001b[1;33m*\u001b[0m\u001b[0mgp_fixargs\u001b[0m\u001b[1;33m(\u001b[0m\u001b[1;33m(\u001b[0m\u001b[0minput_rasters\u001b[0m\u001b[1;33m,\u001b[0m \u001b[0moutput_location\u001b[0m\u001b[1;33m,\u001b[0m \u001b[0mraster_dataset_name_with_extension\u001b[0m\u001b[1;33m,\u001b[0m \u001b[0mcoordinate_system_for_the_raster\u001b[0m\u001b[1;33m,\u001b[0m \u001b[0mpixel_type\u001b[0m\u001b[1;33m,\u001b[0m \u001b[0mcellsize\u001b[0m\u001b[1;33m,\u001b[0m \u001b[0mnumber_of_bands\u001b[0m\u001b[1;33m,\u001b[0m \u001b[0mmosaic_method\u001b[0m\u001b[1;33m,\u001b[0m \u001b[0mmosaic_colormap_mode\u001b[0m\u001b[1;33m)\u001b[0m\u001b[1;33m,\u001b[0m \u001b[1;32mTrue\u001b[0m\u001b[1;33m)\u001b[0m\u001b[1;33m)\u001b[0m\u001b[1;33m)\u001b[0m\u001b[1;33m\u001b[0m\u001b[1;33m\u001b[0m\u001b[0m\n\u001b[0m\u001b[0;32m  16610\u001b[0m         \u001b[1;32mreturn\u001b[0m \u001b[0mretval\u001b[0m\u001b[1;33m\u001b[0m\u001b[1;33m\u001b[0m\u001b[0m\n\u001b[0;32m  16611\u001b[0m     \u001b[1;32mexcept\u001b[0m \u001b[0mException\u001b[0m \u001b[1;32mas\u001b[0m \u001b[0me\u001b[0m\u001b[1;33m:\u001b[0m\u001b[1;33m\u001b[0m\u001b[1;33m\u001b[0m\u001b[0m\n",
      "\u001b[1;32mC:\\Program Files\\ArcGIS\\Pro\\Resources\\ArcPy\\arcpy\\geoprocessing\\_base.py\u001b[0m in \u001b[0;36m<lambda>\u001b[1;34m(*args)\u001b[0m\n\u001b[0;32m    504\u001b[0m         \u001b[0mval\u001b[0m \u001b[1;33m=\u001b[0m \u001b[0mgetattr\u001b[0m\u001b[1;33m(\u001b[0m\u001b[0mself\u001b[0m\u001b[1;33m.\u001b[0m\u001b[0m_gp\u001b[0m\u001b[1;33m,\u001b[0m \u001b[0mattr\u001b[0m\u001b[1;33m)\u001b[0m\u001b[1;33m\u001b[0m\u001b[1;33m\u001b[0m\u001b[0m\n\u001b[0;32m    505\u001b[0m         \u001b[1;32mif\u001b[0m \u001b[0mcallable\u001b[0m\u001b[1;33m(\u001b[0m\u001b[0mval\u001b[0m\u001b[1;33m)\u001b[0m\u001b[1;33m:\u001b[0m\u001b[1;33m\u001b[0m\u001b[1;33m\u001b[0m\u001b[0m\n\u001b[1;32m--> 506\u001b[1;33m             \u001b[1;32mreturn\u001b[0m \u001b[1;32mlambda\u001b[0m \u001b[1;33m*\u001b[0m\u001b[0margs\u001b[0m\u001b[1;33m:\u001b[0m \u001b[0mval\u001b[0m\u001b[1;33m(\u001b[0m\u001b[1;33m*\u001b[0m\u001b[0mgp_fixargs\u001b[0m\u001b[1;33m(\u001b[0m\u001b[0margs\u001b[0m\u001b[1;33m,\u001b[0m \u001b[1;32mTrue\u001b[0m\u001b[1;33m)\u001b[0m\u001b[1;33m)\u001b[0m\u001b[1;33m\u001b[0m\u001b[1;33m\u001b[0m\u001b[0m\n\u001b[0m\u001b[0;32m    507\u001b[0m         \u001b[1;32melse\u001b[0m\u001b[1;33m:\u001b[0m\u001b[1;33m\u001b[0m\u001b[1;33m\u001b[0m\u001b[0m\n\u001b[0;32m    508\u001b[0m             \u001b[1;32mreturn\u001b[0m \u001b[0mconvertArcObjectToPythonObject\u001b[0m\u001b[1;33m(\u001b[0m\u001b[0mval\u001b[0m\u001b[1;33m)\u001b[0m\u001b[1;33m\u001b[0m\u001b[1;33m\u001b[0m\u001b[0m\n",
      "\u001b[1;31mExecuteError\u001b[0m: ERROR 999999: Something unexpected caused the tool to fail. Contact Esri Technical Support (http://esriurl.com/support) to Report a Bug, and refer to the error help for potential solutions or workarounds.\nFailed to execute (MosaicToNewRaster).\n"
     ]
    }
   ],
   "source": [
    "arcpy.MosaicToNewRaster_management(cti_tifs, path_name, output_name, \"\", \"16_BIT_SIGNED\", \"\", \"1\", \"MEAN\", \"FIRST\")"
   ]
  },
  {
   "cell_type": "code",
   "execution_count": 23,
   "metadata": {},
   "outputs": [],
   "source": [
    "arcpy.env.overwriteOutput = True"
   ]
  },
  {
   "cell_type": "code",
   "execution_count": 7,
   "metadata": {},
   "outputs": [
    {
     "data": {
      "text/plain": [
       "'CTI_Mosaic_03.tif'"
      ]
     },
     "execution_count": 7,
     "metadata": {},
     "output_type": "execute_result"
    }
   ],
   "source": [
    "output_name"
   ]
  },
  {
   "cell_type": "code",
   "execution_count": 8,
   "metadata": {},
   "outputs": [
    {
     "data": {
      "text/plain": [
       "'R:\\\\Liquefaction_RemoteSensing\\\\Projects\\\\GeospatialModel\\\\local_data_2021_Alex\\\\_GlobalRasters\\\\CTI_Mosaic_03'"
      ]
     },
     "execution_count": 8,
     "metadata": {},
     "output_type": "execute_result"
    }
   ],
   "source": [
    "\"R:\\Liquefaction_RemoteSensing\\Projects\\GeospatialModel\\local_data_2021_Alex\\_GlobalRasters\\CTI_Mosaic_03\""
   ]
  },
  {
   "cell_type": "code",
   "execution_count": null,
   "metadata": {},
   "outputs": [],
   "source": []
  }
 ],
 "metadata": {
  "kernelspec": {
   "display_name": "Python 3",
   "language": "python",
   "name": "python3"
  },
  "language_info": {
   "codemirror_mode": {
    "name": "ipython",
    "version": 3
   },
   "file_extension": ".py",
   "mimetype": "text/x-python",
   "name": "python",
   "nbconvert_exporter": "python",
   "pygments_lexer": "ipython3",
   "version": "3.6.8"
  }
 },
 "nbformat": 4,
 "nbformat_minor": 2
}
